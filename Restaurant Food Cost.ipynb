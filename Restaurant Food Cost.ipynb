{
 "cells": [
  {
   "cell_type": "code",
   "execution_count": 1,
   "id": "39b5f588",
   "metadata": {},
   "outputs": [],
   "source": [
    "import pandas as pd\n",
    "import numpy as np\n",
    "import seaborn as sns\n",
    "import matplotlib.pyplot as plt\n",
    "import warnings\n",
    "warnings.filterwarnings('ignore')"
   ]
  },
  {
   "cell_type": "code",
   "execution_count": 2,
   "id": "282d026c",
   "metadata": {},
   "outputs": [
    {
     "data": {
      "text/html": [
       "<div>\n",
       "<style scoped>\n",
       "    .dataframe tbody tr th:only-of-type {\n",
       "        vertical-align: middle;\n",
       "    }\n",
       "\n",
       "    .dataframe tbody tr th {\n",
       "        vertical-align: top;\n",
       "    }\n",
       "\n",
       "    .dataframe thead th {\n",
       "        text-align: right;\n",
       "    }\n",
       "</style>\n",
       "<table border=\"1\" class=\"dataframe\">\n",
       "  <thead>\n",
       "    <tr style=\"text-align: right;\">\n",
       "      <th></th>\n",
       "      <th>TITLE</th>\n",
       "      <th>RESTAURANT_ID</th>\n",
       "      <th>CUISINES</th>\n",
       "      <th>TIME</th>\n",
       "      <th>CITY</th>\n",
       "      <th>LOCALITY</th>\n",
       "      <th>RATING</th>\n",
       "      <th>VOTES</th>\n",
       "      <th>COST</th>\n",
       "    </tr>\n",
       "  </thead>\n",
       "  <tbody>\n",
       "    <tr>\n",
       "      <th>0</th>\n",
       "      <td>CASUAL DINING</td>\n",
       "      <td>9438</td>\n",
       "      <td>Malwani, Goan, North Indian</td>\n",
       "      <td>11am – 4pm, 7:30pm – 11:30pm (Mon-Sun)</td>\n",
       "      <td>Thane</td>\n",
       "      <td>Dombivali East</td>\n",
       "      <td>3.6</td>\n",
       "      <td>49 votes</td>\n",
       "      <td>1200</td>\n",
       "    </tr>\n",
       "    <tr>\n",
       "      <th>1</th>\n",
       "      <td>CASUAL DINING,BAR</td>\n",
       "      <td>13198</td>\n",
       "      <td>Asian, Modern Indian, Japanese</td>\n",
       "      <td>6pm – 11pm (Mon-Sun)</td>\n",
       "      <td>Chennai</td>\n",
       "      <td>Ramapuram</td>\n",
       "      <td>4.2</td>\n",
       "      <td>30 votes</td>\n",
       "      <td>1500</td>\n",
       "    </tr>\n",
       "    <tr>\n",
       "      <th>2</th>\n",
       "      <td>CASUAL DINING</td>\n",
       "      <td>10915</td>\n",
       "      <td>North Indian, Chinese, Biryani, Hyderabadi</td>\n",
       "      <td>11am – 3:30pm, 7pm – 11pm (Mon-Sun)</td>\n",
       "      <td>Chennai</td>\n",
       "      <td>Saligramam</td>\n",
       "      <td>3.8</td>\n",
       "      <td>221 votes</td>\n",
       "      <td>800</td>\n",
       "    </tr>\n",
       "    <tr>\n",
       "      <th>3</th>\n",
       "      <td>QUICK BITES</td>\n",
       "      <td>6346</td>\n",
       "      <td>Tibetan, Chinese</td>\n",
       "      <td>11:30am – 1am (Mon-Sun)</td>\n",
       "      <td>Mumbai</td>\n",
       "      <td>Bandra West</td>\n",
       "      <td>4.1</td>\n",
       "      <td>24 votes</td>\n",
       "      <td>800</td>\n",
       "    </tr>\n",
       "    <tr>\n",
       "      <th>4</th>\n",
       "      <td>DESSERT PARLOR</td>\n",
       "      <td>15387</td>\n",
       "      <td>Desserts</td>\n",
       "      <td>11am – 1am (Mon-Sun)</td>\n",
       "      <td>Mumbai</td>\n",
       "      <td>Lower Parel</td>\n",
       "      <td>3.8</td>\n",
       "      <td>165 votes</td>\n",
       "      <td>300</td>\n",
       "    </tr>\n",
       "    <tr>\n",
       "      <th>...</th>\n",
       "      <td>...</td>\n",
       "      <td>...</td>\n",
       "      <td>...</td>\n",
       "      <td>...</td>\n",
       "      <td>...</td>\n",
       "      <td>...</td>\n",
       "      <td>...</td>\n",
       "      <td>...</td>\n",
       "      <td>...</td>\n",
       "    </tr>\n",
       "    <tr>\n",
       "      <th>12685</th>\n",
       "      <td>QUICK BITES</td>\n",
       "      <td>13228</td>\n",
       "      <td>North Indian, Burger, Kebab</td>\n",
       "      <td>12noon – 12midnight (Mon, Tue, Wed, Thu, Sun)...</td>\n",
       "      <td>Hyderabad</td>\n",
       "      <td>Gachibowli</td>\n",
       "      <td>3.8</td>\n",
       "      <td>546 votes</td>\n",
       "      <td>500</td>\n",
       "    </tr>\n",
       "    <tr>\n",
       "      <th>12686</th>\n",
       "      <td>CASUAL DINING,BAR</td>\n",
       "      <td>9686</td>\n",
       "      <td>Goan, Continental</td>\n",
       "      <td>12noon – 1am (Mon-Fri),11am – 5pm, 7pm – 1am...</td>\n",
       "      <td>Mumbai</td>\n",
       "      <td>Bandra Kurla Complex</td>\n",
       "      <td>4.3</td>\n",
       "      <td>1214 votes</td>\n",
       "      <td>1800</td>\n",
       "    </tr>\n",
       "    <tr>\n",
       "      <th>12687</th>\n",
       "      <td>LOUNGE</td>\n",
       "      <td>11133</td>\n",
       "      <td>Finger Food, Continental, Asian, Chinese</td>\n",
       "      <td>12noon – 12:30AM (Mon-Sun)</td>\n",
       "      <td>Navi Mumbai</td>\n",
       "      <td>Vashi</td>\n",
       "      <td>4.0</td>\n",
       "      <td>608 votes</td>\n",
       "      <td>1300</td>\n",
       "    </tr>\n",
       "    <tr>\n",
       "      <th>12688</th>\n",
       "      <td>CASUAL DINING</td>\n",
       "      <td>6134</td>\n",
       "      <td>North Indian, South Indian, Chinese, Street Food</td>\n",
       "      <td>6am – 10:45pm (Mon-Sun)</td>\n",
       "      <td>Chennai</td>\n",
       "      <td>Maduravoyal</td>\n",
       "      <td>3.5</td>\n",
       "      <td>32 votes</td>\n",
       "      <td>400</td>\n",
       "    </tr>\n",
       "    <tr>\n",
       "      <th>12689</th>\n",
       "      <td>CASUAL DINING</td>\n",
       "      <td>6430</td>\n",
       "      <td>North Indian, Chinese</td>\n",
       "      <td>12:30pm – 11pm (Mon-Sun)</td>\n",
       "      <td>Hyderabad</td>\n",
       "      <td>Vanasthalipuram</td>\n",
       "      <td>3.4</td>\n",
       "      <td>677 votes</td>\n",
       "      <td>600</td>\n",
       "    </tr>\n",
       "  </tbody>\n",
       "</table>\n",
       "<p>12690 rows × 9 columns</p>\n",
       "</div>"
      ],
      "text/plain": [
       "                   TITLE  RESTAURANT_ID  \\\n",
       "0          CASUAL DINING           9438   \n",
       "1      CASUAL DINING,BAR          13198   \n",
       "2          CASUAL DINING          10915   \n",
       "3            QUICK BITES           6346   \n",
       "4         DESSERT PARLOR          15387   \n",
       "...                  ...            ...   \n",
       "12685        QUICK BITES          13228   \n",
       "12686  CASUAL DINING,BAR           9686   \n",
       "12687             LOUNGE          11133   \n",
       "12688      CASUAL DINING           6134   \n",
       "12689      CASUAL DINING           6430   \n",
       "\n",
       "                                               CUISINES  \\\n",
       "0                           Malwani, Goan, North Indian   \n",
       "1                        Asian, Modern Indian, Japanese   \n",
       "2            North Indian, Chinese, Biryani, Hyderabadi   \n",
       "3                                      Tibetan, Chinese   \n",
       "4                                              Desserts   \n",
       "...                                                 ...   \n",
       "12685                       North Indian, Burger, Kebab   \n",
       "12686                                 Goan, Continental   \n",
       "12687          Finger Food, Continental, Asian, Chinese   \n",
       "12688  North Indian, South Indian, Chinese, Street Food   \n",
       "12689                             North Indian, Chinese   \n",
       "\n",
       "                                                   TIME         CITY  \\\n",
       "0                11am – 4pm, 7:30pm – 11:30pm (Mon-Sun)        Thane   \n",
       "1                                  6pm – 11pm (Mon-Sun)      Chennai   \n",
       "2                   11am – 3:30pm, 7pm – 11pm (Mon-Sun)      Chennai   \n",
       "3                               11:30am – 1am (Mon-Sun)       Mumbai   \n",
       "4                                  11am – 1am (Mon-Sun)       Mumbai   \n",
       "...                                                 ...          ...   \n",
       "12685  12noon – 12midnight (Mon, Tue, Wed, Thu, Sun)...    Hyderabad   \n",
       "12686   12noon – 1am (Mon-Fri),11am – 5pm, 7pm – 1am...       Mumbai   \n",
       "12687                        12noon – 12:30AM (Mon-Sun)  Navi Mumbai   \n",
       "12688                           6am – 10:45pm (Mon-Sun)      Chennai   \n",
       "12689                          12:30pm – 11pm (Mon-Sun)    Hyderabad   \n",
       "\n",
       "                   LOCALITY RATING       VOTES  COST  \n",
       "0            Dombivali East    3.6    49 votes  1200  \n",
       "1                 Ramapuram    4.2    30 votes  1500  \n",
       "2                Saligramam    3.8   221 votes   800  \n",
       "3               Bandra West    4.1    24 votes   800  \n",
       "4               Lower Parel    3.8   165 votes   300  \n",
       "...                     ...    ...         ...   ...  \n",
       "12685            Gachibowli    3.8   546 votes   500  \n",
       "12686  Bandra Kurla Complex    4.3  1214 votes  1800  \n",
       "12687                 Vashi    4.0   608 votes  1300  \n",
       "12688           Maduravoyal    3.5    32 votes   400  \n",
       "12689       Vanasthalipuram    3.4   677 votes   600  \n",
       "\n",
       "[12690 rows x 9 columns]"
      ]
     },
     "execution_count": 2,
     "metadata": {},
     "output_type": "execute_result"
    }
   ],
   "source": [
    "df=pd.read_excel(\"Restaurant Food Cost - Data_Train.xlsx\")\n",
    "df"
   ]
  },
  {
   "cell_type": "code",
   "execution_count": 3,
   "id": "14e6e218",
   "metadata": {},
   "outputs": [
    {
     "data": {
      "text/html": [
       "<div>\n",
       "<style scoped>\n",
       "    .dataframe tbody tr th:only-of-type {\n",
       "        vertical-align: middle;\n",
       "    }\n",
       "\n",
       "    .dataframe tbody tr th {\n",
       "        vertical-align: top;\n",
       "    }\n",
       "\n",
       "    .dataframe thead th {\n",
       "        text-align: right;\n",
       "    }\n",
       "</style>\n",
       "<table border=\"1\" class=\"dataframe\">\n",
       "  <thead>\n",
       "    <tr style=\"text-align: right;\">\n",
       "      <th></th>\n",
       "      <th>TITLE</th>\n",
       "      <th>RESTAURANT_ID</th>\n",
       "      <th>CUISINES</th>\n",
       "      <th>TIME</th>\n",
       "      <th>CITY</th>\n",
       "      <th>LOCALITY</th>\n",
       "      <th>RATING</th>\n",
       "      <th>VOTES</th>\n",
       "      <th>COST</th>\n",
       "    </tr>\n",
       "  </thead>\n",
       "  <tbody>\n",
       "    <tr>\n",
       "      <th>0</th>\n",
       "      <td>CASUAL DINING</td>\n",
       "      <td>9438</td>\n",
       "      <td>Malwani, Goan, North Indian</td>\n",
       "      <td>11am – 4pm, 7:30pm – 11:30pm (Mon-Sun)</td>\n",
       "      <td>Thane</td>\n",
       "      <td>Dombivali East</td>\n",
       "      <td>3.6</td>\n",
       "      <td>49 votes</td>\n",
       "      <td>1200</td>\n",
       "    </tr>\n",
       "    <tr>\n",
       "      <th>1</th>\n",
       "      <td>CASUAL DINING,BAR</td>\n",
       "      <td>13198</td>\n",
       "      <td>Asian, Modern Indian, Japanese</td>\n",
       "      <td>6pm – 11pm (Mon-Sun)</td>\n",
       "      <td>Chennai</td>\n",
       "      <td>Ramapuram</td>\n",
       "      <td>4.2</td>\n",
       "      <td>30 votes</td>\n",
       "      <td>1500</td>\n",
       "    </tr>\n",
       "    <tr>\n",
       "      <th>2</th>\n",
       "      <td>CASUAL DINING</td>\n",
       "      <td>10915</td>\n",
       "      <td>North Indian, Chinese, Biryani, Hyderabadi</td>\n",
       "      <td>11am – 3:30pm, 7pm – 11pm (Mon-Sun)</td>\n",
       "      <td>Chennai</td>\n",
       "      <td>Saligramam</td>\n",
       "      <td>3.8</td>\n",
       "      <td>221 votes</td>\n",
       "      <td>800</td>\n",
       "    </tr>\n",
       "    <tr>\n",
       "      <th>3</th>\n",
       "      <td>QUICK BITES</td>\n",
       "      <td>6346</td>\n",
       "      <td>Tibetan, Chinese</td>\n",
       "      <td>11:30am – 1am (Mon-Sun)</td>\n",
       "      <td>Mumbai</td>\n",
       "      <td>Bandra West</td>\n",
       "      <td>4.1</td>\n",
       "      <td>24 votes</td>\n",
       "      <td>800</td>\n",
       "    </tr>\n",
       "    <tr>\n",
       "      <th>4</th>\n",
       "      <td>DESSERT PARLOR</td>\n",
       "      <td>15387</td>\n",
       "      <td>Desserts</td>\n",
       "      <td>11am – 1am (Mon-Sun)</td>\n",
       "      <td>Mumbai</td>\n",
       "      <td>Lower Parel</td>\n",
       "      <td>3.8</td>\n",
       "      <td>165 votes</td>\n",
       "      <td>300</td>\n",
       "    </tr>\n",
       "  </tbody>\n",
       "</table>\n",
       "</div>"
      ],
      "text/plain": [
       "               TITLE  RESTAURANT_ID  \\\n",
       "0      CASUAL DINING           9438   \n",
       "1  CASUAL DINING,BAR          13198   \n",
       "2      CASUAL DINING          10915   \n",
       "3        QUICK BITES           6346   \n",
       "4     DESSERT PARLOR          15387   \n",
       "\n",
       "                                     CUISINES  \\\n",
       "0                 Malwani, Goan, North Indian   \n",
       "1              Asian, Modern Indian, Japanese   \n",
       "2  North Indian, Chinese, Biryani, Hyderabadi   \n",
       "3                            Tibetan, Chinese   \n",
       "4                                    Desserts   \n",
       "\n",
       "                                     TIME     CITY        LOCALITY RATING  \\\n",
       "0  11am – 4pm, 7:30pm – 11:30pm (Mon-Sun)    Thane  Dombivali East    3.6   \n",
       "1                    6pm – 11pm (Mon-Sun)  Chennai       Ramapuram    4.2   \n",
       "2     11am – 3:30pm, 7pm – 11pm (Mon-Sun)  Chennai      Saligramam    3.8   \n",
       "3                 11:30am – 1am (Mon-Sun)   Mumbai     Bandra West    4.1   \n",
       "4                    11am – 1am (Mon-Sun)   Mumbai     Lower Parel    3.8   \n",
       "\n",
       "       VOTES  COST  \n",
       "0   49 votes  1200  \n",
       "1   30 votes  1500  \n",
       "2  221 votes   800  \n",
       "3   24 votes   800  \n",
       "4  165 votes   300  "
      ]
     },
     "execution_count": 3,
     "metadata": {},
     "output_type": "execute_result"
    }
   ],
   "source": [
    "df.head()"
   ]
  },
  {
   "cell_type": "code",
   "execution_count": 4,
   "id": "f8ca6f08",
   "metadata": {},
   "outputs": [
    {
     "data": {
      "text/html": [
       "<div>\n",
       "<style scoped>\n",
       "    .dataframe tbody tr th:only-of-type {\n",
       "        vertical-align: middle;\n",
       "    }\n",
       "\n",
       "    .dataframe tbody tr th {\n",
       "        vertical-align: top;\n",
       "    }\n",
       "\n",
       "    .dataframe thead th {\n",
       "        text-align: right;\n",
       "    }\n",
       "</style>\n",
       "<table border=\"1\" class=\"dataframe\">\n",
       "  <thead>\n",
       "    <tr style=\"text-align: right;\">\n",
       "      <th></th>\n",
       "      <th>TITLE</th>\n",
       "      <th>RESTAURANT_ID</th>\n",
       "      <th>CUISINES</th>\n",
       "      <th>TIME</th>\n",
       "      <th>CITY</th>\n",
       "      <th>LOCALITY</th>\n",
       "      <th>RATING</th>\n",
       "      <th>VOTES</th>\n",
       "      <th>COST</th>\n",
       "    </tr>\n",
       "  </thead>\n",
       "  <tbody>\n",
       "    <tr>\n",
       "      <th>12685</th>\n",
       "      <td>QUICK BITES</td>\n",
       "      <td>13228</td>\n",
       "      <td>North Indian, Burger, Kebab</td>\n",
       "      <td>12noon – 12midnight (Mon, Tue, Wed, Thu, Sun)...</td>\n",
       "      <td>Hyderabad</td>\n",
       "      <td>Gachibowli</td>\n",
       "      <td>3.8</td>\n",
       "      <td>546 votes</td>\n",
       "      <td>500</td>\n",
       "    </tr>\n",
       "    <tr>\n",
       "      <th>12686</th>\n",
       "      <td>CASUAL DINING,BAR</td>\n",
       "      <td>9686</td>\n",
       "      <td>Goan, Continental</td>\n",
       "      <td>12noon – 1am (Mon-Fri),11am – 5pm, 7pm – 1am...</td>\n",
       "      <td>Mumbai</td>\n",
       "      <td>Bandra Kurla Complex</td>\n",
       "      <td>4.3</td>\n",
       "      <td>1214 votes</td>\n",
       "      <td>1800</td>\n",
       "    </tr>\n",
       "    <tr>\n",
       "      <th>12687</th>\n",
       "      <td>LOUNGE</td>\n",
       "      <td>11133</td>\n",
       "      <td>Finger Food, Continental, Asian, Chinese</td>\n",
       "      <td>12noon – 12:30AM (Mon-Sun)</td>\n",
       "      <td>Navi Mumbai</td>\n",
       "      <td>Vashi</td>\n",
       "      <td>4.0</td>\n",
       "      <td>608 votes</td>\n",
       "      <td>1300</td>\n",
       "    </tr>\n",
       "    <tr>\n",
       "      <th>12688</th>\n",
       "      <td>CASUAL DINING</td>\n",
       "      <td>6134</td>\n",
       "      <td>North Indian, South Indian, Chinese, Street Food</td>\n",
       "      <td>6am – 10:45pm (Mon-Sun)</td>\n",
       "      <td>Chennai</td>\n",
       "      <td>Maduravoyal</td>\n",
       "      <td>3.5</td>\n",
       "      <td>32 votes</td>\n",
       "      <td>400</td>\n",
       "    </tr>\n",
       "    <tr>\n",
       "      <th>12689</th>\n",
       "      <td>CASUAL DINING</td>\n",
       "      <td>6430</td>\n",
       "      <td>North Indian, Chinese</td>\n",
       "      <td>12:30pm – 11pm (Mon-Sun)</td>\n",
       "      <td>Hyderabad</td>\n",
       "      <td>Vanasthalipuram</td>\n",
       "      <td>3.4</td>\n",
       "      <td>677 votes</td>\n",
       "      <td>600</td>\n",
       "    </tr>\n",
       "  </tbody>\n",
       "</table>\n",
       "</div>"
      ],
      "text/plain": [
       "                   TITLE  RESTAURANT_ID  \\\n",
       "12685        QUICK BITES          13228   \n",
       "12686  CASUAL DINING,BAR           9686   \n",
       "12687             LOUNGE          11133   \n",
       "12688      CASUAL DINING           6134   \n",
       "12689      CASUAL DINING           6430   \n",
       "\n",
       "                                               CUISINES  \\\n",
       "12685                       North Indian, Burger, Kebab   \n",
       "12686                                 Goan, Continental   \n",
       "12687          Finger Food, Continental, Asian, Chinese   \n",
       "12688  North Indian, South Indian, Chinese, Street Food   \n",
       "12689                             North Indian, Chinese   \n",
       "\n",
       "                                                   TIME         CITY  \\\n",
       "12685  12noon – 12midnight (Mon, Tue, Wed, Thu, Sun)...    Hyderabad   \n",
       "12686   12noon – 1am (Mon-Fri),11am – 5pm, 7pm – 1am...       Mumbai   \n",
       "12687                        12noon – 12:30AM (Mon-Sun)  Navi Mumbai   \n",
       "12688                           6am – 10:45pm (Mon-Sun)      Chennai   \n",
       "12689                          12:30pm – 11pm (Mon-Sun)    Hyderabad   \n",
       "\n",
       "                   LOCALITY RATING       VOTES  COST  \n",
       "12685            Gachibowli    3.8   546 votes   500  \n",
       "12686  Bandra Kurla Complex    4.3  1214 votes  1800  \n",
       "12687                 Vashi    4.0   608 votes  1300  \n",
       "12688           Maduravoyal    3.5    32 votes   400  \n",
       "12689       Vanasthalipuram    3.4   677 votes   600  "
      ]
     },
     "execution_count": 4,
     "metadata": {},
     "output_type": "execute_result"
    }
   ],
   "source": [
    "df.tail()"
   ]
  },
  {
   "cell_type": "markdown",
   "id": "5e1a1c6f",
   "metadata": {},
   "source": [
    "# Exploratory Data Analysis (EDA)"
   ]
  },
  {
   "cell_type": "code",
   "execution_count": 5,
   "id": "44e4365b",
   "metadata": {},
   "outputs": [
    {
     "data": {
      "text/plain": [
       "(12690, 9)"
      ]
     },
     "execution_count": 5,
     "metadata": {},
     "output_type": "execute_result"
    }
   ],
   "source": [
    "df.shape"
   ]
  },
  {
   "cell_type": "code",
   "execution_count": 6,
   "id": "1d76217d",
   "metadata": {},
   "outputs": [
    {
     "data": {
      "text/plain": [
       "TITLE            object\n",
       "RESTAURANT_ID     int64\n",
       "CUISINES         object\n",
       "TIME             object\n",
       "CITY             object\n",
       "LOCALITY         object\n",
       "RATING           object\n",
       "VOTES            object\n",
       "COST              int64\n",
       "dtype: object"
      ]
     },
     "execution_count": 6,
     "metadata": {},
     "output_type": "execute_result"
    }
   ],
   "source": [
    "df.dtypes"
   ]
  },
  {
   "cell_type": "code",
   "execution_count": 7,
   "id": "587b654f",
   "metadata": {},
   "outputs": [
    {
     "name": "stdout",
     "output_type": "stream",
     "text": [
      "<class 'pandas.core.frame.DataFrame'>\n",
      "RangeIndex: 12690 entries, 0 to 12689\n",
      "Data columns (total 9 columns):\n",
      " #   Column         Non-Null Count  Dtype \n",
      "---  ------         --------------  ----- \n",
      " 0   TITLE          12690 non-null  object\n",
      " 1   RESTAURANT_ID  12690 non-null  int64 \n",
      " 2   CUISINES       12690 non-null  object\n",
      " 3   TIME           12690 non-null  object\n",
      " 4   CITY           12578 non-null  object\n",
      " 5   LOCALITY       12592 non-null  object\n",
      " 6   RATING         12688 non-null  object\n",
      " 7   VOTES          11486 non-null  object\n",
      " 8   COST           12690 non-null  int64 \n",
      "dtypes: int64(2), object(7)\n",
      "memory usage: 892.4+ KB\n"
     ]
    }
   ],
   "source": [
    "df.info()"
   ]
  },
  {
   "cell_type": "markdown",
   "id": "ac4567d8",
   "metadata": {},
   "source": [
    "As we can see, there are 2 integer data type and 7 object data type columns."
   ]
  },
  {
   "cell_type": "markdown",
   "id": "06d3b50a",
   "metadata": {},
   "source": [
    "The column \"RATING\" is of object data type but it should be of float data type."
   ]
  },
  {
   "cell_type": "markdown",
   "id": "cdb1c316",
   "metadata": {},
   "source": [
    "The column \"VOTES\" is of object data type but it should be of integer data type."
   ]
  },
  {
   "cell_type": "code",
   "execution_count": 8,
   "id": "3e325dae",
   "metadata": {},
   "outputs": [
    {
     "data": {
      "text/plain": [
       "TITLE               0\n",
       "RESTAURANT_ID       0\n",
       "CUISINES            0\n",
       "TIME                0\n",
       "CITY              112\n",
       "LOCALITY           98\n",
       "RATING              2\n",
       "VOTES            1204\n",
       "COST                0\n",
       "dtype: int64"
      ]
     },
     "execution_count": 8,
     "metadata": {},
     "output_type": "execute_result"
    }
   ],
   "source": [
    "#Check null values\n",
    "df.isnull().sum()"
   ]
  },
  {
   "cell_type": "markdown",
   "id": "bcd80042",
   "metadata": {},
   "source": [
    "We can observe that there are null values in the columns \"CITY\", \"LOCALITY\", \"RATING\" and \"VOTES\"."
   ]
  },
  {
   "cell_type": "code",
   "execution_count": 9,
   "id": "dff8a1be",
   "metadata": {},
   "outputs": [
    {
     "data": {
      "image/png": "[encoded data removed]",
      "text/plain": [
       "<Figure size 640x480 with 2 Axes>"
      ]
     },
     "metadata": {},
     "output_type": "display_data"
    }
   ],
   "source": [
    "#Visulaize null values\n",
    "sns.heatmap(df.isnull())\n",
    "plt.show()"
   ]
  },
  {
   "cell_type": "markdown",
   "id": "cf277f63",
   "metadata": {},
   "source": [
    "We can visualize the null values in the above graph."
   ]
  },
  {
   "cell_type": "code",
   "execution_count": 10,
   "id": "23e155a0",
   "metadata": {},
   "outputs": [
    {
     "name": "stdout",
     "output_type": "stream",
     "text": [
      "QUICK BITES                 4218\n",
      "CASUAL DINING               3652\n",
      "None                        1003\n",
      "CAFÉ                         607\n",
      "DESSERT PARLOR               382\n",
      "                            ... \n",
      "QUICK BITES,BAR                1\n",
      "MEAT SHOP                      1\n",
      "SWEET SHOP,CONFECTIONERY       1\n",
      "BEVERAGE SHOP,FOOD COURT       1\n",
      "BAR,MICROBREWERY               1\n",
      "Name: TITLE, Length: 113, dtype: int64\n",
      "\n",
      "\n",
      "7264     8\n",
      "4634     7\n",
      "9910     6\n",
      "11971    5\n",
      "12747    5\n",
      "        ..\n",
      "9069     1\n",
      "6573     1\n",
      "7430     1\n",
      "6381     1\n",
      "6134     1\n",
      "Name: RESTAURANT_ID, Length: 11892, dtype: int64\n",
      "\n",
      "\n",
      "South Indian                                  532\n",
      "North Indian                                  526\n",
      "North Indian, Chinese                         501\n",
      "Fast Food                                     286\n",
      "Chinese                                       167\n",
      "                                             ... \n",
      "Italian, Biryani, Fast Food                     1\n",
      "Desserts, Juices, Fast Food                     1\n",
      "Asian, Continental, European, North Indian      1\n",
      "Cafe, Continental, Italian, Lebanese            1\n",
      "Finger Food, Continental, Asian, Chinese        1\n",
      "Name: CUISINES, Length: 4155, dtype: int64\n",
      "\n",
      "\n",
      "11am – 11pm (Mon-Sun)                                 1415\n",
      "12noon – 12midnight (Mon-Sun)                          469\n",
      "12noon – 11pm (Mon-Sun)                                407\n",
      "11am – 12midnight (Mon-Sun)                            310\n",
      "10am – 10pm (Mon-Sun)                                  221\n",
      "                                                      ... \n",
      "10am – 10pm (Mon-Fri),8:30am – 10pm (Sat-Sun)            1\n",
      "12noon – 3:30pm, 6pm – 10:30pm (Mon-Thu),12noon...       1\n",
      "12noon – 5:30pm, 7pm – 11pm (Mon-Sun)                    1\n",
      "12midnight – 11:45pm (Mon-Sun)                           1\n",
      "12noon – 1am (Mon-Fri),11am – 5pm, 7pm – 1am...          1\n",
      "Name: TIME, Length: 2689, dtype: int64\n",
      "\n",
      "\n",
      "Chennai                                                                           2174\n",
      "Bangalore                                                                         2149\n",
      "Hyderabad                                                                         1819\n",
      "Mumbai                                                                            1722\n",
      "New Delhi                                                                         1321\n",
      "                                                                                  ... \n",
      "Gachibowli Hyderabad                                                                 1\n",
      "CPR layout harlur main road opposite to ozone ever green apartment Bangalore -       1\n",
      "ECR NEELANKARAI Chennai 600115                                                       1\n",
      "ward X11                                                                             1\n",
      "Masab Tank                                                                           1\n",
      "Name: CITY, Length: 359, dtype: int64\n",
      "\n",
      "\n",
      "Gachibowli                 166\n",
      "Indiranagar                138\n",
      "Edappally                  122\n",
      "Kakkanad                   121\n",
      "HSR                        120\n",
      "                          ... \n",
      "Huda Market                  1\n",
      "OMR Road Sholinganallur      1\n",
      "Telangana 500053             1\n",
      "1st Lane                     1\n",
      "Near Malviya Nagar           1\n",
      "Name: LOCALITY, Length: 1416, dtype: int64\n",
      "\n",
      "\n",
      "3.9    1238\n",
      "3.8    1190\n",
      "4.0    1099\n",
      "3.7    1086\n",
      "3.6     951\n",
      "4.1     936\n",
      "3.5     771\n",
      "4.2     723\n",
      "NEW     707\n",
      "3.4     575\n",
      "4.3     556\n",
      "-       495\n",
      "3.3     365\n",
      "4.4     362\n",
      "3.2     266\n",
      "4.5     199\n",
      "2.9     186\n",
      "3.1     186\n",
      "3.0     170\n",
      "2.8     146\n",
      "4.6     141\n",
      "2.7      89\n",
      "4.7      69\n",
      "2.6      61\n",
      "2.5      35\n",
      "4.8      32\n",
      "4.9      22\n",
      "2.4      15\n",
      "2.3      10\n",
      "2.1       3\n",
      "2.0       2\n",
      "2.2       2\n",
      "Name: RATING, dtype: int64\n",
      "\n",
      "\n",
      "44 votes      71\n",
      "29 votes      66\n",
      "28 votes      66\n",
      "38 votes      65\n",
      "35 votes      64\n",
      "              ..\n",
      "1020 votes     1\n",
      "4634 votes     1\n",
      "2297 votes     1\n",
      "1475 votes     1\n",
      "1214 votes     1\n",
      "Name: VOTES, Length: 1847, dtype: int64\n",
      "\n",
      "\n",
      "300      1595\n",
      "400      1357\n",
      "500      1300\n",
      "200      1031\n",
      "600       806\n",
      "         ... \n",
      "8000        1\n",
      "14000       1\n",
      "5200        1\n",
      "80          1\n",
      "70          1\n",
      "Name: COST, Length: 86, dtype: int64\n",
      "\n",
      "\n"
     ]
    }
   ],
   "source": [
    "#Check the counts of unique values of each column\n",
    "for i in df.columns:\n",
    "    print(df[i].value_counts())\n",
    "    print(\"\\n\")"
   ]
  },
  {
   "cell_type": "markdown",
   "id": "32aee480",
   "metadata": {},
   "source": [
    "We can draw the following observations from the above:"
   ]
  },
  {
   "cell_type": "markdown",
   "id": "04f7bf5c",
   "metadata": {},
   "source": [
    "Some columns have categorical data and some have continuous data."
   ]
  },
  {
   "cell_type": "markdown",
   "id": "e9fc776d",
   "metadata": {},
   "source": [
    "The column \"RESTAURANT_ID\" is irrelevant. So, we will drop this column."
   ]
  },
  {
   "cell_type": "markdown",
   "id": "ff2305db",
   "metadata": {},
   "source": [
    "The column \"TITLE\" contains some \"None\" values."
   ]
  },
  {
   "cell_type": "markdown",
   "id": "814324c0",
   "metadata": {},
   "source": [
    "The column \"RATING\" contains some \"NEW\" and \"-\" values."
   ]
  },
  {
   "cell_type": "markdown",
   "id": "a1754a11",
   "metadata": {},
   "source": [
    "The column \"VOTES\" contains the word \"votes\" in every value which needs to be removed."
   ]
  },
  {
   "cell_type": "code",
   "execution_count": 11,
   "id": "d164c103",
   "metadata": {},
   "outputs": [
    {
     "data": {
      "text/html": [
       "<div>\n",
       "<style scoped>\n",
       "    .dataframe tbody tr th:only-of-type {\n",
       "        vertical-align: middle;\n",
       "    }\n",
       "\n",
       "    .dataframe tbody tr th {\n",
       "        vertical-align: top;\n",
       "    }\n",
       "\n",
       "    .dataframe thead th {\n",
       "        text-align: right;\n",
       "    }\n",
       "</style>\n",
       "<table border=\"1\" class=\"dataframe\">\n",
       "  <thead>\n",
       "    <tr style=\"text-align: right;\">\n",
       "      <th></th>\n",
       "      <th>TITLE</th>\n",
       "      <th>CUISINES</th>\n",
       "      <th>TIME</th>\n",
       "      <th>CITY</th>\n",
       "      <th>LOCALITY</th>\n",
       "      <th>RATING</th>\n",
       "      <th>VOTES</th>\n",
       "      <th>COST</th>\n",
       "    </tr>\n",
       "  </thead>\n",
       "  <tbody>\n",
       "    <tr>\n",
       "      <th>0</th>\n",
       "      <td>CASUAL DINING</td>\n",
       "      <td>Malwani, Goan, North Indian</td>\n",
       "      <td>11am – 4pm, 7:30pm – 11:30pm (Mon-Sun)</td>\n",
       "      <td>Thane</td>\n",
       "      <td>Dombivali East</td>\n",
       "      <td>3.6</td>\n",
       "      <td>49 votes</td>\n",
       "      <td>1200</td>\n",
       "    </tr>\n",
       "    <tr>\n",
       "      <th>1</th>\n",
       "      <td>CASUAL DINING,BAR</td>\n",
       "      <td>Asian, Modern Indian, Japanese</td>\n",
       "      <td>6pm – 11pm (Mon-Sun)</td>\n",
       "      <td>Chennai</td>\n",
       "      <td>Ramapuram</td>\n",
       "      <td>4.2</td>\n",
       "      <td>30 votes</td>\n",
       "      <td>1500</td>\n",
       "    </tr>\n",
       "    <tr>\n",
       "      <th>2</th>\n",
       "      <td>CASUAL DINING</td>\n",
       "      <td>North Indian, Chinese, Biryani, Hyderabadi</td>\n",
       "      <td>11am – 3:30pm, 7pm – 11pm (Mon-Sun)</td>\n",
       "      <td>Chennai</td>\n",
       "      <td>Saligramam</td>\n",
       "      <td>3.8</td>\n",
       "      <td>221 votes</td>\n",
       "      <td>800</td>\n",
       "    </tr>\n",
       "    <tr>\n",
       "      <th>3</th>\n",
       "      <td>QUICK BITES</td>\n",
       "      <td>Tibetan, Chinese</td>\n",
       "      <td>11:30am – 1am (Mon-Sun)</td>\n",
       "      <td>Mumbai</td>\n",
       "      <td>Bandra West</td>\n",
       "      <td>4.1</td>\n",
       "      <td>24 votes</td>\n",
       "      <td>800</td>\n",
       "    </tr>\n",
       "    <tr>\n",
       "      <th>4</th>\n",
       "      <td>DESSERT PARLOR</td>\n",
       "      <td>Desserts</td>\n",
       "      <td>11am – 1am (Mon-Sun)</td>\n",
       "      <td>Mumbai</td>\n",
       "      <td>Lower Parel</td>\n",
       "      <td>3.8</td>\n",
       "      <td>165 votes</td>\n",
       "      <td>300</td>\n",
       "    </tr>\n",
       "    <tr>\n",
       "      <th>...</th>\n",
       "      <td>...</td>\n",
       "      <td>...</td>\n",
       "      <td>...</td>\n",
       "      <td>...</td>\n",
       "      <td>...</td>\n",
       "      <td>...</td>\n",
       "      <td>...</td>\n",
       "      <td>...</td>\n",
       "    </tr>\n",
       "    <tr>\n",
       "      <th>12685</th>\n",
       "      <td>QUICK BITES</td>\n",
       "      <td>North Indian, Burger, Kebab</td>\n",
       "      <td>12noon – 12midnight (Mon, Tue, Wed, Thu, Sun)...</td>\n",
       "      <td>Hyderabad</td>\n",
       "      <td>Gachibowli</td>\n",
       "      <td>3.8</td>\n",
       "      <td>546 votes</td>\n",
       "      <td>500</td>\n",
       "    </tr>\n",
       "    <tr>\n",
       "      <th>12686</th>\n",
       "      <td>CASUAL DINING,BAR</td>\n",
       "      <td>Goan, Continental</td>\n",
       "      <td>12noon – 1am (Mon-Fri),11am – 5pm, 7pm – 1am...</td>\n",
       "      <td>Mumbai</td>\n",
       "      <td>Bandra Kurla Complex</td>\n",
       "      <td>4.3</td>\n",
       "      <td>1214 votes</td>\n",
       "      <td>1800</td>\n",
       "    </tr>\n",
       "    <tr>\n",
       "      <th>12687</th>\n",
       "      <td>LOUNGE</td>\n",
       "      <td>Finger Food, Continental, Asian, Chinese</td>\n",
       "      <td>12noon – 12:30AM (Mon-Sun)</td>\n",
       "      <td>Navi Mumbai</td>\n",
       "      <td>Vashi</td>\n",
       "      <td>4.0</td>\n",
       "      <td>608 votes</td>\n",
       "      <td>1300</td>\n",
       "    </tr>\n",
       "    <tr>\n",
       "      <th>12688</th>\n",
       "      <td>CASUAL DINING</td>\n",
       "      <td>North Indian, South Indian, Chinese, Street Food</td>\n",
       "      <td>6am – 10:45pm (Mon-Sun)</td>\n",
       "      <td>Chennai</td>\n",
       "      <td>Maduravoyal</td>\n",
       "      <td>3.5</td>\n",
       "      <td>32 votes</td>\n",
       "      <td>400</td>\n",
       "    </tr>\n",
       "    <tr>\n",
       "      <th>12689</th>\n",
       "      <td>CASUAL DINING</td>\n",
       "      <td>North Indian, Chinese</td>\n",
       "      <td>12:30pm – 11pm (Mon-Sun)</td>\n",
       "      <td>Hyderabad</td>\n",
       "      <td>Vanasthalipuram</td>\n",
       "      <td>3.4</td>\n",
       "      <td>677 votes</td>\n",
       "      <td>600</td>\n",
       "    </tr>\n",
       "  </tbody>\n",
       "</table>\n",
       "<p>12690 rows × 8 columns</p>\n",
       "</div>"
      ],
      "text/plain": [
       "                   TITLE                                          CUISINES  \\\n",
       "0          CASUAL DINING                       Malwani, Goan, North Indian   \n",
       "1      CASUAL DINING,BAR                    Asian, Modern Indian, Japanese   \n",
       "2          CASUAL DINING        North Indian, Chinese, Biryani, Hyderabadi   \n",
       "3            QUICK BITES                                  Tibetan, Chinese   \n",
       "4         DESSERT PARLOR                                          Desserts   \n",
       "...                  ...                                               ...   \n",
       "12685        QUICK BITES                       North Indian, Burger, Kebab   \n",
       "12686  CASUAL DINING,BAR                                 Goan, Continental   \n",
       "12687             LOUNGE          Finger Food, Continental, Asian, Chinese   \n",
       "12688      CASUAL DINING  North Indian, South Indian, Chinese, Street Food   \n",
       "12689      CASUAL DINING                             North Indian, Chinese   \n",
       "\n",
       "                                                   TIME         CITY  \\\n",
       "0                11am – 4pm, 7:30pm – 11:30pm (Mon-Sun)        Thane   \n",
       "1                                  6pm – 11pm (Mon-Sun)      Chennai   \n",
       "2                   11am – 3:30pm, 7pm – 11pm (Mon-Sun)      Chennai   \n",
       "3                               11:30am – 1am (Mon-Sun)       Mumbai   \n",
       "4                                  11am – 1am (Mon-Sun)       Mumbai   \n",
       "...                                                 ...          ...   \n",
       "12685  12noon – 12midnight (Mon, Tue, Wed, Thu, Sun)...    Hyderabad   \n",
       "12686   12noon – 1am (Mon-Fri),11am – 5pm, 7pm – 1am...       Mumbai   \n",
       "12687                        12noon – 12:30AM (Mon-Sun)  Navi Mumbai   \n",
       "12688                           6am – 10:45pm (Mon-Sun)      Chennai   \n",
       "12689                          12:30pm – 11pm (Mon-Sun)    Hyderabad   \n",
       "\n",
       "                   LOCALITY RATING       VOTES  COST  \n",
       "0            Dombivali East    3.6    49 votes  1200  \n",
       "1                 Ramapuram    4.2    30 votes  1500  \n",
       "2                Saligramam    3.8   221 votes   800  \n",
       "3               Bandra West    4.1    24 votes   800  \n",
       "4               Lower Parel    3.8   165 votes   300  \n",
       "...                     ...    ...         ...   ...  \n",
       "12685            Gachibowli    3.8   546 votes   500  \n",
       "12686  Bandra Kurla Complex    4.3  1214 votes  1800  \n",
       "12687                 Vashi    4.0   608 votes  1300  \n",
       "12688           Maduravoyal    3.5    32 votes   400  \n",
       "12689       Vanasthalipuram    3.4   677 votes   600  \n",
       "\n",
       "[12690 rows x 8 columns]"
      ]
     },
     "execution_count": 11,
     "metadata": {},
     "output_type": "execute_result"
    }
   ],
   "source": [
    "#Drop the irrelevant column\n",
    "df.drop(\"RESTAURANT_ID\",axis=1,inplace=True)\n",
    "df"
   ]
  },
  {
   "cell_type": "markdown",
   "id": "8c4499e5",
   "metadata": {},
   "source": [
    "Handling the missing and wrong values"
   ]
  },
  {
   "cell_type": "code",
   "execution_count": 12,
   "id": "067ad4ae",
   "metadata": {},
   "outputs": [],
   "source": [
    "#Replace wrong values with null values\n",
    "df['TITLE']=df['TITLE'].replace('None',np.nan)"
   ]
  },
  {
   "cell_type": "code",
   "execution_count": 13,
   "id": "5757dbdf",
   "metadata": {},
   "outputs": [],
   "source": [
    "#Fill the null values\n",
    "df['TITLE']=df['TITLE'].fillna(df['TITLE'].mode()[0])"
   ]
  },
  {
   "cell_type": "code",
   "execution_count": 14,
   "id": "728189a2",
   "metadata": {},
   "outputs": [],
   "source": [
    "#Replace wrong values with null values\n",
    "df['RATING']=df['RATING'].replace(['NEW','-'],np.nan)"
   ]
  },
  {
   "cell_type": "code",
   "execution_count": 15,
   "id": "31d4ac9e",
   "metadata": {},
   "outputs": [
    {
     "data": {
      "text/plain": [
       "1204"
      ]
     },
     "execution_count": 15,
     "metadata": {},
     "output_type": "execute_result"
    }
   ],
   "source": [
    "df['RATING'].isnull().sum()"
   ]
  },
  {
   "cell_type": "code",
   "execution_count": 16,
   "id": "f30e2934",
   "metadata": {},
   "outputs": [
    {
     "data": {
      "text/plain": [
       "dtype('float64')"
      ]
     },
     "execution_count": 16,
     "metadata": {},
     "output_type": "execute_result"
    }
   ],
   "source": [
    "#Convert from object to float data type\n",
    "df['RATING']=df['RATING'].astype(float)\n",
    "df['RATING'].dtype"
   ]
  },
  {
   "cell_type": "code",
   "execution_count": 17,
   "id": "3b3d0081",
   "metadata": {},
   "outputs": [
    {
     "data": {
      "text/plain": [
       "0"
      ]
     },
     "execution_count": 17,
     "metadata": {},
     "output_type": "execute_result"
    }
   ],
   "source": [
    "#Fill the null values\n",
    "df['RATING']=df['RATING'].fillna(df['RATING'].mean())\n",
    "df['RATING'].isnull().sum()"
   ]
  },
  {
   "cell_type": "code",
   "execution_count": 18,
   "id": "3295f0a3",
   "metadata": {},
   "outputs": [
    {
     "data": {
      "text/plain": [
       "0          49\n",
       "1          30\n",
       "2         221\n",
       "3          24\n",
       "4         165\n",
       "         ... \n",
       "12685     546\n",
       "12686    1214\n",
       "12687     608\n",
       "12688      32\n",
       "12689     677\n",
       "Name: VOTES, Length: 12690, dtype: object"
      ]
     },
     "execution_count": 18,
     "metadata": {},
     "output_type": "execute_result"
    }
   ],
   "source": [
    "#Remove unwanted string from the column\n",
    "df['VOTES']=df['VOTES'].str.replace(' votes','')\n",
    "df['VOTES']"
   ]
  },
  {
   "cell_type": "code",
   "execution_count": 19,
   "id": "adcf3003",
   "metadata": {},
   "outputs": [
    {
     "data": {
      "text/plain": [
       "1204"
      ]
     },
     "execution_count": 19,
     "metadata": {},
     "output_type": "execute_result"
    }
   ],
   "source": [
    "df['VOTES'].isnull().sum()"
   ]
  },
  {
   "cell_type": "code",
   "execution_count": 20,
   "id": "57364d53",
   "metadata": {},
   "outputs": [
    {
     "data": {
      "text/plain": [
       "dtype('float64')"
      ]
     },
     "execution_count": 20,
     "metadata": {},
     "output_type": "execute_result"
    }
   ],
   "source": [
    "#Convert from object to float data type\n",
    "df['VOTES']=df['VOTES'].astype(float)\n",
    "df['VOTES'].dtype"
   ]
  },
  {
   "cell_type": "code",
   "execution_count": 21,
   "id": "45579e63",
   "metadata": {},
   "outputs": [
    {
     "data": {
      "text/plain": [
       "0"
      ]
     },
     "execution_count": 21,
     "metadata": {},
     "output_type": "execute_result"
    }
   ],
   "source": [
    "#Fill the null values\n",
    "df['VOTES']=df['VOTES'].fillna(df['VOTES'].mean())\n",
    "df['VOTES'].isnull().sum()"
   ]
  },
  {
   "cell_type": "code",
   "execution_count": 22,
   "id": "63505d8f",
   "metadata": {},
   "outputs": [],
   "source": [
    "#Fill the null values\n",
    "df['CITY']=df['CITY'].fillna(df['CITY'].mode()[0])\n",
    "df['LOCALITY']=df['LOCALITY'].fillna(df['LOCALITY'].mode()[0])"
   ]
  },
  {
   "cell_type": "code",
   "execution_count": 23,
   "id": "df49cadc",
   "metadata": {},
   "outputs": [
    {
     "data": {
      "text/plain": [
       "TITLE       0\n",
       "CUISINES    0\n",
       "TIME        0\n",
       "CITY        0\n",
       "LOCALITY    0\n",
       "RATING      0\n",
       "VOTES       0\n",
       "COST        0\n",
       "dtype: int64"
      ]
     },
     "execution_count": 23,
     "metadata": {},
     "output_type": "execute_result"
    }
   ],
   "source": [
    "#Check null values again\n",
    "df.isnull().sum()"
   ]
  },
  {
   "cell_type": "markdown",
   "id": "59fe405c",
   "metadata": {},
   "source": [
    "Now, we can see that there are no null values in any of the columns."
   ]
  },
  {
   "cell_type": "code",
   "execution_count": 24,
   "id": "5db56163",
   "metadata": {},
   "outputs": [
    {
     "data": {
      "image/png": "[encoded data removed]",
      "text/plain": [
       "<Figure size 640x480 with 2 Axes>"
      ]
     },
     "metadata": {},
     "output_type": "display_data"
    }
   ],
   "source": [
    "#Visualize null values again\n",
    "sns.heatmap(df.isnull())\n",
    "plt.show()"
   ]
  },
  {
   "cell_type": "markdown",
   "id": "b95b432b",
   "metadata": {},
   "source": [
    "Now, we can clearly visualize that there are no null values in the dataset."
   ]
  },
  {
   "cell_type": "code",
   "execution_count": 25,
   "id": "ad8f6fc9",
   "metadata": {},
   "outputs": [
    {
     "name": "stdout",
     "output_type": "stream",
     "text": [
      "<class 'pandas.core.frame.DataFrame'>\n",
      "RangeIndex: 12690 entries, 0 to 12689\n",
      "Data columns (total 8 columns):\n",
      " #   Column    Non-Null Count  Dtype  \n",
      "---  ------    --------------  -----  \n",
      " 0   TITLE     12690 non-null  object \n",
      " 1   CUISINES  12690 non-null  object \n",
      " 2   TIME      12690 non-null  object \n",
      " 3   CITY      12690 non-null  object \n",
      " 4   LOCALITY  12690 non-null  object \n",
      " 5   RATING    12690 non-null  float64\n",
      " 6   VOTES     12690 non-null  float64\n",
      " 7   COST      12690 non-null  int64  \n",
      "dtypes: float64(2), int64(1), object(5)\n",
      "memory usage: 793.3+ KB\n"
     ]
    }
   ],
   "source": [
    "df.info()"
   ]
  },
  {
   "cell_type": "markdown",
   "id": "1c433939",
   "metadata": {},
   "source": [
    "We can see now that there are 2 float data type, 1 integer data type and 5 object data type columns."
   ]
  },
  {
   "cell_type": "code",
   "execution_count": 26,
   "id": "1bd23473",
   "metadata": {},
   "outputs": [
    {
     "name": "stdout",
     "output_type": "stream",
     "text": [
      "Categorical columns:  ['TITLE', 'CUISINES', 'TIME', 'CITY', 'LOCALITY']\n",
      "No. of categorical columns is  5\n",
      "\n",
      "\n",
      "Numerical columns:  ['RATING', 'VOTES', 'COST']\n",
      "No. of numerical columns is  3\n"
     ]
    }
   ],
   "source": [
    "#Separate numerical and categorical columns\n",
    "categorical_col=[]\n",
    "numerical_col=[]\n",
    "for i in df.dtypes.index:\n",
    "    if df.dtypes[i]==\"object\":\n",
    "        categorical_col.append(i)\n",
    "    else:\n",
    "        numerical_col.append(i)\n",
    "print(\"Categorical columns: \",categorical_col)\n",
    "print(\"No. of categorical columns is \",len(categorical_col))\n",
    "print(\"\\n\")\n",
    "print(\"Numerical columns: \",numerical_col)\n",
    "print(\"No. of numerical columns is \",len(numerical_col))"
   ]
  },
  {
   "cell_type": "code",
   "execution_count": 27,
   "id": "d9276cb9",
   "metadata": {},
   "outputs": [
    {
     "data": {
      "text/html": [
       "<div>\n",
       "<style scoped>\n",
       "    .dataframe tbody tr th:only-of-type {\n",
       "        vertical-align: middle;\n",
       "    }\n",
       "\n",
       "    .dataframe tbody tr th {\n",
       "        vertical-align: top;\n",
       "    }\n",
       "\n",
       "    .dataframe thead th {\n",
       "        text-align: right;\n",
       "    }\n",
       "</style>\n",
       "<table border=\"1\" class=\"dataframe\">\n",
       "  <thead>\n",
       "    <tr style=\"text-align: right;\">\n",
       "      <th></th>\n",
       "      <th>RATING</th>\n",
       "      <th>VOTES</th>\n",
       "      <th>COST</th>\n",
       "    </tr>\n",
       "  </thead>\n",
       "  <tbody>\n",
       "    <tr>\n",
       "      <th>count</th>\n",
       "      <td>12690.000000</td>\n",
       "      <td>12690.000000</td>\n",
       "      <td>12690.000000</td>\n",
       "    </tr>\n",
       "    <tr>\n",
       "      <th>mean</th>\n",
       "      <td>3.785452</td>\n",
       "      <td>415.668901</td>\n",
       "      <td>655.252246</td>\n",
       "    </tr>\n",
       "    <tr>\n",
       "      <th>std</th>\n",
       "      <td>0.401565</td>\n",
       "      <td>801.745630</td>\n",
       "      <td>627.003540</td>\n",
       "    </tr>\n",
       "    <tr>\n",
       "      <th>min</th>\n",
       "      <td>2.000000</td>\n",
       "      <td>4.000000</td>\n",
       "      <td>20.000000</td>\n",
       "    </tr>\n",
       "    <tr>\n",
       "      <th>25%</th>\n",
       "      <td>3.600000</td>\n",
       "      <td>64.000000</td>\n",
       "      <td>300.000000</td>\n",
       "    </tr>\n",
       "    <tr>\n",
       "      <th>50%</th>\n",
       "      <td>3.800000</td>\n",
       "      <td>200.000000</td>\n",
       "      <td>500.000000</td>\n",
       "    </tr>\n",
       "    <tr>\n",
       "      <th>75%</th>\n",
       "      <td>4.000000</td>\n",
       "      <td>415.668901</td>\n",
       "      <td>800.000000</td>\n",
       "    </tr>\n",
       "    <tr>\n",
       "      <th>max</th>\n",
       "      <td>4.900000</td>\n",
       "      <td>41186.000000</td>\n",
       "      <td>14000.000000</td>\n",
       "    </tr>\n",
       "  </tbody>\n",
       "</table>\n",
       "</div>"
      ],
      "text/plain": [
       "             RATING         VOTES          COST\n",
       "count  12690.000000  12690.000000  12690.000000\n",
       "mean       3.785452    415.668901    655.252246\n",
       "std        0.401565    801.745630    627.003540\n",
       "min        2.000000      4.000000     20.000000\n",
       "25%        3.600000     64.000000    300.000000\n",
       "50%        3.800000    200.000000    500.000000\n",
       "75%        4.000000    415.668901    800.000000\n",
       "max        4.900000  41186.000000  14000.000000"
      ]
     },
     "execution_count": 27,
     "metadata": {},
     "output_type": "execute_result"
    }
   ],
   "source": [
    "#Statistical summary of numerical columns\n",
    "df.describe()"
   ]
  },
  {
   "cell_type": "markdown",
   "id": "e4c6c35b",
   "metadata": {},
   "source": [
    "We can observe the following from the description of the dataset:"
   ]
  },
  {
   "cell_type": "markdown",
   "id": "d3fad5f8",
   "metadata": {},
   "source": [
    "There are no missing values in the columns."
   ]
  },
  {
   "cell_type": "markdown",
   "id": "e5b140e1",
   "metadata": {},
   "source": [
    "The mean is higher than the median for the columns \"VOTES\" and \"COST\". So, they are right skewed."
   ]
  },
  {
   "cell_type": "markdown",
   "id": "92f6cfa7",
   "metadata": {},
   "source": [
    "The max is much bigger than 75% for the columns \"VOTES\" and \"COST\". So, they have outliers."
   ]
  },
  {
   "cell_type": "markdown",
   "id": "e1034420",
   "metadata": {},
   "source": [
    "# Data Visualization"
   ]
  },
  {
   "cell_type": "markdown",
   "id": "5f82ec8e",
   "metadata": {},
   "source": [
    "Univariate Analysis"
   ]
  },
  {
   "cell_type": "markdown",
   "id": "d5745d2a",
   "metadata": {},
   "source": [
    "Let's visualize the distribution of each variable"
   ]
  },
  {
   "cell_type": "code",
   "execution_count": 34,
   "id": "224f5ecc",
   "metadata": {},
   "outputs": [
    {
     "data": {
      "image/png": "[encoded data removed]",
      "text/plain": [
       "<Figure size 400x400 with 1 Axes>"
      ]
     },
     "metadata": {},
     "output_type": "display_data"
    }
   ],
   "source": [
    "#Visualize the distribution of the feature \"RATING\"\n",
    "plt.figure(figsize=(4,4))\n",
    "sns.distplot(df['RATING'],color='m')\n",
    "plt.show()"
   ]
  },
  {
   "cell_type": "markdown",
   "id": "9bd265d4",
   "metadata": {},
   "source": [
    "We can see that the feature \"RATING\" is normally distributed and there is no skewness."
   ]
  },
  {
   "cell_type": "code",
   "execution_count": 35,
   "id": "72aec646",
   "metadata": {},
   "outputs": [
    {
     "data": {
      "image/png": "[encoded data removed]",
      "text/plain": [
       "<Figure size 400x400 with 1 Axes>"
      ]
     },
     "metadata": {},
     "output_type": "display_data"
    }
   ],
   "source": [
    "#Visualize the distribution of the feature \"VOTES\"\n",
    "plt.figure(figsize=(4,4))\n",
    "sns.distplot(df['VOTES'],color='m')\n",
    "plt.show()"
   ]
  },
  {
   "cell_type": "markdown",
   "id": "ac16a3a2",
   "metadata": {},
   "source": [
    "We can see that the feature \"VOTES\" is normally distributed and is skewed to the right."
   ]
  },
  {
   "cell_type": "code",
   "execution_count": 36,
   "id": "35f5ed32",
   "metadata": {},
   "outputs": [
    {
     "data": {
      "image/png": "[encoded data removed]",
      "text/plain": [
       "<Figure size 400x400 with 1 Axes>"
      ]
     },
     "metadata": {},
     "output_type": "display_data"
    }
   ],
   "source": [
    "#Visualize the distribution of the label \"COST\"\n",
    "plt.figure(figsize=(4,4))\n",
    "sns.distplot(df['COST'],color='m')\n",
    "plt.show()"
   ]
  },
  {
   "cell_type": "markdown",
   "id": "5c31dde9",
   "metadata": {},
   "source": [
    "We can see that the label \"COST\" is normally distributed and is skewed to the right."
   ]
  },
  {
   "cell_type": "markdown",
   "id": "820f9eec",
   "metadata": {},
   "source": [
    "Bivariate Analysis"
   ]
  },
  {
   "cell_type": "code",
   "execution_count": 37,
   "id": "73c76c90",
   "metadata": {},
   "outputs": [
    {
     "data": {
      "image/png": "[encoded data removed]",
      "text/plain": [
       "<Figure size 400x400 with 1 Axes>"
      ]
     },
     "metadata": {},
     "output_type": "display_data"
    }
   ],
   "source": [
    "#Analyse the relationship between \"RATING\" and \"COST\"\n",
    "plt.figure(figsize=(4,4))\n",
    "sns.scatterplot(x='RATING',y='COST',data=df, color='brown')\n",
    "plt.show()"
   ]
  },
  {
   "cell_type": "markdown",
   "id": "414e7112",
   "metadata": {},
   "source": [
    "We can observe that there is a positive correlation between \"RATING\" and \"COST\"."
   ]
  },
  {
   "cell_type": "code",
   "execution_count": 38,
   "id": "235906c4",
   "metadata": {},
   "outputs": [
    {
     "data": {
      "image/png": "[encoded data removed]",
      "text/plain": [
       "<Figure size 400x400 with 1 Axes>"
      ]
     },
     "metadata": {},
     "output_type": "display_data"
    }
   ],
   "source": [
    "#Analyse the relationship between \"VOTES\" and \"COST\"\n",
    "plt.figure(figsize=(4,4))\n",
    "sns.scatterplot(x='VOTES',y='COST',data=df, color='brown')\n",
    "plt.show()"
   ]
  },
  {
   "cell_type": "markdown",
   "id": "610ca032",
   "metadata": {},
   "source": [
    "We can observe that there is no significant correlation between \"VOTES\" and \"COST\"."
   ]
  },
  {
   "cell_type": "code",
   "execution_count": 39,
   "id": "4fc9829e",
   "metadata": {},
   "outputs": [
    {
     "data": {
      "image/png": "[encoded data removed]",
      "text/plain": [
       "<Figure size 400x400 with 1 Axes>"
      ]
     },
     "metadata": {},
     "output_type": "display_data"
    }
   ],
   "source": [
    "#Analyse the correlation between \"RATING\" and \"VOTES\"\n",
    "plt.figure(figsize=(4,4))\n",
    "sns.scatterplot(x='RATING',y='VOTES',data=df, color='brown')\n",
    "plt.show()"
   ]
  },
  {
   "cell_type": "markdown",
   "id": "24c739e9",
   "metadata": {},
   "source": [
    "We can observe that there is a positive correlation between \"RATING\" and \"VOTES\"."
   ]
  },
  {
   "cell_type": "markdown",
   "id": "7052b7f9",
   "metadata": {},
   "source": [
    "Checking for Outliers"
   ]
  },
  {
   "cell_type": "code",
   "execution_count": 40,
   "id": "24fb7a33",
   "metadata": {},
   "outputs": [
    {
     "data": {
      "image/png": "[encoded data removed]",
      "text/plain": [
       "<Figure size 1000x600 with 3 Axes>"
      ]
     },
     "metadata": {},
     "output_type": "display_data"
    }
   ],
   "source": [
    "#Check the outliers in numerical columns\n",
    "plt.figure(figsize=(10,6),facecolor=\"white\")\n",
    "plotnumber=1\n",
    "for col in numerical_col:\n",
    "    ax=plt.subplot(2,2,plotnumber)\n",
    "    sns.boxplot(df[col],palette=\"bright\")\n",
    "    plt.xlabel(col,fontsize=15)\n",
    "    plt.yticks(rotation=0,fontsize=10)\n",
    "    plotnumber+=1\n",
    "plt.tight_layout()"
   ]
  },
  {
   "cell_type": "markdown",
   "id": "19ed7545",
   "metadata": {},
   "source": [
    "We can find outliers in all the columns. We don't remove outliers from the label \"COST\". So, we will remove outliers from the other 2 columns \"RATING\" and \"VOTES\" using Z-Score technique."
   ]
  },
  {
   "cell_type": "code",
   "execution_count": 45,
   "id": "039402fd",
   "metadata": {},
   "outputs": [],
   "source": [
    "#Remove outliers\n",
    "from scipy.stats import zscore\n",
    "out_features=df.drop(categorical_col+[\"COST\"],axis=1)\n",
    "z=np.abs(zscore(out_features))\n",
    "df1=df[(z<3).all(axis=1)]"
   ]
  },
  {
   "cell_type": "code",
   "execution_count": 46,
   "id": "d76e478c",
   "metadata": {},
   "outputs": [
    {
     "data": {
      "text/plain": [
       "(12422, 8)"
      ]
     },
     "execution_count": 46,
     "metadata": {},
     "output_type": "execute_result"
    }
   ],
   "source": [
    "df1.shape"
   ]
  },
  {
   "cell_type": "code",
   "execution_count": 47,
   "id": "48d9ecf0",
   "metadata": {},
   "outputs": [
    {
     "name": "stdout",
     "output_type": "stream",
     "text": [
      "Data loss percentage -  2.111899133175729\n"
     ]
    }
   ],
   "source": [
    "print(\"Data loss percentage - \",((df.shape[0]-df1.shape[0])/df.shape[0])*100)"
   ]
  },
  {
   "cell_type": "markdown",
   "id": "e8472d12",
   "metadata": {},
   "source": [
    "The data loss percentage is 2.11% which is less than 10% and hence acceptable."
   ]
  },
  {
   "cell_type": "markdown",
   "id": "4af97a13",
   "metadata": {},
   "source": [
    "Encoding Categorical Columns"
   ]
  },
  {
   "cell_type": "code",
   "execution_count": 48,
   "id": "acc3f297",
   "metadata": {},
   "outputs": [
    {
     "data": {
      "text/html": [
       "<div>\n",
       "<style scoped>\n",
       "    .dataframe tbody tr th:only-of-type {\n",
       "        vertical-align: middle;\n",
       "    }\n",
       "\n",
       "    .dataframe tbody tr th {\n",
       "        vertical-align: top;\n",
       "    }\n",
       "\n",
       "    .dataframe thead th {\n",
       "        text-align: right;\n",
       "    }\n",
       "</style>\n",
       "<table border=\"1\" class=\"dataframe\">\n",
       "  <thead>\n",
       "    <tr style=\"text-align: right;\">\n",
       "      <th></th>\n",
       "      <th>TITLE</th>\n",
       "      <th>CUISINES</th>\n",
       "      <th>TIME</th>\n",
       "      <th>CITY</th>\n",
       "      <th>LOCALITY</th>\n",
       "      <th>RATING</th>\n",
       "      <th>VOTES</th>\n",
       "      <th>COST</th>\n",
       "    </tr>\n",
       "  </thead>\n",
       "  <tbody>\n",
       "    <tr>\n",
       "      <th>0</th>\n",
       "      <td>31.0</td>\n",
       "      <td>2554.0</td>\n",
       "      <td>729.0</td>\n",
       "      <td>316.0</td>\n",
       "      <td>283.0</td>\n",
       "      <td>3.6</td>\n",
       "      <td>49.0</td>\n",
       "      <td>1200</td>\n",
       "    </tr>\n",
       "    <tr>\n",
       "      <th>1</th>\n",
       "      <td>33.0</td>\n",
       "      <td>276.0</td>\n",
       "      <td>1850.0</td>\n",
       "      <td>66.0</td>\n",
       "      <td>1039.0</td>\n",
       "      <td>4.2</td>\n",
       "      <td>30.0</td>\n",
       "      <td>1500</td>\n",
       "    </tr>\n",
       "    <tr>\n",
       "      <th>2</th>\n",
       "      <td>31.0</td>\n",
       "      <td>2890.0</td>\n",
       "      <td>652.0</td>\n",
       "      <td>66.0</td>\n",
       "      <td>1093.0</td>\n",
       "      <td>3.8</td>\n",
       "      <td>221.0</td>\n",
       "      <td>800</td>\n",
       "    </tr>\n",
       "    <tr>\n",
       "      <th>3</th>\n",
       "      <td>93.0</td>\n",
       "      <td>4015.0</td>\n",
       "      <td>269.0</td>\n",
       "      <td>221.0</td>\n",
       "      <td>136.0</td>\n",
       "      <td>4.1</td>\n",
       "      <td>24.0</td>\n",
       "      <td>800</td>\n",
       "    </tr>\n",
       "    <tr>\n",
       "      <th>4</th>\n",
       "      <td>50.0</td>\n",
       "      <td>1715.0</td>\n",
       "      <td>606.0</td>\n",
       "      <td>221.0</td>\n",
       "      <td>616.0</td>\n",
       "      <td>3.8</td>\n",
       "      <td>165.0</td>\n",
       "      <td>300</td>\n",
       "    </tr>\n",
       "    <tr>\n",
       "      <th>...</th>\n",
       "      <td>...</td>\n",
       "      <td>...</td>\n",
       "      <td>...</td>\n",
       "      <td>...</td>\n",
       "      <td>...</td>\n",
       "      <td>...</td>\n",
       "      <td>...</td>\n",
       "      <td>...</td>\n",
       "    </tr>\n",
       "    <tr>\n",
       "      <th>12685</th>\n",
       "      <td>93.0</td>\n",
       "      <td>2849.0</td>\n",
       "      <td>1123.0</td>\n",
       "      <td>130.0</td>\n",
       "      <td>340.0</td>\n",
       "      <td>3.8</td>\n",
       "      <td>546.0</td>\n",
       "      <td>500</td>\n",
       "    </tr>\n",
       "    <tr>\n",
       "      <th>12686</th>\n",
       "      <td>33.0</td>\n",
       "      <td>2083.0</td>\n",
       "      <td>1154.0</td>\n",
       "      <td>221.0</td>\n",
       "      <td>133.0</td>\n",
       "      <td>4.3</td>\n",
       "      <td>1214.0</td>\n",
       "      <td>1800</td>\n",
       "    </tr>\n",
       "    <tr>\n",
       "      <th>12687</th>\n",
       "      <td>71.0</td>\n",
       "      <td>2030.0</td>\n",
       "      <td>1116.0</td>\n",
       "      <td>238.0</td>\n",
       "      <td>1334.0</td>\n",
       "      <td>4.0</td>\n",
       "      <td>608.0</td>\n",
       "      <td>1300</td>\n",
       "    </tr>\n",
       "    <tr>\n",
       "      <th>12688</th>\n",
       "      <td>31.0</td>\n",
       "      <td>3408.0</td>\n",
       "      <td>1802.0</td>\n",
       "      <td>66.0</td>\n",
       "      <td>627.0</td>\n",
       "      <td>3.5</td>\n",
       "      <td>32.0</td>\n",
       "      <td>400</td>\n",
       "    </tr>\n",
       "    <tr>\n",
       "      <th>12689</th>\n",
       "      <td>31.0</td>\n",
       "      <td>2860.0</td>\n",
       "      <td>824.0</td>\n",
       "      <td>130.0</td>\n",
       "      <td>1325.0</td>\n",
       "      <td>3.4</td>\n",
       "      <td>677.0</td>\n",
       "      <td>600</td>\n",
       "    </tr>\n",
       "  </tbody>\n",
       "</table>\n",
       "<p>12422 rows × 8 columns</p>\n",
       "</div>"
      ],
      "text/plain": [
       "       TITLE  CUISINES    TIME   CITY  LOCALITY  RATING   VOTES  COST\n",
       "0       31.0    2554.0   729.0  316.0     283.0     3.6    49.0  1200\n",
       "1       33.0     276.0  1850.0   66.0    1039.0     4.2    30.0  1500\n",
       "2       31.0    2890.0   652.0   66.0    1093.0     3.8   221.0   800\n",
       "3       93.0    4015.0   269.0  221.0     136.0     4.1    24.0   800\n",
       "4       50.0    1715.0   606.0  221.0     616.0     3.8   165.0   300\n",
       "...      ...       ...     ...    ...       ...     ...     ...   ...\n",
       "12685   93.0    2849.0  1123.0  130.0     340.0     3.8   546.0   500\n",
       "12686   33.0    2083.0  1154.0  221.0     133.0     4.3  1214.0  1800\n",
       "12687   71.0    2030.0  1116.0  238.0    1334.0     4.0   608.0  1300\n",
       "12688   31.0    3408.0  1802.0   66.0     627.0     3.5    32.0   400\n",
       "12689   31.0    2860.0   824.0  130.0    1325.0     3.4   677.0   600\n",
       "\n",
       "[12422 rows x 8 columns]"
      ]
     },
     "execution_count": 48,
     "metadata": {},
     "output_type": "execute_result"
    }
   ],
   "source": [
    "from sklearn.preprocessing import OrdinalEncoder\n",
    "OE=OrdinalEncoder()\n",
    "for col in categorical_col:\n",
    "    df1[col]=OE.fit_transform(df1[col].values.reshape(-1,1))\n",
    "df1"
   ]
  },
  {
   "cell_type": "markdown",
   "id": "d4e16207",
   "metadata": {},
   "source": [
    "Checking for Skewness"
   ]
  },
  {
   "cell_type": "code",
   "execution_count": 49,
   "id": "26cb7520",
   "metadata": {},
   "outputs": [
    {
     "data": {
      "text/plain": [
       "TITLE      -0.101625\n",
       "CUISINES   -0.218102\n",
       "TIME        0.302878\n",
       "CITY        0.267085\n",
       "LOCALITY    0.350531\n",
       "RATING     -0.436461\n",
       "VOTES       2.498584\n",
       "COST        4.092020\n",
       "dtype: float64"
      ]
     },
     "execution_count": 49,
     "metadata": {},
     "output_type": "execute_result"
    }
   ],
   "source": [
    "df1.skew()"
   ]
  },
  {
   "cell_type": "markdown",
   "id": "b92db207",
   "metadata": {},
   "source": [
    "We can see that the columns \"VOTES\" and \"COST\" have skewness. We don't remove skewness from the label. So we will remove skewness from \"VOTES\" using Yeo-Johnson transformation method."
   ]
  },
  {
   "cell_type": "code",
   "execution_count": 54,
   "id": "77e23cae",
   "metadata": {},
   "outputs": [],
   "source": [
    "from sklearn.preprocessing import PowerTransformer\n",
    "pt=PowerTransformer(method='yeo-johnson')\n",
    "df1[\"VOTES\"]=pt.fit_transform(df1[[\"VOTES\"]])"
   ]
  },
  {
   "cell_type": "code",
   "execution_count": 55,
   "id": "7fd94ca3",
   "metadata": {},
   "outputs": [
    {
     "data": {
      "text/plain": [
       "TITLE      -0.101625\n",
       "CUISINES   -0.218102\n",
       "TIME        0.302878\n",
       "CITY        0.267085\n",
       "LOCALITY    0.350531\n",
       "RATING     -0.436461\n",
       "VOTES      -0.028141\n",
       "COST        4.092020\n",
       "dtype: float64"
      ]
     },
     "execution_count": 55,
     "metadata": {},
     "output_type": "execute_result"
    }
   ],
   "source": [
    "#Check skewness again\n",
    "df1.skew()"
   ]
  },
  {
   "cell_type": "markdown",
   "id": "64f84b84",
   "metadata": {},
   "source": [
    "So, we have removed the skewness from the column \"VOTES\"."
   ]
  },
  {
   "cell_type": "code",
   "execution_count": 56,
   "id": "a88c99c0",
   "metadata": {},
   "outputs": [
    {
     "name": "stdout",
     "output_type": "stream",
     "text": [
      "<class 'pandas.core.frame.DataFrame'>\n",
      "Int64Index: 12422 entries, 0 to 12689\n",
      "Data columns (total 8 columns):\n",
      " #   Column    Non-Null Count  Dtype  \n",
      "---  ------    --------------  -----  \n",
      " 0   TITLE     12422 non-null  float64\n",
      " 1   CUISINES  12422 non-null  float64\n",
      " 2   TIME      12422 non-null  float64\n",
      " 3   CITY      12422 non-null  float64\n",
      " 4   LOCALITY  12422 non-null  float64\n",
      " 5   RATING    12422 non-null  float64\n",
      " 6   VOTES     12422 non-null  float64\n",
      " 7   COST      12422 non-null  int64  \n",
      "dtypes: float64(7), int64(1)\n",
      "memory usage: 873.4 KB\n"
     ]
    }
   ],
   "source": [
    "df1.info()"
   ]
  },
  {
   "cell_type": "markdown",
   "id": "9627dd09",
   "metadata": {},
   "source": [
    "We can observe that after encoding, the data type of categorical features have been converted from object to float."
   ]
  },
  {
   "cell_type": "code",
   "execution_count": 58,
   "id": "a16f0ab0",
   "metadata": {},
   "outputs": [
    {
     "data": {
      "text/html": [
       "<div>\n",
       "<style scoped>\n",
       "    .dataframe tbody tr th:only-of-type {\n",
       "        vertical-align: middle;\n",
       "    }\n",
       "\n",
       "    .dataframe tbody tr th {\n",
       "        vertical-align: top;\n",
       "    }\n",
       "\n",
       "    .dataframe thead th {\n",
       "        text-align: right;\n",
       "    }\n",
       "</style>\n",
       "<table border=\"1\" class=\"dataframe\">\n",
       "  <thead>\n",
       "    <tr style=\"text-align: right;\">\n",
       "      <th></th>\n",
       "      <th>TITLE</th>\n",
       "      <th>CUISINES</th>\n",
       "      <th>TIME</th>\n",
       "      <th>CITY</th>\n",
       "      <th>LOCALITY</th>\n",
       "      <th>RATING</th>\n",
       "      <th>VOTES</th>\n",
       "      <th>COST</th>\n",
       "    </tr>\n",
       "  </thead>\n",
       "  <tbody>\n",
       "    <tr>\n",
       "      <th>count</th>\n",
       "      <td>12422.000000</td>\n",
       "      <td>12422.000000</td>\n",
       "      <td>12422.000000</td>\n",
       "      <td>12422.000000</td>\n",
       "      <td>12422.000000</td>\n",
       "      <td>12422.000000</td>\n",
       "      <td>1.242200e+04</td>\n",
       "      <td>12422.00000</td>\n",
       "    </tr>\n",
       "    <tr>\n",
       "      <th>mean</th>\n",
       "      <td>59.450572</td>\n",
       "      <td>2172.495089</td>\n",
       "      <td>1159.880696</td>\n",
       "      <td>141.288762</td>\n",
       "      <td>648.469973</td>\n",
       "      <td>3.784566</td>\n",
       "      <td>4.576028e-18</td>\n",
       "      <td>646.18427</td>\n",
       "    </tr>\n",
       "    <tr>\n",
       "      <th>std</th>\n",
       "      <td>32.476634</td>\n",
       "      <td>1170.656563</td>\n",
       "      <td>741.718059</td>\n",
       "      <td>83.380243</td>\n",
       "      <td>397.204386</td>\n",
       "      <td>0.385307</td>\n",
       "      <td>1.000040e+00</td>\n",
       "      <td>623.22395</td>\n",
       "    </tr>\n",
       "    <tr>\n",
       "      <th>min</th>\n",
       "      <td>0.000000</td>\n",
       "      <td>0.000000</td>\n",
       "      <td>0.000000</td>\n",
       "      <td>0.000000</td>\n",
       "      <td>0.000000</td>\n",
       "      <td>2.600000</td>\n",
       "      <td>-2.331342e+00</td>\n",
       "      <td>20.00000</td>\n",
       "    </tr>\n",
       "    <tr>\n",
       "      <th>25%</th>\n",
       "      <td>31.000000</td>\n",
       "      <td>1156.250000</td>\n",
       "      <td>548.000000</td>\n",
       "      <td>66.000000</td>\n",
       "      <td>335.000000</td>\n",
       "      <td>3.600000</td>\n",
       "      <td>-7.844661e-01</td>\n",
       "      <td>300.00000</td>\n",
       "    </tr>\n",
       "    <tr>\n",
       "      <th>50%</th>\n",
       "      <td>60.000000</td>\n",
       "      <td>2348.500000</td>\n",
       "      <td>1102.000000</td>\n",
       "      <td>130.000000</td>\n",
       "      <td>578.000000</td>\n",
       "      <td>3.800000</td>\n",
       "      <td>4.706267e-02</td>\n",
       "      <td>450.00000</td>\n",
       "    </tr>\n",
       "    <tr>\n",
       "      <th>75%</th>\n",
       "      <td>93.000000</td>\n",
       "      <td>3133.750000</td>\n",
       "      <td>1817.000000</td>\n",
       "      <td>221.000000</td>\n",
       "      <td>1002.000000</td>\n",
       "      <td>4.000000</td>\n",
       "      <td>6.544862e-01</td>\n",
       "      <td>750.00000</td>\n",
       "    </tr>\n",
       "    <tr>\n",
       "      <th>max</th>\n",
       "      <td>110.000000</td>\n",
       "      <td>4038.000000</td>\n",
       "      <td>2636.000000</td>\n",
       "      <td>354.000000</td>\n",
       "      <td>1406.000000</td>\n",
       "      <td>4.900000</td>\n",
       "      <td>2.415014e+00</td>\n",
       "      <td>14000.00000</td>\n",
       "    </tr>\n",
       "  </tbody>\n",
       "</table>\n",
       "</div>"
      ],
      "text/plain": [
       "              TITLE      CUISINES          TIME          CITY      LOCALITY  \\\n",
       "count  12422.000000  12422.000000  12422.000000  12422.000000  12422.000000   \n",
       "mean      59.450572   2172.495089   1159.880696    141.288762    648.469973   \n",
       "std       32.476634   1170.656563    741.718059     83.380243    397.204386   \n",
       "min        0.000000      0.000000      0.000000      0.000000      0.000000   \n",
       "25%       31.000000   1156.250000    548.000000     66.000000    335.000000   \n",
       "50%       60.000000   2348.500000   1102.000000    130.000000    578.000000   \n",
       "75%       93.000000   3133.750000   1817.000000    221.000000   1002.000000   \n",
       "max      110.000000   4038.000000   2636.000000    354.000000   1406.000000   \n",
       "\n",
       "             RATING         VOTES         COST  \n",
       "count  12422.000000  1.242200e+04  12422.00000  \n",
       "mean       3.784566  4.576028e-18    646.18427  \n",
       "std        0.385307  1.000040e+00    623.22395  \n",
       "min        2.600000 -2.331342e+00     20.00000  \n",
       "25%        3.600000 -7.844661e-01    300.00000  \n",
       "50%        3.800000  4.706267e-02    450.00000  \n",
       "75%        4.000000  6.544862e-01    750.00000  \n",
       "max        4.900000  2.415014e+00  14000.00000  "
      ]
     },
     "execution_count": 58,
     "metadata": {},
     "output_type": "execute_result"
    }
   ],
   "source": [
    "#Statistical summary of numerical columns\n",
    "df1.describe()"
   ]
  },
  {
   "cell_type": "markdown",
   "id": "37137d7f",
   "metadata": {},
   "source": [
    "We can observe that there are no missing values in any of the columns."
   ]
  },
  {
   "cell_type": "markdown",
   "id": "2ea5c29d",
   "metadata": {},
   "source": [
    "The skewness in the column \"VOTES\" has been reduced as the mean is almost equal to the median and the outliers in the columns \"RATING\" and \"VOTES\" have been reduced as the max is not much bigger than 75%."
   ]
  },
  {
   "cell_type": "code",
   "execution_count": 59,
   "id": "d3968960",
   "metadata": {},
   "outputs": [
    {
     "data": {
      "text/html": [
       "<div>\n",
       "<style scoped>\n",
       "    .dataframe tbody tr th:only-of-type {\n",
       "        vertical-align: middle;\n",
       "    }\n",
       "\n",
       "    .dataframe tbody tr th {\n",
       "        vertical-align: top;\n",
       "    }\n",
       "\n",
       "    .dataframe thead th {\n",
       "        text-align: right;\n",
       "    }\n",
       "</style>\n",
       "<table border=\"1\" class=\"dataframe\">\n",
       "  <thead>\n",
       "    <tr style=\"text-align: right;\">\n",
       "      <th></th>\n",
       "      <th>TITLE</th>\n",
       "      <th>CUISINES</th>\n",
       "      <th>TIME</th>\n",
       "      <th>CITY</th>\n",
       "      <th>LOCALITY</th>\n",
       "      <th>RATING</th>\n",
       "      <th>VOTES</th>\n",
       "      <th>COST</th>\n",
       "    </tr>\n",
       "  </thead>\n",
       "  <tbody>\n",
       "    <tr>\n",
       "      <th>TITLE</th>\n",
       "      <td>1.000000</td>\n",
       "      <td>0.246870</td>\n",
       "      <td>0.055545</td>\n",
       "      <td>-0.011148</td>\n",
       "      <td>0.026221</td>\n",
       "      <td>-0.149067</td>\n",
       "      <td>-0.175882</td>\n",
       "      <td>-0.260789</td>\n",
       "    </tr>\n",
       "    <tr>\n",
       "      <th>CUISINES</th>\n",
       "      <td>0.246870</td>\n",
       "      <td>1.000000</td>\n",
       "      <td>0.106242</td>\n",
       "      <td>0.023187</td>\n",
       "      <td>0.015549</td>\n",
       "      <td>-0.059849</td>\n",
       "      <td>-0.019927</td>\n",
       "      <td>-0.011384</td>\n",
       "    </tr>\n",
       "    <tr>\n",
       "      <th>TIME</th>\n",
       "      <td>0.055545</td>\n",
       "      <td>0.106242</td>\n",
       "      <td>1.000000</td>\n",
       "      <td>-0.009419</td>\n",
       "      <td>-0.006781</td>\n",
       "      <td>0.041585</td>\n",
       "      <td>-0.012733</td>\n",
       "      <td>0.018944</td>\n",
       "    </tr>\n",
       "    <tr>\n",
       "      <th>CITY</th>\n",
       "      <td>-0.011148</td>\n",
       "      <td>0.023187</td>\n",
       "      <td>-0.009419</td>\n",
       "      <td>1.000000</td>\n",
       "      <td>0.044449</td>\n",
       "      <td>0.061162</td>\n",
       "      <td>0.147950</td>\n",
       "      <td>0.044867</td>\n",
       "    </tr>\n",
       "    <tr>\n",
       "      <th>LOCALITY</th>\n",
       "      <td>0.026221</td>\n",
       "      <td>0.015549</td>\n",
       "      <td>-0.006781</td>\n",
       "      <td>0.044449</td>\n",
       "      <td>1.000000</td>\n",
       "      <td>-0.027001</td>\n",
       "      <td>-0.034101</td>\n",
       "      <td>-0.014612</td>\n",
       "    </tr>\n",
       "    <tr>\n",
       "      <th>RATING</th>\n",
       "      <td>-0.149067</td>\n",
       "      <td>-0.059849</td>\n",
       "      <td>0.041585</td>\n",
       "      <td>0.061162</td>\n",
       "      <td>-0.027001</td>\n",
       "      <td>1.000000</td>\n",
       "      <td>0.542042</td>\n",
       "      <td>0.317812</td>\n",
       "    </tr>\n",
       "    <tr>\n",
       "      <th>VOTES</th>\n",
       "      <td>-0.175882</td>\n",
       "      <td>-0.019927</td>\n",
       "      <td>-0.012733</td>\n",
       "      <td>0.147950</td>\n",
       "      <td>-0.034101</td>\n",
       "      <td>0.542042</td>\n",
       "      <td>1.000000</td>\n",
       "      <td>0.298414</td>\n",
       "    </tr>\n",
       "    <tr>\n",
       "      <th>COST</th>\n",
       "      <td>-0.260789</td>\n",
       "      <td>-0.011384</td>\n",
       "      <td>0.018944</td>\n",
       "      <td>0.044867</td>\n",
       "      <td>-0.014612</td>\n",
       "      <td>0.317812</td>\n",
       "      <td>0.298414</td>\n",
       "      <td>1.000000</td>\n",
       "    </tr>\n",
       "  </tbody>\n",
       "</table>\n",
       "</div>"
      ],
      "text/plain": [
       "             TITLE  CUISINES      TIME      CITY  LOCALITY    RATING  \\\n",
       "TITLE     1.000000  0.246870  0.055545 -0.011148  0.026221 -0.149067   \n",
       "CUISINES  0.246870  1.000000  0.106242  0.023187  0.015549 -0.059849   \n",
       "TIME      0.055545  0.106242  1.000000 -0.009419 -0.006781  0.041585   \n",
       "CITY     -0.011148  0.023187 -0.009419  1.000000  0.044449  0.061162   \n",
       "LOCALITY  0.026221  0.015549 -0.006781  0.044449  1.000000 -0.027001   \n",
       "RATING   -0.149067 -0.059849  0.041585  0.061162 -0.027001  1.000000   \n",
       "VOTES    -0.175882 -0.019927 -0.012733  0.147950 -0.034101  0.542042   \n",
       "COST     -0.260789 -0.011384  0.018944  0.044867 -0.014612  0.317812   \n",
       "\n",
       "             VOTES      COST  \n",
       "TITLE    -0.175882 -0.260789  \n",
       "CUISINES -0.019927 -0.011384  \n",
       "TIME     -0.012733  0.018944  \n",
       "CITY      0.147950  0.044867  \n",
       "LOCALITY -0.034101 -0.014612  \n",
       "RATING    0.542042  0.317812  \n",
       "VOTES     1.000000  0.298414  \n",
       "COST      0.298414  1.000000  "
      ]
     },
     "execution_count": 59,
     "metadata": {},
     "output_type": "execute_result"
    }
   ],
   "source": [
    "#Check correlation between features and label\n",
    "cor=df1.corr()\n",
    "cor"
   ]
  },
  {
   "cell_type": "code",
   "execution_count": 61,
   "id": "bc16b933",
   "metadata": {},
   "outputs": [
    {
     "data": {
      "image/png": "[encoded data removed]",
      "text/plain": [
       "<Figure size 1000x1000 with 2 Axes>"
      ]
     },
     "metadata": {},
     "output_type": "display_data"
    }
   ],
   "source": [
    "#Visualize the correlation between features and label\n",
    "plt.figure(figsize=(10,10))\n",
    "sns.heatmap(df1.corr(),linewidths=0.1,fmt='.1g',linecolor='black',annot=True,cmap='plasma')\n",
    "plt.yticks(rotation=0)\n",
    "plt.show()"
   ]
  },
  {
   "cell_type": "markdown",
   "id": "73aace7e",
   "metadata": {},
   "source": [
    "We can observe the following:"
   ]
  },
  {
   "cell_type": "markdown",
   "id": "5a5dcc66",
   "metadata": {},
   "source": [
    "The features \"TITLE\", \"CUISINES\" and \"LOCALITY\" have negative correlation with the label \"COST\"."
   ]
  },
  {
   "cell_type": "markdown",
   "id": "a96cb925",
   "metadata": {},
   "source": [
    "The features \"TIME\", \"CITY\", \"RATING\" and \"VOTES\" have positive correlation with the label \"COST\"."
   ]
  },
  {
   "cell_type": "markdown",
   "id": "3da6aad4",
   "metadata": {},
   "source": [
    "The features \"RATING\" and \"VOTES\" have high positive correlation with each other."
   ]
  },
  {
   "cell_type": "code",
   "execution_count": 62,
   "id": "119bf8ba",
   "metadata": {},
   "outputs": [
    {
     "data": {
      "text/plain": [
       "COST        1.000000\n",
       "RATING      0.317812\n",
       "VOTES       0.298414\n",
       "CITY        0.044867\n",
       "TIME        0.018944\n",
       "CUISINES   -0.011384\n",
       "LOCALITY   -0.014612\n",
       "TITLE      -0.260789\n",
       "Name: COST, dtype: float64"
      ]
     },
     "execution_count": 62,
     "metadata": {},
     "output_type": "execute_result"
    }
   ],
   "source": [
    "#Correlation between features and label\n",
    "cor['COST'].sort_values(ascending=False)"
   ]
  },
  {
   "cell_type": "code",
   "execution_count": 63,
   "id": "f874c357",
   "metadata": {},
   "outputs": [
    {
     "data": {
      "image/png": "[encoded data removed]",
      "text/plain": [
       "<Figure size 1800x600 with 1 Axes>"
      ]
     },
     "metadata": {},
     "output_type": "display_data"
    }
   ],
   "source": [
    "#Visualize the correlation between features and label\n",
    "plt.figure(figsize=(18,6))\n",
    "df1.corr()['COST'].sort_values(ascending=False).drop(['COST']).plot(kind='bar',color='#BE0AFF')\n",
    "plt.xlabel('Feature',fontsize=15)\n",
    "plt.ylabel('Label',fontsize=15)\n",
    "plt.title('Correlation between features and label',fontsize=20)\n",
    "plt.show()"
   ]
  },
  {
   "cell_type": "markdown",
   "id": "68041beb",
   "metadata": {},
   "source": [
    "We can observe that the feature \"CUISINES\" has very low correlation with the label \"COST\"."
   ]
  },
  {
   "cell_type": "markdown",
   "id": "2015d31d",
   "metadata": {},
   "source": [
    "Separating features and label"
   ]
  },
  {
   "cell_type": "code",
   "execution_count": 64,
   "id": "8148dcf5",
   "metadata": {},
   "outputs": [],
   "source": [
    "x=df1.drop(\"COST\",axis=1)\n",
    "y=df1[\"COST\"]"
   ]
  },
  {
   "cell_type": "markdown",
   "id": "f7380d6a",
   "metadata": {},
   "source": [
    "Feature Scaling"
   ]
  },
  {
   "cell_type": "code",
   "execution_count": 65,
   "id": "fe82534d",
   "metadata": {},
   "outputs": [
    {
     "data": {
      "text/html": [
       "<div>\n",
       "<style scoped>\n",
       "    .dataframe tbody tr th:only-of-type {\n",
       "        vertical-align: middle;\n",
       "    }\n",
       "\n",
       "    .dataframe tbody tr th {\n",
       "        vertical-align: top;\n",
       "    }\n",
       "\n",
       "    .dataframe thead th {\n",
       "        text-align: right;\n",
       "    }\n",
       "</style>\n",
       "<table border=\"1\" class=\"dataframe\">\n",
       "  <thead>\n",
       "    <tr style=\"text-align: right;\">\n",
       "      <th></th>\n",
       "      <th>TITLE</th>\n",
       "      <th>CUISINES</th>\n",
       "      <th>TIME</th>\n",
       "      <th>CITY</th>\n",
       "      <th>LOCALITY</th>\n",
       "      <th>RATING</th>\n",
       "      <th>VOTES</th>\n",
       "    </tr>\n",
       "  </thead>\n",
       "  <tbody>\n",
       "    <tr>\n",
       "      <th>0</th>\n",
       "      <td>-0.876067</td>\n",
       "      <td>0.325903</td>\n",
       "      <td>-0.580946</td>\n",
       "      <td>2.095440</td>\n",
       "      <td>-0.920143</td>\n",
       "      <td>-0.479031</td>\n",
       "      <td>-0.942463</td>\n",
       "    </tr>\n",
       "    <tr>\n",
       "      <th>1</th>\n",
       "      <td>-0.814482</td>\n",
       "      <td>-1.620092</td>\n",
       "      <td>0.930471</td>\n",
       "      <td>-0.902993</td>\n",
       "      <td>0.983236</td>\n",
       "      <td>1.078233</td>\n",
       "      <td>-1.257840</td>\n",
       "    </tr>\n",
       "    <tr>\n",
       "      <th>2</th>\n",
       "      <td>-0.876067</td>\n",
       "      <td>0.612933</td>\n",
       "      <td>-0.684763</td>\n",
       "      <td>-0.902993</td>\n",
       "      <td>1.119192</td>\n",
       "      <td>0.040057</td>\n",
       "      <td>0.144237</td>\n",
       "    </tr>\n",
       "    <tr>\n",
       "      <th>3</th>\n",
       "      <td>1.033074</td>\n",
       "      <td>1.573971</td>\n",
       "      <td>-1.201153</td>\n",
       "      <td>0.956035</td>\n",
       "      <td>-1.290244</td>\n",
       "      <td>0.818689</td>\n",
       "      <td>-1.394885</td>\n",
       "    </tr>\n",
       "    <tr>\n",
       "      <th>4</th>\n",
       "      <td>-0.291008</td>\n",
       "      <td>-0.390818</td>\n",
       "      <td>-0.746784</td>\n",
       "      <td>0.956035</td>\n",
       "      <td>-0.081750</td>\n",
       "      <td>0.040057</td>\n",
       "      <td>-0.080657</td>\n",
       "    </tr>\n",
       "    <tr>\n",
       "      <th>...</th>\n",
       "      <td>...</td>\n",
       "      <td>...</td>\n",
       "      <td>...</td>\n",
       "      <td>...</td>\n",
       "      <td>...</td>\n",
       "      <td>...</td>\n",
       "      <td>...</td>\n",
       "    </tr>\n",
       "    <tr>\n",
       "      <th>12417</th>\n",
       "      <td>1.033074</td>\n",
       "      <td>0.577908</td>\n",
       "      <td>-0.049725</td>\n",
       "      <td>-0.135394</td>\n",
       "      <td>-0.776634</td>\n",
       "      <td>0.040057</td>\n",
       "      <td>0.885248</td>\n",
       "    </tr>\n",
       "    <tr>\n",
       "      <th>12418</th>\n",
       "      <td>-0.814482</td>\n",
       "      <td>-0.076452</td>\n",
       "      <td>-0.007929</td>\n",
       "      <td>0.956035</td>\n",
       "      <td>-1.297797</td>\n",
       "      <td>1.337777</td>\n",
       "      <td>1.599499</td>\n",
       "    </tr>\n",
       "    <tr>\n",
       "      <th>12419</th>\n",
       "      <td>0.355637</td>\n",
       "      <td>-0.121727</td>\n",
       "      <td>-0.059163</td>\n",
       "      <td>1.159929</td>\n",
       "      <td>1.725957</td>\n",
       "      <td>0.559145</td>\n",
       "      <td>0.978038</td>\n",
       "    </tr>\n",
       "    <tr>\n",
       "      <th>12420</th>\n",
       "      <td>-0.876067</td>\n",
       "      <td>1.055437</td>\n",
       "      <td>0.865754</td>\n",
       "      <td>-0.902993</td>\n",
       "      <td>-0.054055</td>\n",
       "      <td>-0.738575</td>\n",
       "      <td>-1.217450</td>\n",
       "    </tr>\n",
       "    <tr>\n",
       "      <th>12421</th>\n",
       "      <td>-0.876067</td>\n",
       "      <td>0.587305</td>\n",
       "      <td>-0.452860</td>\n",
       "      <td>-0.135394</td>\n",
       "      <td>1.703298</td>\n",
       "      <td>-0.998119</td>\n",
       "      <td>1.071800</td>\n",
       "    </tr>\n",
       "  </tbody>\n",
       "</table>\n",
       "<p>12422 rows × 7 columns</p>\n",
       "</div>"
      ],
      "text/plain": [
       "          TITLE  CUISINES      TIME      CITY  LOCALITY    RATING     VOTES\n",
       "0     -0.876067  0.325903 -0.580946  2.095440 -0.920143 -0.479031 -0.942463\n",
       "1     -0.814482 -1.620092  0.930471 -0.902993  0.983236  1.078233 -1.257840\n",
       "2     -0.876067  0.612933 -0.684763 -0.902993  1.119192  0.040057  0.144237\n",
       "3      1.033074  1.573971 -1.201153  0.956035 -1.290244  0.818689 -1.394885\n",
       "4     -0.291008 -0.390818 -0.746784  0.956035 -0.081750  0.040057 -0.080657\n",
       "...         ...       ...       ...       ...       ...       ...       ...\n",
       "12417  1.033074  0.577908 -0.049725 -0.135394 -0.776634  0.040057  0.885248\n",
       "12418 -0.814482 -0.076452 -0.007929  0.956035 -1.297797  1.337777  1.599499\n",
       "12419  0.355637 -0.121727 -0.059163  1.159929  1.725957  0.559145  0.978038\n",
       "12420 -0.876067  1.055437  0.865754 -0.902993 -0.054055 -0.738575 -1.217450\n",
       "12421 -0.876067  0.587305 -0.452860 -0.135394  1.703298 -0.998119  1.071800\n",
       "\n",
       "[12422 rows x 7 columns]"
      ]
     },
     "execution_count": 65,
     "metadata": {},
     "output_type": "execute_result"
    }
   ],
   "source": [
    "from sklearn.preprocessing import StandardScaler\n",
    "scaler=StandardScaler()\n",
    "x=pd.DataFrame(scaler.fit_transform(x),columns=x.columns)\n",
    "x"
   ]
  },
  {
   "cell_type": "markdown",
   "id": "1a649f6f",
   "metadata": {},
   "source": [
    "Now, all the features have been scaled to overcome the issue of biasness in the model."
   ]
  },
  {
   "cell_type": "markdown",
   "id": "02d38106",
   "metadata": {},
   "source": [
    "Checking Variance Inflation Factor (VIF)"
   ]
  },
  {
   "cell_type": "code",
   "execution_count": 66,
   "id": "009aa4a5",
   "metadata": {},
   "outputs": [
    {
     "data": {
      "text/html": [
       "<div>\n",
       "<style scoped>\n",
       "    .dataframe tbody tr th:only-of-type {\n",
       "        vertical-align: middle;\n",
       "    }\n",
       "\n",
       "    .dataframe tbody tr th {\n",
       "        vertical-align: top;\n",
       "    }\n",
       "\n",
       "    .dataframe thead th {\n",
       "        text-align: right;\n",
       "    }\n",
       "</style>\n",
       "<table border=\"1\" class=\"dataframe\">\n",
       "  <thead>\n",
       "    <tr style=\"text-align: right;\">\n",
       "      <th></th>\n",
       "      <th>VIF Values</th>\n",
       "      <th>Features</th>\n",
       "    </tr>\n",
       "  </thead>\n",
       "  <tbody>\n",
       "    <tr>\n",
       "      <th>0</th>\n",
       "      <td>1.103681</td>\n",
       "      <td>TITLE</td>\n",
       "    </tr>\n",
       "    <tr>\n",
       "      <th>1</th>\n",
       "      <td>1.078775</td>\n",
       "      <td>CUISINES</td>\n",
       "    </tr>\n",
       "    <tr>\n",
       "      <th>2</th>\n",
       "      <td>1.016972</td>\n",
       "      <td>TIME</td>\n",
       "    </tr>\n",
       "    <tr>\n",
       "      <th>3</th>\n",
       "      <td>1.026213</td>\n",
       "      <td>CITY</td>\n",
       "    </tr>\n",
       "    <tr>\n",
       "      <th>4</th>\n",
       "      <td>1.004281</td>\n",
       "      <td>LOCALITY</td>\n",
       "    </tr>\n",
       "    <tr>\n",
       "      <th>5</th>\n",
       "      <td>1.431666</td>\n",
       "      <td>RATING</td>\n",
       "    </tr>\n",
       "    <tr>\n",
       "      <th>6</th>\n",
       "      <td>1.468184</td>\n",
       "      <td>VOTES</td>\n",
       "    </tr>\n",
       "  </tbody>\n",
       "</table>\n",
       "</div>"
      ],
      "text/plain": [
       "   VIF Values  Features\n",
       "0    1.103681     TITLE\n",
       "1    1.078775  CUISINES\n",
       "2    1.016972      TIME\n",
       "3    1.026213      CITY\n",
       "4    1.004281  LOCALITY\n",
       "5    1.431666    RATING\n",
       "6    1.468184     VOTES"
      ]
     },
     "execution_count": 66,
     "metadata": {},
     "output_type": "execute_result"
    }
   ],
   "source": [
    "#Find Variance Inflation Factor of each feature\n",
    "from statsmodels.stats.outliers_influence import variance_inflation_factor\n",
    "vif=pd.DataFrame()\n",
    "vif[\"VIF Values\"]=[variance_inflation_factor(x.values,i) for i in range(len(x.columns))]\n",
    "vif[\"Features\"]=x.columns\n",
    "vif"
   ]
  },
  {
   "cell_type": "markdown",
   "id": "830c3e31",
   "metadata": {},
   "source": [
    "We can see that none of the features have VIF value greater than 10. So, we can conclude that there is no multicollinearity problem with the features and we can proceed further."
   ]
  },
  {
   "cell_type": "markdown",
   "id": "3917ac0c",
   "metadata": {},
   "source": [
    "# Model Building"
   ]
  },
  {
   "cell_type": "markdown",
   "id": "4eb02bdc",
   "metadata": {},
   "source": [
    "Finding the best random state"
   ]
  },
  {
   "cell_type": "code",
   "execution_count": 68,
   "id": "ca735f9a",
   "metadata": {},
   "outputs": [
    {
     "name": "stdout",
     "output_type": "stream",
     "text": [
      "Maximum R2 Score is  0.750309153056597 on Random State  144\n"
     ]
    }
   ],
   "source": [
    "from sklearn.model_selection import train_test_split\n",
    "from sklearn.metrics import mean_absolute_error\n",
    "from sklearn.metrics import mean_squared_error\n",
    "from sklearn.metrics import r2_score\n",
    "from sklearn.ensemble import GradientBoostingRegressor\n",
    "maxAccu=0\n",
    "maxRS=0\n",
    "for i in range(1,200):\n",
    "    x_train,x_test,y_train,y_test=train_test_split(x,y,test_size=.30,random_state=i)\n",
    "    GBR=GradientBoostingRegressor()\n",
    "    GBR.fit(x_train,y_train)\n",
    "    pred=GBR.predict(x_test)\n",
    "    acc=r2_score(y_test,pred)\n",
    "    if acc>maxAccu:\n",
    "        maxAccu=acc\n",
    "        maxRS=i\n",
    "print(\"Maximum R2 Score is \",maxAccu,\"on Random State \",maxRS)"
   ]
  },
  {
   "cell_type": "markdown",
   "id": "a18ad150",
   "metadata": {},
   "source": [
    "Creating train test split"
   ]
  },
  {
   "cell_type": "code",
   "execution_count": 69,
   "id": "da1b1fbb",
   "metadata": {},
   "outputs": [],
   "source": [
    "x_train,x_test,y_train,y_test=train_test_split(x,y,test_size=.30,random_state=maxRS)"
   ]
  },
  {
   "cell_type": "markdown",
   "id": "2d7558b0",
   "metadata": {},
   "source": [
    "Importing the necessary modules"
   ]
  },
  {
   "cell_type": "code",
   "execution_count": 70,
   "id": "9b2051e5",
   "metadata": {},
   "outputs": [],
   "source": [
    "from sklearn.linear_model import LinearRegression\n",
    "from xgboost import XGBRegressor\n",
    "from sklearn.svm import SVR\n",
    "from sklearn.ensemble import RandomForestRegressor,ExtraTreesRegressor,AdaBoostRegressor\n",
    "from sklearn.neighbors import KNeighborsRegressor"
   ]
  },
  {
   "cell_type": "code",
   "execution_count": 71,
   "id": "189ae093",
   "metadata": {},
   "outputs": [
    {
     "name": "stdout",
     "output_type": "stream",
     "text": [
      "R2_score:  0.7501769898687821\n",
      "R2_score on training data:  0.7186324030973689\n",
      "Mean Absolute Error:  192.86759267154494\n",
      "Mean Squared Error:  90201.10056616638\n",
      "Root Mean Squared Error:  300.3349805902842\n"
     ]
    }
   ],
   "source": [
    "#Gradient Boosting Regressor\n",
    "GBR=GradientBoostingRegressor()\n",
    "GBR.fit(x_train,y_train)\n",
    "pred_GBR=GBR.predict(x_test)\n",
    "pred_train=GBR.predict(x_train)\n",
    "print(\"R2_score: \",r2_score(y_test,pred_GBR))\n",
    "print(\"R2_score on training data: \",r2_score(y_train,pred_train))\n",
    "print(\"Mean Absolute Error: \",mean_absolute_error(y_test,pred_GBR))\n",
    "print(\"Mean Squared Error: \",mean_squared_error(y_test,pred_GBR))\n",
    "print(\"Root Mean Squared Error: \",np.sqrt(mean_squared_error(y_test,pred_GBR)))"
   ]
  },
  {
   "cell_type": "code",
   "execution_count": 72,
   "id": "74cd9f42",
   "metadata": {},
   "outputs": [
    {
     "name": "stdout",
     "output_type": "stream",
     "text": [
      "R2_score:  0.17929044651283044\n",
      "R2_score on training data:  0.16221206712970093\n",
      "Mean Absolute Error:  332.32424013912527\n",
      "Mean Squared Error:  296325.4062579203\n",
      "Root Mean Squared Error:  544.3577925022479\n"
     ]
    }
   ],
   "source": [
    "#Linear Regression\n",
    "LR=LinearRegression()\n",
    "LR.fit(x_train,y_train)\n",
    "pred_LR=LR.predict(x_test)\n",
    "pred_train=LR.predict(x_train)\n",
    "print(\"R2_score: \",r2_score(y_test,pred_LR))\n",
    "print(\"R2_score on training data: \",r2_score(y_train,pred_train))\n",
    "print(\"Mean Absolute Error: \",mean_absolute_error(y_test,pred_LR))\n",
    "print(\"Mean Squared Error: \",mean_squared_error(y_test,pred_LR))\n",
    "print(\"Root Mean Squared Error: \",np.sqrt(mean_squared_error(y_test,pred_LR)))"
   ]
  },
  {
   "cell_type": "code",
   "execution_count": 73,
   "id": "5082b337",
   "metadata": {},
   "outputs": [
    {
     "name": "stdout",
     "output_type": "stream",
     "text": [
      "R2_score:  0.7529869944810023\n",
      "R2_score on training data:  0.9433986157249109\n",
      "Mean Absolute Error:  188.16343295340695\n",
      "Mean Squared Error:  89186.5202499452\n",
      "Root Mean Squared Error:  298.64112283800637\n"
     ]
    }
   ],
   "source": [
    "#XGB Regressor\n",
    "XGB=XGBRegressor()\n",
    "XGB.fit(x_train,y_train)\n",
    "pred_XGB=XGB.predict(x_test)\n",
    "pred_train=XGB.predict(x_train)\n",
    "print(\"R2_score: \",r2_score(y_test,pred_XGB))\n",
    "print(\"R2_score on training data: \",r2_score(y_train,pred_train))\n",
    "print(\"Mean Absolute Error: \",mean_absolute_error(y_test,pred_XGB))\n",
    "print(\"Mean Squared Error: \",mean_squared_error(y_test,pred_XGB))\n",
    "print(\"Root Mean Squared Error: \",np.sqrt(mean_squared_error(y_test,pred_XGB)))"
   ]
  },
  {
   "cell_type": "code",
   "execution_count": 74,
   "id": "603cd9c6",
   "metadata": {},
   "outputs": [
    {
     "name": "stdout",
     "output_type": "stream",
     "text": [
      "R2_score:  0.08222719521065047\n",
      "R2_score on training data:  0.0774377303551893\n",
      "Mean Absolute Error:  301.7072405617314\n",
      "Mean Squared Error:  331371.0655324139\n",
      "Root Mean Squared Error:  575.648387066631\n"
     ]
    }
   ],
   "source": [
    "#Support Vector Machine Regressor\n",
    "svr=SVR()\n",
    "svr.fit(x_train,y_train)\n",
    "pred_svr=svr.predict(x_test)\n",
    "pred_train=svr.predict(x_train)\n",
    "print(\"R2_score: \",r2_score(y_test,pred_svr))\n",
    "print(\"R2_score on training data: \",r2_score(y_train,pred_train))\n",
    "print(\"Mean Absolute Error: \",mean_absolute_error(y_test,pred_svr))\n",
    "print(\"Mean Squared Error: \",mean_squared_error(y_test,pred_svr))\n",
    "print(\"Root Mean Squared Error: \",np.sqrt(mean_squared_error(y_test,pred_svr)))"
   ]
  },
  {
   "cell_type": "code",
   "execution_count": 75,
   "id": "5b65222f",
   "metadata": {},
   "outputs": [
    {
     "name": "stdout",
     "output_type": "stream",
     "text": [
      "R2_score:  0.7501655181418004\n",
      "R2_score on training data:  0.9586451248624498\n",
      "Mean Absolute Error:  186.54692980438756\n",
      "Mean Squared Error:  90205.24254811832\n",
      "Root Mean Squared Error:  300.34187611473413\n"
     ]
    }
   ],
   "source": [
    "#Random Forest Regressor\n",
    "RFR=RandomForestRegressor()\n",
    "RFR.fit(x_train,y_train)\n",
    "pred_RFR=RFR.predict(x_test)\n",
    "pred_train=RFR.predict(x_train)\n",
    "print(\"R2_score: \",r2_score(y_test,pred_RFR))\n",
    "print(\"R2_score on training data: \",r2_score(y_train,pred_train))\n",
    "print(\"Mean Absolute Error: \",mean_absolute_error(y_test,pred_RFR))\n",
    "print(\"Mean Squared Error: \",mean_squared_error(y_test,pred_RFR))\n",
    "print(\"Root Mean Squared Error: \",np.sqrt(mean_squared_error(y_test,pred_RFR)))"
   ]
  },
  {
   "cell_type": "code",
   "execution_count": 76,
   "id": "65a20d1c",
   "metadata": {},
   "outputs": [
    {
     "name": "stdout",
     "output_type": "stream",
     "text": [
      "R2_score:  0.7459988744352675\n",
      "R2_score on training data:  0.9999891627573696\n",
      "Mean Absolute Error:  191.9847598604776\n",
      "Mean Squared Error:  91709.65100032199\n",
      "Root Mean Squared Error:  302.8360133807107\n"
     ]
    }
   ],
   "source": [
    "#Extra Trees Regressor\n",
    "ETR=ExtraTreesRegressor()\n",
    "ETR.fit(x_train,y_train)\n",
    "pred_ETR=ETR.predict(x_test)\n",
    "pred_train=ETR.predict(x_train)\n",
    "print(\"R2_score: \",r2_score(y_test,pred_ETR))\n",
    "print(\"R2_score on training data: \",r2_score(y_train,pred_train))\n",
    "print(\"Mean Absolute Error: \",mean_absolute_error(y_test,pred_ETR))\n",
    "print(\"Mean Squared Error: \",mean_squared_error(y_test,pred_ETR))\n",
    "print(\"Root Mean Squared Error: \",np.sqrt(mean_squared_error(y_test,pred_ETR)))"
   ]
  },
  {
   "cell_type": "code",
   "execution_count": 77,
   "id": "a5c3a636",
   "metadata": {},
   "outputs": [
    {
     "name": "stdout",
     "output_type": "stream",
     "text": [
      "R2_score:  -0.42642118382217653\n",
      "R2_score on training data:  -0.2916795289572087\n",
      "Mean Absolute Error:  610.3138278847384\n",
      "Mean Squared Error:  515023.6584855572\n",
      "Root Mean Squared Error:  717.6514881790166\n"
     ]
    }
   ],
   "source": [
    "#AdaBoost Regressor\n",
    "ABR=AdaBoostRegressor()\n",
    "ABR.fit(x_train,y_train)\n",
    "pred_ABR=ABR.predict(x_test)\n",
    "pred_train=ABR.predict(x_train)\n",
    "print(\"R2_score: \",r2_score(y_test,pred_ABR))\n",
    "print(\"R2_score on training data: \",r2_score(y_train,pred_train))\n",
    "print(\"Mean Absolute Error: \",mean_absolute_error(y_test,pred_ABR))\n",
    "print(\"Mean Squared Error: \",mean_squared_error(y_test,pred_ABR))\n",
    "print(\"Root Mean Squared Error: \",np.sqrt(mean_squared_error(y_test,pred_ABR)))"
   ]
  },
  {
   "cell_type": "code",
   "execution_count": 78,
   "id": "2928fcbf",
   "metadata": {},
   "outputs": [
    {
     "name": "stdout",
     "output_type": "stream",
     "text": [
      "R2_score:  0.46699805850442644\n",
      "R2_score on training data:  0.5995868409134308\n",
      "Mean Absolute Error:  259.1871746713174\n",
      "Mean Squared Error:  192445.69065736516\n",
      "Root Mean Squared Error:  438.6863237637631\n"
     ]
    }
   ],
   "source": [
    "#KNeighbors Regressor\n",
    "KNN=KNeighborsRegressor()\n",
    "KNN.fit(x_train,y_train)\n",
    "pred_KNN=KNN.predict(x_test)\n",
    "pred_train=KNN.predict(x_train)\n",
    "print(\"R2_score: \",r2_score(y_test,pred_KNN))\n",
    "print(\"R2_score on training data: \",r2_score(y_train,pred_train))\n",
    "print(\"Mean Absolute Error: \",mean_absolute_error(y_test,pred_KNN))\n",
    "print(\"Mean Squared Error: \",mean_squared_error(y_test,pred_KNN))\n",
    "print(\"Root Mean Squared Error: \",np.sqrt(mean_squared_error(y_test,pred_KNN)))"
   ]
  },
  {
   "cell_type": "markdown",
   "id": "a0352e70",
   "metadata": {},
   "source": [
    "# Cross Validation"
   ]
  },
  {
   "cell_type": "code",
   "execution_count": 79,
   "id": "c18306af",
   "metadata": {},
   "outputs": [],
   "source": [
    "from sklearn.model_selection import cross_val_score"
   ]
  },
  {
   "cell_type": "code",
   "execution_count": 80,
   "id": "e518627f",
   "metadata": {},
   "outputs": [
    {
     "name": "stdout",
     "output_type": "stream",
     "text": [
      "[0.62536859 0.71172101 0.72216352 0.70545935 0.72232224]\n",
      "0.6974069418290233\n",
      "Difference between R2 score and cross validation score is -  5.277004803975882\n"
     ]
    }
   ],
   "source": [
    "#Cross Validation of Gradient Boosting Regressor model\n",
    "score=cross_val_score(GBR,x,y)\n",
    "print(score)\n",
    "print(score.mean())\n",
    "print(\"Difference between R2 score and cross validation score is - \",(r2_score(y_test,pred_GBR)-score.mean())*100)"
   ]
  },
  {
   "cell_type": "code",
   "execution_count": 81,
   "id": "d5ea278b",
   "metadata": {},
   "outputs": [
    {
     "name": "stdout",
     "output_type": "stream",
     "text": [
      "[0.14704597 0.16188194 0.1866552  0.16570172 0.17598404]\n",
      "0.16745377353899646\n",
      "Difference between R2 score and cross validation score is -  1.1836672973833977\n"
     ]
    }
   ],
   "source": [
    "#Cross Validation of Linear Regression model\n",
    "score=cross_val_score(LR,x,y)\n",
    "print(score)\n",
    "print(score.mean())\n",
    "print(\"Difference between R2 score and cross validation score is - \",(r2_score(y_test,pred_LR)-score.mean())*100)"
   ]
  },
  {
   "cell_type": "code",
   "execution_count": 82,
   "id": "88bed108",
   "metadata": {},
   "outputs": [
    {
     "name": "stdout",
     "output_type": "stream",
     "text": [
      "[0.65329453 0.7700377  0.72127589 0.74380589 0.74987242]\n",
      "0.7276572850313875\n",
      "Difference between R2 score and cross validation score is -  2.532970944961477\n"
     ]
    }
   ],
   "source": [
    "#Cross Validation of XGB Regressor model\n",
    "score=cross_val_score(XGB,x,y)\n",
    "print(score)\n",
    "print(score.mean())\n",
    "print(\"Difference between R2 score and cross validation score is - \",(r2_score(y_test,pred_XGB)-score.mean())*100)"
   ]
  },
  {
   "cell_type": "code",
   "execution_count": 83,
   "id": "70b8ce0d",
   "metadata": {},
   "outputs": [
    {
     "name": "stdout",
     "output_type": "stream",
     "text": [
      "[0.07710067 0.08805305 0.10881972 0.07845309 0.0936169 ]\n",
      "0.08920868630394385\n",
      "Difference between R2 score and cross validation score is -  -0.6981491093293379\n"
     ]
    }
   ],
   "source": [
    "#Cross Validation of Support Vector Machine Regressor model\n",
    "score=cross_val_score(svr,x,y)\n",
    "print(score)\n",
    "print(score.mean())\n",
    "print(\"Difference between R2 score and cross validation score is - \",(r2_score(y_test,pred_svr)-score.mean())*100)"
   ]
  },
  {
   "cell_type": "code",
   "execution_count": 84,
   "id": "c18fecc5",
   "metadata": {},
   "outputs": [
    {
     "name": "stdout",
     "output_type": "stream",
     "text": [
      "[0.64380371 0.75613872 0.71592688 0.72836947 0.76178818]\n",
      "0.7212053937691385\n",
      "Difference between R2 score and cross validation score is -  2.8960124372661933\n"
     ]
    }
   ],
   "source": [
    "#Cross Validation of Random Forest Regressor model\n",
    "score=cross_val_score(RFR,x,y)\n",
    "print(score)\n",
    "print(score.mean())\n",
    "print(\"Difference between R2 score and cross validation score is - \",(r2_score(y_test,pred_RFR)-score.mean())*100)"
   ]
  },
  {
   "cell_type": "code",
   "execution_count": 85,
   "id": "a96741c6",
   "metadata": {},
   "outputs": [
    {
     "name": "stdout",
     "output_type": "stream",
     "text": [
      "[0.62740827 0.74446747 0.72730399 0.70257177 0.72868775]\n",
      "0.706087849216783\n",
      "Difference between R2 score and cross validation score is -  3.991102521848444\n"
     ]
    }
   ],
   "source": [
    "#Cross Validation of Extra Trees Regressor model\n",
    "score=cross_val_score(ETR,x,y)\n",
    "print(score)\n",
    "print(score.mean())\n",
    "print(\"Difference between R2 score and cross validation score is - \",(r2_score(y_test,pred_ETR)-score.mean())*100)"
   ]
  },
  {
   "cell_type": "code",
   "execution_count": 86,
   "id": "acd7c4c5",
   "metadata": {},
   "outputs": [
    {
     "name": "stdout",
     "output_type": "stream",
     "text": [
      "[-0.24327577 -0.2938119  -0.51358637 -0.56542678 -0.45309482]\n",
      "-0.4138391268707503\n",
      "Difference between R2 score and cross validation score is -  -1.2582056951426224\n"
     ]
    }
   ],
   "source": [
    "#Cross Validation of AdaBoost Regressor model\n",
    "score=cross_val_score(ABR,x,y)\n",
    "print(score)\n",
    "print(score.mean())\n",
    "print(\"Difference between R2 score and cross validation score is - \",(r2_score(y_test,pred_ABR)-score.mean())*100)"
   ]
  },
  {
   "cell_type": "code",
   "execution_count": 87,
   "id": "c73d5b12",
   "metadata": {},
   "outputs": [
    {
     "name": "stdout",
     "output_type": "stream",
     "text": [
      "[0.36863132 0.45224765 0.39641018 0.40942818 0.46803414]\n",
      "0.41895029422241564\n",
      "Difference between R2 score and cross validation score is -  4.804776428201079\n"
     ]
    }
   ],
   "source": [
    "#Cross Validation of KNeighbors Regressor model\n",
    "score=cross_val_score(KNN,x,y)\n",
    "print(score)\n",
    "print(score.mean())\n",
    "print(\"Difference between R2 score and cross validation score is - \",(r2_score(y_test,pred_KNN)-score.mean())*100)"
   ]
  },
  {
   "cell_type": "markdown",
   "id": "7f3f90a8",
   "metadata": {},
   "source": [
    "XGB Regressor model is our best performing model as the difference between R2 score and cross validation score for this model is the least among all the good performing models."
   ]
  },
  {
   "cell_type": "markdown",
   "id": "4f7febc2",
   "metadata": {},
   "source": [
    "# Hyper Parameter Tuning"
   ]
  },
  {
   "cell_type": "code",
   "execution_count": 88,
   "id": "9e7732e4",
   "metadata": {},
   "outputs": [],
   "source": [
    "from sklearn.model_selection import RandomizedSearchCV"
   ]
  },
  {
   "cell_type": "code",
   "execution_count": 93,
   "id": "c307765c",
   "metadata": {},
   "outputs": [
    {
     "data": {
      "text/html": [
       "<style>#sk-container-id-1 {\n",
       "  /* Definition of color scheme common for light and dark mode */\n",
       "  --sklearn-color-text: black;\n",
       "  --sklearn-color-line: gray;\n",
       "  /* Definition of color scheme for unfitted estimators */\n",
       "  --sklearn-color-unfitted-level-0: #fff5e6;\n",
       "  --sklearn-color-unfitted-level-1: #f6e4d2;\n",
       "  --sklearn-color-unfitted-level-2: #ffe0b3;\n",
       "  --sklearn-color-unfitted-level-3: chocolate;\n",
       "  /* Definition of color scheme for fitted estimators */\n",
       "  --sklearn-color-fitted-level-0: #f0f8ff;\n",
       "  --sklearn-color-fitted-level-1: #d4ebff;\n",
       "  --sklearn-color-fitted-level-2: #b3dbfd;\n",
       "  --sklearn-color-fitted-level-3: cornflowerblue;\n",
       "\n",
       "  /* Specific color for light theme */\n",
       "  --sklearn-color-text-on-default-background: var(--sg-text-color, var(--theme-code-foreground, var(--jp-content-font-color1, black)));\n",
       "  --sklearn-color-background: var(--sg-background-color, var(--theme-background, var(--jp-layout-color0, white)));\n",
       "  --sklearn-color-border-box: var(--sg-text-color, var(--theme-code-foreground, var(--jp-content-font-color1, black)));\n",
       "  --sklearn-color-icon: #696969;\n",
       "\n",
       "  @media (prefers-color-scheme: dark) {\n",
       "    /* Redefinition of color scheme for dark theme */\n",
       "    --sklearn-color-text-on-default-background: var(--sg-text-color, var(--theme-code-foreground, var(--jp-content-font-color1, white)));\n",
       "    --sklearn-color-background: var(--sg-background-color, var(--theme-background, var(--jp-layout-color0, #111)));\n",
       "    --sklearn-color-border-box: var(--sg-text-color, var(--theme-code-foreground, var(--jp-content-font-color1, white)));\n",
       "    --sklearn-color-icon: #878787;\n",
       "  }\n",
       "}\n",
       "\n",
       "#sk-container-id-1 {\n",
       "  color: var(--sklearn-color-text);\n",
       "}\n",
       "\n",
       "#sk-container-id-1 pre {\n",
       "  padding: 0;\n",
       "}\n",
       "\n",
       "#sk-container-id-1 input.sk-hidden--visually {\n",
       "  border: 0;\n",
       "  clip: rect(1px 1px 1px 1px);\n",
       "  clip: rect(1px, 1px, 1px, 1px);\n",
       "  height: 1px;\n",
       "  margin: -1px;\n",
       "  overflow: hidden;\n",
       "  padding: 0;\n",
       "  position: absolute;\n",
       "  width: 1px;\n",
       "}\n",
       "\n",
       "#sk-container-id-1 div.sk-dashed-wrapped {\n",
       "  border: 1px dashed var(--sklearn-color-line);\n",
       "  margin: 0 0.4em 0.5em 0.4em;\n",
       "  box-sizing: border-box;\n",
       "  padding-bottom: 0.4em;\n",
       "  background-color: var(--sklearn-color-background);\n",
       "}\n",
       "\n",
       "#sk-container-id-1 div.sk-container {\n",
       "  /* jupyter's `normalize.less` sets `[hidden] { display: none; }`\n",
       "     but bootstrap.min.css set `[hidden] { display: none !important; }`\n",
       "     so we also need the `!important` here to be able to override the\n",
       "     default hidden behavior on the sphinx rendered scikit-learn.org.\n",
       "     See: https://github.com/scikit-learn/scikit-learn/issues/21755 */\n",
       "  display: inline-block !important;\n",
       "  position: relative;\n",
       "}\n",
       "\n",
       "#sk-container-id-1 div.sk-text-repr-fallback {\n",
       "  display: none;\n",
       "}\n",
       "\n",
       "div.sk-parallel-item,\n",
       "div.sk-serial,\n",
       "div.sk-item {\n",
       "  /* draw centered vertical line to link estimators */\n",
       "  background-image: linear-gradient(var(--sklearn-color-text-on-default-background), var(--sklearn-color-text-on-default-background));\n",
       "  background-size: 2px 100%;\n",
       "  background-repeat: no-repeat;\n",
       "  background-position: center center;\n",
       "}\n",
       "\n",
       "/* Parallel-specific style estimator block */\n",
       "\n",
       "#sk-container-id-1 div.sk-parallel-item::after {\n",
       "  content: \"\";\n",
       "  width: 100%;\n",
       "  border-bottom: 2px solid var(--sklearn-color-text-on-default-background);\n",
       "  flex-grow: 1;\n",
       "}\n",
       "\n",
       "#sk-container-id-1 div.sk-parallel {\n",
       "  display: flex;\n",
       "  align-items: stretch;\n",
       "  justify-content: center;\n",
       "  background-color: var(--sklearn-color-background);\n",
       "  position: relative;\n",
       "}\n",
       "\n",
       "#sk-container-id-1 div.sk-parallel-item {\n",
       "  display: flex;\n",
       "  flex-direction: column;\n",
       "}\n",
       "\n",
       "#sk-container-id-1 div.sk-parallel-item:first-child::after {\n",
       "  align-self: flex-end;\n",
       "  width: 50%;\n",
       "}\n",
       "\n",
       "#sk-container-id-1 div.sk-parallel-item:last-child::after {\n",
       "  align-self: flex-start;\n",
       "  width: 50%;\n",
       "}\n",
       "\n",
       "#sk-container-id-1 div.sk-parallel-item:only-child::after {\n",
       "  width: 0;\n",
       "}\n",
       "\n",
       "/* Serial-specific style estimator block */\n",
       "\n",
       "#sk-container-id-1 div.sk-serial {\n",
       "  display: flex;\n",
       "  flex-direction: column;\n",
       "  align-items: center;\n",
       "  background-color: var(--sklearn-color-background);\n",
       "  padding-right: 1em;\n",
       "  padding-left: 1em;\n",
       "}\n",
       "\n",
       "\n",
       "/* Toggleable style: style used for estimator/Pipeline/ColumnTransformer box that is\n",
       "clickable and can be expanded/collapsed.\n",
       "- Pipeline and ColumnTransformer use this feature and define the default style\n",
       "- Estimators will overwrite some part of the style using the `sk-estimator` class\n",
       "*/\n",
       "\n",
       "/* Pipeline and ColumnTransformer style (default) */\n",
       "\n",
       "#sk-container-id-1 div.sk-toggleable {\n",
       "  /* Default theme specific background. It is overwritten whether we have a\n",
       "  specific estimator or a Pipeline/ColumnTransformer */\n",
       "  background-color: var(--sklearn-color-background);\n",
       "}\n",
       "\n",
       "/* Toggleable label */\n",
       "#sk-container-id-1 label.sk-toggleable__label {\n",
       "  cursor: pointer;\n",
       "  display: block;\n",
       "  width: 100%;\n",
       "  margin-bottom: 0;\n",
       "  padding: 0.5em;\n",
       "  box-sizing: border-box;\n",
       "  text-align: center;\n",
       "}\n",
       "\n",
       "#sk-container-id-1 label.sk-toggleable__label-arrow:before {\n",
       "  /* Arrow on the left of the label */\n",
       "  content: \"▸\";\n",
       "  float: left;\n",
       "  margin-right: 0.25em;\n",
       "  color: var(--sklearn-color-icon);\n",
       "}\n",
       "\n",
       "#sk-container-id-1 label.sk-toggleable__label-arrow:hover:before {\n",
       "  color: var(--sklearn-color-text);\n",
       "}\n",
       "\n",
       "/* Toggleable content - dropdown */\n",
       "\n",
       "#sk-container-id-1 div.sk-toggleable__content {\n",
       "  max-height: 0;\n",
       "  max-width: 0;\n",
       "  overflow: hidden;\n",
       "  text-align: left;\n",
       "  /* unfitted */\n",
       "  background-color: var(--sklearn-color-unfitted-level-0);\n",
       "}\n",
       "\n",
       "#sk-container-id-1 div.sk-toggleable__content.fitted {\n",
       "  /* fitted */\n",
       "  background-color: var(--sklearn-color-fitted-level-0);\n",
       "}\n",
       "\n",
       "#sk-container-id-1 div.sk-toggleable__content pre {\n",
       "  margin: 0.2em;\n",
       "  border-radius: 0.25em;\n",
       "  color: var(--sklearn-color-text);\n",
       "  /* unfitted */\n",
       "  background-color: var(--sklearn-color-unfitted-level-0);\n",
       "}\n",
       "\n",
       "#sk-container-id-1 div.sk-toggleable__content.fitted pre {\n",
       "  /* unfitted */\n",
       "  background-color: var(--sklearn-color-fitted-level-0);\n",
       "}\n",
       "\n",
       "#sk-container-id-1 input.sk-toggleable__control:checked~div.sk-toggleable__content {\n",
       "  /* Expand drop-down */\n",
       "  max-height: 200px;\n",
       "  max-width: 100%;\n",
       "  overflow: auto;\n",
       "}\n",
       "\n",
       "#sk-container-id-1 input.sk-toggleable__control:checked~label.sk-toggleable__label-arrow:before {\n",
       "  content: \"▾\";\n",
       "}\n",
       "\n",
       "/* Pipeline/ColumnTransformer-specific style */\n",
       "\n",
       "#sk-container-id-1 div.sk-label input.sk-toggleable__control:checked~label.sk-toggleable__label {\n",
       "  color: var(--sklearn-color-text);\n",
       "  background-color: var(--sklearn-color-unfitted-level-2);\n",
       "}\n",
       "\n",
       "#sk-container-id-1 div.sk-label.fitted input.sk-toggleable__control:checked~label.sk-toggleable__label {\n",
       "  background-color: var(--sklearn-color-fitted-level-2);\n",
       "}\n",
       "\n",
       "/* Estimator-specific style */\n",
       "\n",
       "/* Colorize estimator box */\n",
       "#sk-container-id-1 div.sk-estimator input.sk-toggleable__control:checked~label.sk-toggleable__label {\n",
       "  /* unfitted */\n",
       "  background-color: var(--sklearn-color-unfitted-level-2);\n",
       "}\n",
       "\n",
       "#sk-container-id-1 div.sk-estimator.fitted input.sk-toggleable__control:checked~label.sk-toggleable__label {\n",
       "  /* fitted */\n",
       "  background-color: var(--sklearn-color-fitted-level-2);\n",
       "}\n",
       "\n",
       "#sk-container-id-1 div.sk-label label.sk-toggleable__label,\n",
       "#sk-container-id-1 div.sk-label label {\n",
       "  /* The background is the default theme color */\n",
       "  color: var(--sklearn-color-text-on-default-background);\n",
       "}\n",
       "\n",
       "/* On hover, darken the color of the background */\n",
       "#sk-container-id-1 div.sk-label:hover label.sk-toggleable__label {\n",
       "  color: var(--sklearn-color-text);\n",
       "  background-color: var(--sklearn-color-unfitted-level-2);\n",
       "}\n",
       "\n",
       "/* Label box, darken color on hover, fitted */\n",
       "#sk-container-id-1 div.sk-label.fitted:hover label.sk-toggleable__label.fitted {\n",
       "  color: var(--sklearn-color-text);\n",
       "  background-color: var(--sklearn-color-fitted-level-2);\n",
       "}\n",
       "\n",
       "/* Estimator label */\n",
       "\n",
       "#sk-container-id-1 div.sk-label label {\n",
       "  font-family: monospace;\n",
       "  font-weight: bold;\n",
       "  display: inline-block;\n",
       "  line-height: 1.2em;\n",
       "}\n",
       "\n",
       "#sk-container-id-1 div.sk-label-container {\n",
       "  text-align: center;\n",
       "}\n",
       "\n",
       "/* Estimator-specific */\n",
       "#sk-container-id-1 div.sk-estimator {\n",
       "  font-family: monospace;\n",
       "  border: 1px dotted var(--sklearn-color-border-box);\n",
       "  border-radius: 0.25em;\n",
       "  box-sizing: border-box;\n",
       "  margin-bottom: 0.5em;\n",
       "  /* unfitted */\n",
       "  background-color: var(--sklearn-color-unfitted-level-0);\n",
       "}\n",
       "\n",
       "#sk-container-id-1 div.sk-estimator.fitted {\n",
       "  /* fitted */\n",
       "  background-color: var(--sklearn-color-fitted-level-0);\n",
       "}\n",
       "\n",
       "/* on hover */\n",
       "#sk-container-id-1 div.sk-estimator:hover {\n",
       "  /* unfitted */\n",
       "  background-color: var(--sklearn-color-unfitted-level-2);\n",
       "}\n",
       "\n",
       "#sk-container-id-1 div.sk-estimator.fitted:hover {\n",
       "  /* fitted */\n",
       "  background-color: var(--sklearn-color-fitted-level-2);\n",
       "}\n",
       "\n",
       "/* Specification for estimator info (e.g. \"i\" and \"?\") */\n",
       "\n",
       "/* Common style for \"i\" and \"?\" */\n",
       "\n",
       ".sk-estimator-doc-link,\n",
       "a:link.sk-estimator-doc-link,\n",
       "a:visited.sk-estimator-doc-link {\n",
       "  float: right;\n",
       "  font-size: smaller;\n",
       "  line-height: 1em;\n",
       "  font-family: monospace;\n",
       "  background-color: var(--sklearn-color-background);\n",
       "  border-radius: 1em;\n",
       "  height: 1em;\n",
       "  width: 1em;\n",
       "  text-decoration: none !important;\n",
       "  margin-left: 1ex;\n",
       "  /* unfitted */\n",
       "  border: var(--sklearn-color-unfitted-level-1) 1pt solid;\n",
       "  color: var(--sklearn-color-unfitted-level-1);\n",
       "}\n",
       "\n",
       ".sk-estimator-doc-link.fitted,\n",
       "a:link.sk-estimator-doc-link.fitted,\n",
       "a:visited.sk-estimator-doc-link.fitted {\n",
       "  /* fitted */\n",
       "  border: var(--sklearn-color-fitted-level-1) 1pt solid;\n",
       "  color: var(--sklearn-color-fitted-level-1);\n",
       "}\n",
       "\n",
       "/* On hover */\n",
       "div.sk-estimator:hover .sk-estimator-doc-link:hover,\n",
       ".sk-estimator-doc-link:hover,\n",
       "div.sk-label-container:hover .sk-estimator-doc-link:hover,\n",
       ".sk-estimator-doc-link:hover {\n",
       "  /* unfitted */\n",
       "  background-color: var(--sklearn-color-unfitted-level-3);\n",
       "  color: var(--sklearn-color-background);\n",
       "  text-decoration: none;\n",
       "}\n",
       "\n",
       "div.sk-estimator.fitted:hover .sk-estimator-doc-link.fitted:hover,\n",
       ".sk-estimator-doc-link.fitted:hover,\n",
       "div.sk-label-container:hover .sk-estimator-doc-link.fitted:hover,\n",
       ".sk-estimator-doc-link.fitted:hover {\n",
       "  /* fitted */\n",
       "  background-color: var(--sklearn-color-fitted-level-3);\n",
       "  color: var(--sklearn-color-background);\n",
       "  text-decoration: none;\n",
       "}\n",
       "\n",
       "/* Span, style for the box shown on hovering the info icon */\n",
       ".sk-estimator-doc-link span {\n",
       "  display: none;\n",
       "  z-index: 9999;\n",
       "  position: relative;\n",
       "  font-weight: normal;\n",
       "  right: .2ex;\n",
       "  padding: .5ex;\n",
       "  margin: .5ex;\n",
       "  width: min-content;\n",
       "  min-width: 20ex;\n",
       "  max-width: 50ex;\n",
       "  color: var(--sklearn-color-text);\n",
       "  box-shadow: 2pt 2pt 4pt #999;\n",
       "  /* unfitted */\n",
       "  background: var(--sklearn-color-unfitted-level-0);\n",
       "  border: .5pt solid var(--sklearn-color-unfitted-level-3);\n",
       "}\n",
       "\n",
       ".sk-estimator-doc-link.fitted span {\n",
       "  /* fitted */\n",
       "  background: var(--sklearn-color-fitted-level-0);\n",
       "  border: var(--sklearn-color-fitted-level-3);\n",
       "}\n",
       "\n",
       ".sk-estimator-doc-link:hover span {\n",
       "  display: block;\n",
       "}\n",
       "\n",
       "/* \"?\"-specific style due to the `<a>` HTML tag */\n",
       "\n",
       "#sk-container-id-1 a.estimator_doc_link {\n",
       "  float: right;\n",
       "  font-size: 1rem;\n",
       "  line-height: 1em;\n",
       "  font-family: monospace;\n",
       "  background-color: var(--sklearn-color-background);\n",
       "  border-radius: 1rem;\n",
       "  height: 1rem;\n",
       "  width: 1rem;\n",
       "  text-decoration: none;\n",
       "  /* unfitted */\n",
       "  color: var(--sklearn-color-unfitted-level-1);\n",
       "  border: var(--sklearn-color-unfitted-level-1) 1pt solid;\n",
       "}\n",
       "\n",
       "#sk-container-id-1 a.estimator_doc_link.fitted {\n",
       "  /* fitted */\n",
       "  border: var(--sklearn-color-fitted-level-1) 1pt solid;\n",
       "  color: var(--sklearn-color-fitted-level-1);\n",
       "}\n",
       "\n",
       "/* On hover */\n",
       "#sk-container-id-1 a.estimator_doc_link:hover {\n",
       "  /* unfitted */\n",
       "  background-color: var(--sklearn-color-unfitted-level-3);\n",
       "  color: var(--sklearn-color-background);\n",
       "  text-decoration: none;\n",
       "}\n",
       "\n",
       "#sk-container-id-1 a.estimator_doc_link.fitted:hover {\n",
       "  /* fitted */\n",
       "  background-color: var(--sklearn-color-fitted-level-3);\n",
       "}\n",
       "</style><div id=\"sk-container-id-1\" class=\"sk-top-container\"><div class=\"sk-text-repr-fallback\"><pre>RandomizedSearchCV(cv=5,\n",
       "                   estimator=XGBRegressor(base_score=None, booster=None,\n",
       "                                          callbacks=None,\n",
       "                                          colsample_bylevel=None,\n",
       "                                          colsample_bynode=None,\n",
       "                                          colsample_bytree=None, device=None,\n",
       "                                          early_stopping_rounds=None,\n",
       "                                          enable_categorical=False,\n",
       "                                          eval_metric=None, feature_types=None,\n",
       "                                          gamma=None, grow_policy=None,\n",
       "                                          importance_type=None,\n",
       "                                          interaction_constraints=None,\n",
       "                                          learning_rate=...\n",
       "                                        &#x27;booster&#x27;: [&#x27;gbtree&#x27;, &#x27;gblinear&#x27;,\n",
       "                                                    &#x27;dart&#x27;],\n",
       "                                        &#x27;colsample_bylevel&#x27;: [0.7, 0.8, 0.9],\n",
       "                                        &#x27;colsample_bynode&#x27;: [0.7, 0.8, 0.9],\n",
       "                                        &#x27;colsample_bytree&#x27;: [0.7, 0.8, 0.9],\n",
       "                                        &#x27;gamma&#x27;: [0, 0.1, 0.3],\n",
       "                                        &#x27;learning_rate&#x27;: [0.01, 0.1, 0.2],\n",
       "                                        &#x27;max_depth&#x27;: [3, 5, 7],\n",
       "                                        &#x27;min_child_weight&#x27;: [1, 3, 5],\n",
       "                                        &#x27;n_estimators&#x27;: [100, 200, 300],\n",
       "                                        &#x27;reg_alpha&#x27;: [0, 0.1, 1],\n",
       "                                        &#x27;reg_lambda&#x27;: [0, 0.1, 1],\n",
       "                                        &#x27;scale_pos_weight&#x27;: [1, 3, 5],\n",
       "                                        &#x27;subsample&#x27;: [0.7, 0.8, 0.9]})</pre><b>In a Jupyter environment, please rerun this cell to show the HTML representation or trust the notebook. <br />On GitHub, the HTML representation is unable to render, please try loading this page with nbviewer.org.</b></div><div class=\"sk-container\" hidden><div class=\"sk-item sk-dashed-wrapped\"><div class=\"sk-label-container\"><div class=\"sk-label fitted sk-toggleable\"><input class=\"sk-toggleable__control sk-hidden--visually\" id=\"sk-estimator-id-1\" type=\"checkbox\" ><label for=\"sk-estimator-id-1\" class=\"sk-toggleable__label fitted sk-toggleable__label-arrow fitted\">&nbsp;&nbsp;RandomizedSearchCV<a class=\"sk-estimator-doc-link fitted\" rel=\"noreferrer\" target=\"_blank\" href=\"https://scikit-learn.org/1.4/modules/generated/sklearn.model_selection.RandomizedSearchCV.html\">?<span>Documentation for RandomizedSearchCV</span></a><span class=\"sk-estimator-doc-link fitted\">i<span>Fitted</span></span></label><div class=\"sk-toggleable__content fitted\"><pre>RandomizedSearchCV(cv=5,\n",
       "                   estimator=XGBRegressor(base_score=None, booster=None,\n",
       "                                          callbacks=None,\n",
       "                                          colsample_bylevel=None,\n",
       "                                          colsample_bynode=None,\n",
       "                                          colsample_bytree=None, device=None,\n",
       "                                          early_stopping_rounds=None,\n",
       "                                          enable_categorical=False,\n",
       "                                          eval_metric=None, feature_types=None,\n",
       "                                          gamma=None, grow_policy=None,\n",
       "                                          importance_type=None,\n",
       "                                          interaction_constraints=None,\n",
       "                                          learning_rate=...\n",
       "                                        &#x27;booster&#x27;: [&#x27;gbtree&#x27;, &#x27;gblinear&#x27;,\n",
       "                                                    &#x27;dart&#x27;],\n",
       "                                        &#x27;colsample_bylevel&#x27;: [0.7, 0.8, 0.9],\n",
       "                                        &#x27;colsample_bynode&#x27;: [0.7, 0.8, 0.9],\n",
       "                                        &#x27;colsample_bytree&#x27;: [0.7, 0.8, 0.9],\n",
       "                                        &#x27;gamma&#x27;: [0, 0.1, 0.3],\n",
       "                                        &#x27;learning_rate&#x27;: [0.01, 0.1, 0.2],\n",
       "                                        &#x27;max_depth&#x27;: [3, 5, 7],\n",
       "                                        &#x27;min_child_weight&#x27;: [1, 3, 5],\n",
       "                                        &#x27;n_estimators&#x27;: [100, 200, 300],\n",
       "                                        &#x27;reg_alpha&#x27;: [0, 0.1, 1],\n",
       "                                        &#x27;reg_lambda&#x27;: [0, 0.1, 1],\n",
       "                                        &#x27;scale_pos_weight&#x27;: [1, 3, 5],\n",
       "                                        &#x27;subsample&#x27;: [0.7, 0.8, 0.9]})</pre></div> </div></div><div class=\"sk-parallel\"><div class=\"sk-parallel-item\"><div class=\"sk-item\"><div class=\"sk-label-container\"><div class=\"sk-label fitted sk-toggleable\"><input class=\"sk-toggleable__control sk-hidden--visually\" id=\"sk-estimator-id-2\" type=\"checkbox\" ><label for=\"sk-estimator-id-2\" class=\"sk-toggleable__label fitted sk-toggleable__label-arrow fitted\">estimator: XGBRegressor</label><div class=\"sk-toggleable__content fitted\"><pre>XGBRegressor(base_score=None, booster=None, callbacks=None,\n",
       "             colsample_bylevel=None, colsample_bynode=None,\n",
       "             colsample_bytree=None, device=None, early_stopping_rounds=None,\n",
       "             enable_categorical=False, eval_metric=None, feature_types=None,\n",
       "             gamma=None, grow_policy=None, importance_type=None,\n",
       "             interaction_constraints=None, learning_rate=None, max_bin=None,\n",
       "             max_cat_threshold=None, max_cat_to_onehot=None,\n",
       "             max_delta_step=None, max_depth=None, max_leaves=None,\n",
       "             min_child_weight=None, missing=nan, monotone_constraints=None,\n",
       "             multi_strategy=None, n_estimators=None, n_jobs=None,\n",
       "             num_parallel_tree=None, random_state=None, ...)</pre></div> </div></div><div class=\"sk-serial\"><div class=\"sk-item\"><div class=\"sk-estimator fitted sk-toggleable\"><input class=\"sk-toggleable__control sk-hidden--visually\" id=\"sk-estimator-id-3\" type=\"checkbox\" ><label for=\"sk-estimator-id-3\" class=\"sk-toggleable__label fitted sk-toggleable__label-arrow fitted\">XGBRegressor</label><div class=\"sk-toggleable__content fitted\"><pre>XGBRegressor(base_score=None, booster=None, callbacks=None,\n",
       "             colsample_bylevel=None, colsample_bynode=None,\n",
       "             colsample_bytree=None, device=None, early_stopping_rounds=None,\n",
       "             enable_categorical=False, eval_metric=None, feature_types=None,\n",
       "             gamma=None, grow_policy=None, importance_type=None,\n",
       "             interaction_constraints=None, learning_rate=None, max_bin=None,\n",
       "             max_cat_threshold=None, max_cat_to_onehot=None,\n",
       "             max_delta_step=None, max_depth=None, max_leaves=None,\n",
       "             min_child_weight=None, missing=nan, monotone_constraints=None,\n",
       "             multi_strategy=None, n_estimators=None, n_jobs=None,\n",
       "             num_parallel_tree=None, random_state=None, ...)</pre></div> </div></div></div></div></div></div></div></div></div>"
      ],
      "text/plain": [
       "RandomizedSearchCV(cv=5,\n",
       "                   estimator=XGBRegressor(base_score=None, booster=None,\n",
       "                                          callbacks=None,\n",
       "                                          colsample_bylevel=None,\n",
       "                                          colsample_bynode=None,\n",
       "                                          colsample_bytree=None, device=None,\n",
       "                                          early_stopping_rounds=None,\n",
       "                                          enable_categorical=False,\n",
       "                                          eval_metric=None, feature_types=None,\n",
       "                                          gamma=None, grow_policy=None,\n",
       "                                          importance_type=None,\n",
       "                                          interaction_constraints=None,\n",
       "                                          learning_rate=...\n",
       "                                        'booster': ['gbtree', 'gblinear',\n",
       "                                                    'dart'],\n",
       "                                        'colsample_bylevel': [0.7, 0.8, 0.9],\n",
       "                                        'colsample_bynode': [0.7, 0.8, 0.9],\n",
       "                                        'colsample_bytree': [0.7, 0.8, 0.9],\n",
       "                                        'gamma': [0, 0.1, 0.3],\n",
       "                                        'learning_rate': [0.01, 0.1, 0.2],\n",
       "                                        'max_depth': [3, 5, 7],\n",
       "                                        'min_child_weight': [1, 3, 5],\n",
       "                                        'n_estimators': [100, 200, 300],\n",
       "                                        'reg_alpha': [0, 0.1, 1],\n",
       "                                        'reg_lambda': [0, 0.1, 1],\n",
       "                                        'scale_pos_weight': [1, 3, 5],\n",
       "                                        'subsample': [0.7, 0.8, 0.9]})"
      ]
     },
     "execution_count": 93,
     "metadata": {},
     "output_type": "execute_result"
    }
   ],
   "source": [
    "param={'n_estimators': [100, 200, 300],\n",
    "       'max_depth': [3, 5, 7],\n",
    "       'learning_rate': [0.01, 0.1, 0.2],\n",
    "       'subsample': [0.7, 0.8, 0.9],\n",
    "       'colsample_bytree': [0.7, 0.8, 0.9],\n",
    "       'colsample_bylevel': [0.7, 0.8, 0.9],\n",
    "       'colsample_bynode': [0.7, 0.8, 0.9],\n",
    "       'gamma': [0, 0.1, 0.3],\n",
    "       'min_child_weight': [1, 3, 5],\n",
    "       'reg_alpha': [0, 0.1, 1],  # L1 regularization\n",
    "       'reg_lambda': [0, 0.1, 1],  # L2 regularization\n",
    "       'scale_pos_weight': [1, 3, 5],\n",
    "       'base_score': [0.5, 0.7, 0.9],\n",
    "       'booster': ['gbtree', 'gblinear', 'dart']\n",
    "     }\n",
    "RCV=RandomizedSearchCV(XGBRegressor(),param,cv=5)\n",
    "RCV.fit(x_train,y_train)"
   ]
  },
  {
   "cell_type": "code",
   "execution_count": 95,
   "id": "69c2d110",
   "metadata": {},
   "outputs": [
    {
     "data": {
      "text/plain": [
       "{'subsample': 0.9,\n",
       " 'scale_pos_weight': 3,\n",
       " 'reg_lambda': 1,\n",
       " 'reg_alpha': 0.1,\n",
       " 'n_estimators': 100,\n",
       " 'min_child_weight': 3,\n",
       " 'max_depth': 7,\n",
       " 'learning_rate': 0.2,\n",
       " 'gamma': 0.1,\n",
       " 'colsample_bytree': 0.7,\n",
       " 'colsample_bynode': 0.9,\n",
       " 'colsample_bylevel': 0.8,\n",
       " 'booster': 'dart',\n",
       " 'base_score': 0.7}"
      ]
     },
     "execution_count": 95,
     "metadata": {},
     "output_type": "execute_result"
    }
   ],
   "source": [
    "#Best parameters for the final model\n",
    "RCV.best_params_"
   ]
  },
  {
   "cell_type": "markdown",
   "id": "ca4c3caf",
   "metadata": {},
   "source": [
    "# Building the final model"
   ]
  },
  {
   "cell_type": "code",
   "execution_count": 96,
   "id": "f220557d",
   "metadata": {},
   "outputs": [
    {
     "name": "stdout",
     "output_type": "stream",
     "text": [
      "R2_score:  0.7724372340881382\n",
      "Mean Absolute Error:  183.5531658809627\n",
      "Mean Squared Error:  82163.81638484566\n",
      "Root Mean Squared Error:  286.64231436556196\n"
     ]
    }
   ],
   "source": [
    "final_model=XGBRegressor(subsample=0.9,\n",
    "                         scale_pos_weight=3,\n",
    "                         reg_lambda=1,\n",
    "                         reg_alpha=0.1,\n",
    "                         n_estimators=100,\n",
    "                         min_child_weight=3,\n",
    "                         max_depth=7,\n",
    "                         learning_rate=0.2,\n",
    "                         gamma=0.1,\n",
    "                         colsample_bytree=0.7,\n",
    "                         colsample_bynode=0.9,\n",
    "                         colsample_bylevel=0.8,\n",
    "                         booster='dart',\n",
    "                         base_score=0.7\n",
    "                        )\n",
    "final_model.fit(x_train,y_train)\n",
    "pred=final_model.predict(x_test)\n",
    "print(\"R2_score: \",r2_score(y_test,pred))\n",
    "print(\"Mean Absolute Error: \",mean_absolute_error(y_test,pred))\n",
    "print(\"Mean Squared Error: \",mean_squared_error(y_test,pred))\n",
    "print(\"Root Mean Squared Error: \",np.sqrt(mean_squared_error(y_test,pred)))"
   ]
  },
  {
   "cell_type": "code",
   "execution_count": 97,
   "id": "85015976",
   "metadata": {},
   "outputs": [],
   "source": [
    "#Save the model\n",
    "import pickle\n",
    "filename='Restaurant_Food_Cost.pkl'\n",
    "pickle.dump(final_model,open(filename,'wb'))"
   ]
  },
  {
   "cell_type": "markdown",
   "id": "57116d36",
   "metadata": {},
   "source": [
    "# Working with Test Dataset"
   ]
  },
  {
   "cell_type": "code",
   "execution_count": 98,
   "id": "f63ac47e",
   "metadata": {},
   "outputs": [
    {
     "data": {
      "text/html": [
       "<div>\n",
       "<style scoped>\n",
       "    .dataframe tbody tr th:only-of-type {\n",
       "        vertical-align: middle;\n",
       "    }\n",
       "\n",
       "    .dataframe tbody tr th {\n",
       "        vertical-align: top;\n",
       "    }\n",
       "\n",
       "    .dataframe thead th {\n",
       "        text-align: right;\n",
       "    }\n",
       "</style>\n",
       "<table border=\"1\" class=\"dataframe\">\n",
       "  <thead>\n",
       "    <tr style=\"text-align: right;\">\n",
       "      <th></th>\n",
       "      <th>TITLE</th>\n",
       "      <th>RESTAURANT_ID</th>\n",
       "      <th>CUISINES</th>\n",
       "      <th>TIME</th>\n",
       "      <th>CITY</th>\n",
       "      <th>LOCALITY</th>\n",
       "      <th>RATING</th>\n",
       "      <th>VOTES</th>\n",
       "    </tr>\n",
       "  </thead>\n",
       "  <tbody>\n",
       "    <tr>\n",
       "      <th>0</th>\n",
       "      <td>CASUAL DINING</td>\n",
       "      <td>4085</td>\n",
       "      <td>North Indian, Chinese, Mughlai, Kebab</td>\n",
       "      <td>12noon – 12midnight (Mon-Sun)</td>\n",
       "      <td>Noida</td>\n",
       "      <td>Sector 18</td>\n",
       "      <td>4.3</td>\n",
       "      <td>564 votes</td>\n",
       "    </tr>\n",
       "    <tr>\n",
       "      <th>1</th>\n",
       "      <td>QUICK BITES</td>\n",
       "      <td>12680</td>\n",
       "      <td>South Indian, Fast Food, Pizza, North Indian</td>\n",
       "      <td>7am – 12:30AM (Mon-Sun)</td>\n",
       "      <td>Mumbai</td>\n",
       "      <td>Grant Road</td>\n",
       "      <td>4.2</td>\n",
       "      <td>61 votes</td>\n",
       "    </tr>\n",
       "    <tr>\n",
       "      <th>2</th>\n",
       "      <td>CASUAL DINING</td>\n",
       "      <td>1411</td>\n",
       "      <td>North Indian, Seafood, Biryani, Chinese</td>\n",
       "      <td>11am – 11:30pm (Mon-Sun)</td>\n",
       "      <td>Mumbai</td>\n",
       "      <td>Marine Lines</td>\n",
       "      <td>3.8</td>\n",
       "      <td>350 votes</td>\n",
       "    </tr>\n",
       "    <tr>\n",
       "      <th>3</th>\n",
       "      <td>None</td>\n",
       "      <td>204</td>\n",
       "      <td>Biryani</td>\n",
       "      <td>9am – 10pm (Mon, Wed, Thu, Fri, Sat, Sun), 10:...</td>\n",
       "      <td>Faridabad</td>\n",
       "      <td>NIT</td>\n",
       "      <td>3.8</td>\n",
       "      <td>1445 votes</td>\n",
       "    </tr>\n",
       "    <tr>\n",
       "      <th>4</th>\n",
       "      <td>QUICK BITES</td>\n",
       "      <td>13453</td>\n",
       "      <td>South Indian, Kerala</td>\n",
       "      <td>11am – 10pm (Mon-Sun)</td>\n",
       "      <td>Kochi</td>\n",
       "      <td>Kaloor</td>\n",
       "      <td>3.6</td>\n",
       "      <td>23 votes</td>\n",
       "    </tr>\n",
       "    <tr>\n",
       "      <th>...</th>\n",
       "      <td>...</td>\n",
       "      <td>...</td>\n",
       "      <td>...</td>\n",
       "      <td>...</td>\n",
       "      <td>...</td>\n",
       "      <td>...</td>\n",
       "      <td>...</td>\n",
       "      <td>...</td>\n",
       "    </tr>\n",
       "    <tr>\n",
       "      <th>4226</th>\n",
       "      <td>CASUAL DINING</td>\n",
       "      <td>9057</td>\n",
       "      <td>North Indian, Mughlai, Chinese</td>\n",
       "      <td>11:30am – 11:30pm (Mon-Sun)</td>\n",
       "      <td>New Delhi</td>\n",
       "      <td>Punjabi Bagh</td>\n",
       "      <td>3.9</td>\n",
       "      <td>287 votes</td>\n",
       "    </tr>\n",
       "    <tr>\n",
       "      <th>4227</th>\n",
       "      <td>None</td>\n",
       "      <td>1247</td>\n",
       "      <td>Biryani, North Indian, Sandwich, Salad, Wraps</td>\n",
       "      <td>11am – 1am (Mon-Sun)</td>\n",
       "      <td>Bangalore</td>\n",
       "      <td>HSR Layout</td>\n",
       "      <td>4.3</td>\n",
       "      <td>469 votes</td>\n",
       "    </tr>\n",
       "    <tr>\n",
       "      <th>4228</th>\n",
       "      <td>QUICK BITES</td>\n",
       "      <td>8617</td>\n",
       "      <td>Continental, North Indian</td>\n",
       "      <td>9:30am – 10:30pm (Mon-Sun)</td>\n",
       "      <td>Faridabad</td>\n",
       "      <td>Sector 86</td>\n",
       "      <td>3.7</td>\n",
       "      <td>53 votes</td>\n",
       "    </tr>\n",
       "    <tr>\n",
       "      <th>4229</th>\n",
       "      <td>QUICK BITES</td>\n",
       "      <td>6485</td>\n",
       "      <td>Rolls, Beverages</td>\n",
       "      <td>11am – 11:30pm (Mon, Tue, Wed, Thu, Sat, Sun),...</td>\n",
       "      <td>Kochi</td>\n",
       "      <td>Kochi</td>\n",
       "      <td>-</td>\n",
       "      <td>NaN</td>\n",
       "    </tr>\n",
       "    <tr>\n",
       "      <th>4230</th>\n",
       "      <td>QUICK BITES</td>\n",
       "      <td>2421</td>\n",
       "      <td>Mughlai</td>\n",
       "      <td>5pm – 1am (Mon-Sun)</td>\n",
       "      <td>Bandra West</td>\n",
       "      <td>Perry Cross Road</td>\n",
       "      <td>3.7</td>\n",
       "      <td>63 votes</td>\n",
       "    </tr>\n",
       "  </tbody>\n",
       "</table>\n",
       "<p>4231 rows × 8 columns</p>\n",
       "</div>"
      ],
      "text/plain": [
       "              TITLE  RESTAURANT_ID  \\\n",
       "0     CASUAL DINING           4085   \n",
       "1       QUICK BITES          12680   \n",
       "2     CASUAL DINING           1411   \n",
       "3              None            204   \n",
       "4       QUICK BITES          13453   \n",
       "...             ...            ...   \n",
       "4226  CASUAL DINING           9057   \n",
       "4227           None           1247   \n",
       "4228    QUICK BITES           8617   \n",
       "4229    QUICK BITES           6485   \n",
       "4230    QUICK BITES           2421   \n",
       "\n",
       "                                           CUISINES  \\\n",
       "0             North Indian, Chinese, Mughlai, Kebab   \n",
       "1      South Indian, Fast Food, Pizza, North Indian   \n",
       "2           North Indian, Seafood, Biryani, Chinese   \n",
       "3                                           Biryani   \n",
       "4                              South Indian, Kerala   \n",
       "...                                             ...   \n",
       "4226                 North Indian, Mughlai, Chinese   \n",
       "4227  Biryani, North Indian, Sandwich, Salad, Wraps   \n",
       "4228                      Continental, North Indian   \n",
       "4229                               Rolls, Beverages   \n",
       "4230                                        Mughlai   \n",
       "\n",
       "                                                   TIME         CITY  \\\n",
       "0                         12noon – 12midnight (Mon-Sun)        Noida   \n",
       "1                               7am – 12:30AM (Mon-Sun)       Mumbai   \n",
       "2                              11am – 11:30pm (Mon-Sun)       Mumbai   \n",
       "3     9am – 10pm (Mon, Wed, Thu, Fri, Sat, Sun), 10:...    Faridabad   \n",
       "4                                 11am – 10pm (Mon-Sun)        Kochi   \n",
       "...                                                 ...          ...   \n",
       "4226                        11:30am – 11:30pm (Mon-Sun)    New Delhi   \n",
       "4227                               11am – 1am (Mon-Sun)    Bangalore   \n",
       "4228                         9:30am – 10:30pm (Mon-Sun)    Faridabad   \n",
       "4229  11am – 11:30pm (Mon, Tue, Wed, Thu, Sat, Sun),...        Kochi   \n",
       "4230                                5pm – 1am (Mon-Sun)  Bandra West   \n",
       "\n",
       "              LOCALITY RATING       VOTES  \n",
       "0            Sector 18    4.3   564 votes  \n",
       "1           Grant Road    4.2    61 votes  \n",
       "2         Marine Lines    3.8   350 votes  \n",
       "3                  NIT    3.8  1445 votes  \n",
       "4               Kaloor    3.6    23 votes  \n",
       "...                ...    ...         ...  \n",
       "4226      Punjabi Bagh    3.9   287 votes  \n",
       "4227        HSR Layout    4.3   469 votes  \n",
       "4228         Sector 86    3.7    53 votes  \n",
       "4229             Kochi      -         NaN  \n",
       "4230  Perry Cross Road    3.7    63 votes  \n",
       "\n",
       "[4231 rows x 8 columns]"
      ]
     },
     "execution_count": 98,
     "metadata": {},
     "output_type": "execute_result"
    }
   ],
   "source": [
    "df2=pd.read_excel(\"Restaurant Food Cost - Data_Test.xlsx\")\n",
    "df2"
   ]
  },
  {
   "cell_type": "code",
   "execution_count": 99,
   "id": "259966e5",
   "metadata": {},
   "outputs": [
    {
     "data": {
      "text/html": [
       "<div>\n",
       "<style scoped>\n",
       "    .dataframe tbody tr th:only-of-type {\n",
       "        vertical-align: middle;\n",
       "    }\n",
       "\n",
       "    .dataframe tbody tr th {\n",
       "        vertical-align: top;\n",
       "    }\n",
       "\n",
       "    .dataframe thead th {\n",
       "        text-align: right;\n",
       "    }\n",
       "</style>\n",
       "<table border=\"1\" class=\"dataframe\">\n",
       "  <thead>\n",
       "    <tr style=\"text-align: right;\">\n",
       "      <th></th>\n",
       "      <th>TITLE</th>\n",
       "      <th>RESTAURANT_ID</th>\n",
       "      <th>CUISINES</th>\n",
       "      <th>TIME</th>\n",
       "      <th>CITY</th>\n",
       "      <th>LOCALITY</th>\n",
       "      <th>RATING</th>\n",
       "      <th>VOTES</th>\n",
       "    </tr>\n",
       "  </thead>\n",
       "  <tbody>\n",
       "    <tr>\n",
       "      <th>0</th>\n",
       "      <td>CASUAL DINING</td>\n",
       "      <td>4085</td>\n",
       "      <td>North Indian, Chinese, Mughlai, Kebab</td>\n",
       "      <td>12noon – 12midnight (Mon-Sun)</td>\n",
       "      <td>Noida</td>\n",
       "      <td>Sector 18</td>\n",
       "      <td>4.3</td>\n",
       "      <td>564 votes</td>\n",
       "    </tr>\n",
       "    <tr>\n",
       "      <th>1</th>\n",
       "      <td>QUICK BITES</td>\n",
       "      <td>12680</td>\n",
       "      <td>South Indian, Fast Food, Pizza, North Indian</td>\n",
       "      <td>7am – 12:30AM (Mon-Sun)</td>\n",
       "      <td>Mumbai</td>\n",
       "      <td>Grant Road</td>\n",
       "      <td>4.2</td>\n",
       "      <td>61 votes</td>\n",
       "    </tr>\n",
       "    <tr>\n",
       "      <th>2</th>\n",
       "      <td>CASUAL DINING</td>\n",
       "      <td>1411</td>\n",
       "      <td>North Indian, Seafood, Biryani, Chinese</td>\n",
       "      <td>11am – 11:30pm (Mon-Sun)</td>\n",
       "      <td>Mumbai</td>\n",
       "      <td>Marine Lines</td>\n",
       "      <td>3.8</td>\n",
       "      <td>350 votes</td>\n",
       "    </tr>\n",
       "    <tr>\n",
       "      <th>3</th>\n",
       "      <td>None</td>\n",
       "      <td>204</td>\n",
       "      <td>Biryani</td>\n",
       "      <td>9am – 10pm (Mon, Wed, Thu, Fri, Sat, Sun), 10:...</td>\n",
       "      <td>Faridabad</td>\n",
       "      <td>NIT</td>\n",
       "      <td>3.8</td>\n",
       "      <td>1445 votes</td>\n",
       "    </tr>\n",
       "    <tr>\n",
       "      <th>4</th>\n",
       "      <td>QUICK BITES</td>\n",
       "      <td>13453</td>\n",
       "      <td>South Indian, Kerala</td>\n",
       "      <td>11am – 10pm (Mon-Sun)</td>\n",
       "      <td>Kochi</td>\n",
       "      <td>Kaloor</td>\n",
       "      <td>3.6</td>\n",
       "      <td>23 votes</td>\n",
       "    </tr>\n",
       "  </tbody>\n",
       "</table>\n",
       "</div>"
      ],
      "text/plain": [
       "           TITLE  RESTAURANT_ID                                      CUISINES  \\\n",
       "0  CASUAL DINING           4085         North Indian, Chinese, Mughlai, Kebab   \n",
       "1    QUICK BITES          12680  South Indian, Fast Food, Pizza, North Indian   \n",
       "2  CASUAL DINING           1411       North Indian, Seafood, Biryani, Chinese   \n",
       "3           None            204                                       Biryani   \n",
       "4    QUICK BITES          13453                          South Indian, Kerala   \n",
       "\n",
       "                                                TIME       CITY      LOCALITY  \\\n",
       "0                      12noon – 12midnight (Mon-Sun)      Noida     Sector 18   \n",
       "1                            7am – 12:30AM (Mon-Sun)     Mumbai    Grant Road   \n",
       "2                           11am – 11:30pm (Mon-Sun)     Mumbai  Marine Lines   \n",
       "3  9am – 10pm (Mon, Wed, Thu, Fri, Sat, Sun), 10:...  Faridabad           NIT   \n",
       "4                              11am – 10pm (Mon-Sun)      Kochi        Kaloor   \n",
       "\n",
       "  RATING       VOTES  \n",
       "0    4.3   564 votes  \n",
       "1    4.2    61 votes  \n",
       "2    3.8   350 votes  \n",
       "3    3.8  1445 votes  \n",
       "4    3.6    23 votes  "
      ]
     },
     "execution_count": 99,
     "metadata": {},
     "output_type": "execute_result"
    }
   ],
   "source": [
    "df2.head()"
   ]
  },
  {
   "cell_type": "code",
   "execution_count": 100,
   "id": "e4c91797",
   "metadata": {},
   "outputs": [
    {
     "data": {
      "text/html": [
       "<div>\n",
       "<style scoped>\n",
       "    .dataframe tbody tr th:only-of-type {\n",
       "        vertical-align: middle;\n",
       "    }\n",
       "\n",
       "    .dataframe tbody tr th {\n",
       "        vertical-align: top;\n",
       "    }\n",
       "\n",
       "    .dataframe thead th {\n",
       "        text-align: right;\n",
       "    }\n",
       "</style>\n",
       "<table border=\"1\" class=\"dataframe\">\n",
       "  <thead>\n",
       "    <tr style=\"text-align: right;\">\n",
       "      <th></th>\n",
       "      <th>TITLE</th>\n",
       "      <th>RESTAURANT_ID</th>\n",
       "      <th>CUISINES</th>\n",
       "      <th>TIME</th>\n",
       "      <th>CITY</th>\n",
       "      <th>LOCALITY</th>\n",
       "      <th>RATING</th>\n",
       "      <th>VOTES</th>\n",
       "    </tr>\n",
       "  </thead>\n",
       "  <tbody>\n",
       "    <tr>\n",
       "      <th>4226</th>\n",
       "      <td>CASUAL DINING</td>\n",
       "      <td>9057</td>\n",
       "      <td>North Indian, Mughlai, Chinese</td>\n",
       "      <td>11:30am – 11:30pm (Mon-Sun)</td>\n",
       "      <td>New Delhi</td>\n",
       "      <td>Punjabi Bagh</td>\n",
       "      <td>3.9</td>\n",
       "      <td>287 votes</td>\n",
       "    </tr>\n",
       "    <tr>\n",
       "      <th>4227</th>\n",
       "      <td>None</td>\n",
       "      <td>1247</td>\n",
       "      <td>Biryani, North Indian, Sandwich, Salad, Wraps</td>\n",
       "      <td>11am – 1am (Mon-Sun)</td>\n",
       "      <td>Bangalore</td>\n",
       "      <td>HSR Layout</td>\n",
       "      <td>4.3</td>\n",
       "      <td>469 votes</td>\n",
       "    </tr>\n",
       "    <tr>\n",
       "      <th>4228</th>\n",
       "      <td>QUICK BITES</td>\n",
       "      <td>8617</td>\n",
       "      <td>Continental, North Indian</td>\n",
       "      <td>9:30am – 10:30pm (Mon-Sun)</td>\n",
       "      <td>Faridabad</td>\n",
       "      <td>Sector 86</td>\n",
       "      <td>3.7</td>\n",
       "      <td>53 votes</td>\n",
       "    </tr>\n",
       "    <tr>\n",
       "      <th>4229</th>\n",
       "      <td>QUICK BITES</td>\n",
       "      <td>6485</td>\n",
       "      <td>Rolls, Beverages</td>\n",
       "      <td>11am – 11:30pm (Mon, Tue, Wed, Thu, Sat, Sun),...</td>\n",
       "      <td>Kochi</td>\n",
       "      <td>Kochi</td>\n",
       "      <td>-</td>\n",
       "      <td>NaN</td>\n",
       "    </tr>\n",
       "    <tr>\n",
       "      <th>4230</th>\n",
       "      <td>QUICK BITES</td>\n",
       "      <td>2421</td>\n",
       "      <td>Mughlai</td>\n",
       "      <td>5pm – 1am (Mon-Sun)</td>\n",
       "      <td>Bandra West</td>\n",
       "      <td>Perry Cross Road</td>\n",
       "      <td>3.7</td>\n",
       "      <td>63 votes</td>\n",
       "    </tr>\n",
       "  </tbody>\n",
       "</table>\n",
       "</div>"
      ],
      "text/plain": [
       "              TITLE  RESTAURANT_ID  \\\n",
       "4226  CASUAL DINING           9057   \n",
       "4227           None           1247   \n",
       "4228    QUICK BITES           8617   \n",
       "4229    QUICK BITES           6485   \n",
       "4230    QUICK BITES           2421   \n",
       "\n",
       "                                           CUISINES  \\\n",
       "4226                 North Indian, Mughlai, Chinese   \n",
       "4227  Biryani, North Indian, Sandwich, Salad, Wraps   \n",
       "4228                      Continental, North Indian   \n",
       "4229                               Rolls, Beverages   \n",
       "4230                                        Mughlai   \n",
       "\n",
       "                                                   TIME         CITY  \\\n",
       "4226                        11:30am – 11:30pm (Mon-Sun)    New Delhi   \n",
       "4227                               11am – 1am (Mon-Sun)    Bangalore   \n",
       "4228                         9:30am – 10:30pm (Mon-Sun)    Faridabad   \n",
       "4229  11am – 11:30pm (Mon, Tue, Wed, Thu, Sat, Sun),...        Kochi   \n",
       "4230                                5pm – 1am (Mon-Sun)  Bandra West   \n",
       "\n",
       "              LOCALITY RATING      VOTES  \n",
       "4226      Punjabi Bagh    3.9  287 votes  \n",
       "4227        HSR Layout    4.3  469 votes  \n",
       "4228         Sector 86    3.7   53 votes  \n",
       "4229             Kochi      -        NaN  \n",
       "4230  Perry Cross Road    3.7   63 votes  "
      ]
     },
     "execution_count": 100,
     "metadata": {},
     "output_type": "execute_result"
    }
   ],
   "source": [
    "df2.tail()"
   ]
  },
  {
   "cell_type": "markdown",
   "id": "63ad3e8b",
   "metadata": {},
   "source": [
    "# Exploratory Data Analysis (EDA)"
   ]
  },
  {
   "cell_type": "code",
   "execution_count": 101,
   "id": "723c7f7d",
   "metadata": {},
   "outputs": [
    {
     "data": {
      "text/plain": [
       "(4231, 8)"
      ]
     },
     "execution_count": 101,
     "metadata": {},
     "output_type": "execute_result"
    }
   ],
   "source": [
    "df2.shape"
   ]
  },
  {
   "cell_type": "code",
   "execution_count": 102,
   "id": "d1e60ce8",
   "metadata": {},
   "outputs": [
    {
     "data": {
      "text/plain": [
       "TITLE            object\n",
       "RESTAURANT_ID     int64\n",
       "CUISINES         object\n",
       "TIME             object\n",
       "CITY             object\n",
       "LOCALITY         object\n",
       "RATING           object\n",
       "VOTES            object\n",
       "dtype: object"
      ]
     },
     "execution_count": 102,
     "metadata": {},
     "output_type": "execute_result"
    }
   ],
   "source": [
    "df2.dtypes"
   ]
  },
  {
   "cell_type": "code",
   "execution_count": 103,
   "id": "70b9b005",
   "metadata": {},
   "outputs": [
    {
     "name": "stdout",
     "output_type": "stream",
     "text": [
      "<class 'pandas.core.frame.DataFrame'>\n",
      "RangeIndex: 4231 entries, 0 to 4230\n",
      "Data columns (total 8 columns):\n",
      " #   Column         Non-Null Count  Dtype \n",
      "---  ------         --------------  ----- \n",
      " 0   TITLE          4231 non-null   object\n",
      " 1   RESTAURANT_ID  4231 non-null   int64 \n",
      " 2   CUISINES       4231 non-null   object\n",
      " 3   TIME           4231 non-null   object\n",
      " 4   CITY           4196 non-null   object\n",
      " 5   LOCALITY       4201 non-null   object\n",
      " 6   RATING         4229 non-null   object\n",
      " 7   VOTES          3829 non-null   object\n",
      "dtypes: int64(1), object(7)\n",
      "memory usage: 264.6+ KB\n"
     ]
    }
   ],
   "source": [
    "df2.info()"
   ]
  },
  {
   "cell_type": "markdown",
   "id": "b944d263",
   "metadata": {},
   "source": [
    "As we can see, there are 1 integer data type and 7 object data type columns.\n",
    "\n",
    "The column \"RATING\" is of object data type but it should be of float data type.\n",
    "\n",
    "The column \"VOTES\" is of object data type but it should be of integer data type."
   ]
  },
  {
   "cell_type": "code",
   "execution_count": 104,
   "id": "38fe2623",
   "metadata": {},
   "outputs": [
    {
     "data": {
      "text/plain": [
       "TITLE              0\n",
       "RESTAURANT_ID      0\n",
       "CUISINES           0\n",
       "TIME               0\n",
       "CITY              35\n",
       "LOCALITY          30\n",
       "RATING             2\n",
       "VOTES            402\n",
       "dtype: int64"
      ]
     },
     "execution_count": 104,
     "metadata": {},
     "output_type": "execute_result"
    }
   ],
   "source": [
    "#Check null values\n",
    "df2.isnull().sum()"
   ]
  },
  {
   "cell_type": "markdown",
   "id": "1d4f2419",
   "metadata": {},
   "source": [
    "We can observe that there are null values in the columns \"CITY\", \"LOCALITY\", \"RATING\" and \"VOTES\"."
   ]
  },
  {
   "cell_type": "code",
   "execution_count": 105,
   "id": "78fa346a",
   "metadata": {},
   "outputs": [
    {
     "data": {
      "image/png": "[encoded data removed]",
      "text/plain": [
       "<Figure size 640x480 with 2 Axes>"
      ]
     },
     "metadata": {},
     "output_type": "display_data"
    }
   ],
   "source": [
    "#Visulaize null values\n",
    "sns.heatmap(df2.isnull())\n",
    "plt.show()"
   ]
  },
  {
   "cell_type": "markdown",
   "id": "f53ab038",
   "metadata": {},
   "source": [
    "We can visualize the null values in the above graph."
   ]
  },
  {
   "cell_type": "code",
   "execution_count": 106,
   "id": "de895aaa",
   "metadata": {},
   "outputs": [
    {
     "name": "stdout",
     "output_type": "stream",
     "text": [
      "QUICK BITES                   1416\n",
      "CASUAL DINING                 1258\n",
      "None                           284\n",
      "CAFÉ                           223\n",
      "DESSERT PARLOR                 126\n",
      "                              ... \n",
      "CASUAL DINING,LOUNGE             1\n",
      "CLUB,FINE DINING                 1\n",
      "SWEET SHOP,DESSERT PARLOR        1\n",
      "COCKTAIL BAR,CASUAL DINING       1\n",
      "BHOJANALYA                       1\n",
      "Name: TITLE, Length: 86, dtype: int64\n",
      "\n",
      "\n",
      "15454    3\n",
      "12799    3\n",
      "7656     3\n",
      "1619     3\n",
      "11169    3\n",
      "        ..\n",
      "4318     1\n",
      "636      1\n",
      "7425     1\n",
      "3631     1\n",
      "2421     1\n",
      "Name: RESTAURANT_ID, Length: 4127, dtype: int64\n",
      "\n",
      "\n",
      "North Indian, Chinese                                 213\n",
      "North Indian                                          190\n",
      "South Indian                                          174\n",
      "Fast Food                                              78\n",
      "Chinese                                                59\n",
      "                                                     ... \n",
      "South Indian, Kerala, Chinese, North Indian             1\n",
      "North Indian, Biryani, Fast Food, Beverages             1\n",
      "Continental, Thai, Italian, Mexican, Mediterranean      1\n",
      "Desserts, Continental                                   1\n",
      "Rolls, Beverages                                        1\n",
      "Name: CUISINES, Length: 1727, dtype: int64\n",
      "\n",
      "\n",
      "11am – 11pm (Mon-Sun)                                    447\n",
      "12noon – 12midnight (Mon-Sun)                            146\n",
      "12noon – 11pm (Mon-Sun)                                  134\n",
      "11am – 12midnight (Mon-Sun)                              109\n",
      "10am – 11pm (Mon-Sun)                                     74\n",
      "                                                        ... \n",
      "12noon – 11pm (Mon-Fri),12noon – 12midnight...             1\n",
      "8:30am – 8:30pm (Mon-Sun)                                  1\n",
      "11:30am – 3:30pm, 6:45pm – 11:30pm (Mon-Sun)               1\n",
      "12noon – 10:39pm (Mon, Tue, Wed, Thu, Sat, Sun)...         1\n",
      "11am – 11:30pm (Mon, Tue, Wed, Thu, Sat, Sun), 3pm...      1\n",
      "Name: TIME, Length: 1183, dtype: int64\n",
      "\n",
      "\n",
      "Bangalore                   686\n",
      "Chennai                     681\n",
      "Hyderabad                   639\n",
      "Mumbai                      589\n",
      "Kochi                       472\n",
      "                           ... \n",
      "Thane West Thane West         1\n",
      "Mumbai 400015                 1\n",
      "Secunderabad.                 1\n",
      "Kurla (W)                     1\n",
      "Opposite Ellora Building      1\n",
      "Name: CITY, Length: 151, dtype: int64\n",
      "\n",
      "\n",
      "Kakkanad                54\n",
      "Kukatpally              54\n",
      "Whitefield              53\n",
      "Madhapur                52\n",
      "Gachibowli              50\n",
      "                        ..\n",
      "Kengeri                  1\n",
      "Ambernath                1\n",
      "Near Rammurthy Nagar     1\n",
      "Anna Nagar               1\n",
      "Perry Cross Road         1\n",
      "Name: LOCALITY, Length: 834, dtype: int64\n",
      "\n",
      "\n",
      "3.8    414\n",
      "3.9    405\n",
      "4.0    399\n",
      "3.7    351\n",
      "3.6    310\n",
      "4.1    281\n",
      "4.2    245\n",
      "NEW    223\n",
      "3.5    217\n",
      "3.4    202\n",
      "4.3    184\n",
      "-      177\n",
      "4.4    122\n",
      "3.3    120\n",
      "3.2     83\n",
      "3.1     77\n",
      "4.5     75\n",
      "3.0     59\n",
      "2.9     56\n",
      "2.8     45\n",
      "4.6     43\n",
      "2.7     40\n",
      "2.6     24\n",
      "4.7     21\n",
      "4.8     17\n",
      "2.5     16\n",
      "2.4      9\n",
      "4.9      6\n",
      "2.3      5\n",
      "2.2      2\n",
      "2.1      1\n",
      "Name: RATING, dtype: int64\n",
      "\n",
      "\n",
      "6 votes       30\n",
      "22 votes      26\n",
      "58 votes      26\n",
      "9 votes       24\n",
      "42 votes      24\n",
      "              ..\n",
      "1206 votes     1\n",
      "796 votes      1\n",
      "1720 votes     1\n",
      "734 votes      1\n",
      "1239 votes     1\n",
      "Name: VOTES, Length: 1136, dtype: int64\n",
      "\n",
      "\n"
     ]
    }
   ],
   "source": [
    "#Check the counts of unique values of each column\n",
    "for i in df2.columns:\n",
    "    print(df2[i].value_counts())\n",
    "    print(\"\\n\")"
   ]
  },
  {
   "cell_type": "markdown",
   "id": "6ff3d1f3",
   "metadata": {},
   "source": [
    "We can draw the following observations from the above:\n",
    "\n",
    "Some columns have categorical data and some have continuous data.\n",
    "\n",
    "The column \"RESTAURANT_ID\" is irrelevant. So, we will drop this column.\n",
    "\n",
    "The column \"TITLE\" contains some \"None\" values.\n",
    "\n",
    "The column \"RATING\" contains some \"NEW\" and \"-\" values.\n",
    "\n",
    "The column \"VOTES\" contains the word \"votes\" in every value which needs to be removed."
   ]
  },
  {
   "cell_type": "code",
   "execution_count": 107,
   "id": "fb334877",
   "metadata": {},
   "outputs": [
    {
     "data": {
      "text/html": [
       "<div>\n",
       "<style scoped>\n",
       "    .dataframe tbody tr th:only-of-type {\n",
       "        vertical-align: middle;\n",
       "    }\n",
       "\n",
       "    .dataframe tbody tr th {\n",
       "        vertical-align: top;\n",
       "    }\n",
       "\n",
       "    .dataframe thead th {\n",
       "        text-align: right;\n",
       "    }\n",
       "</style>\n",
       "<table border=\"1\" class=\"dataframe\">\n",
       "  <thead>\n",
       "    <tr style=\"text-align: right;\">\n",
       "      <th></th>\n",
       "      <th>TITLE</th>\n",
       "      <th>CUISINES</th>\n",
       "      <th>TIME</th>\n",
       "      <th>CITY</th>\n",
       "      <th>LOCALITY</th>\n",
       "      <th>RATING</th>\n",
       "      <th>VOTES</th>\n",
       "    </tr>\n",
       "  </thead>\n",
       "  <tbody>\n",
       "    <tr>\n",
       "      <th>0</th>\n",
       "      <td>CASUAL DINING</td>\n",
       "      <td>North Indian, Chinese, Mughlai, Kebab</td>\n",
       "      <td>12noon – 12midnight (Mon-Sun)</td>\n",
       "      <td>Noida</td>\n",
       "      <td>Sector 18</td>\n",
       "      <td>4.3</td>\n",
       "      <td>564 votes</td>\n",
       "    </tr>\n",
       "    <tr>\n",
       "      <th>1</th>\n",
       "      <td>QUICK BITES</td>\n",
       "      <td>South Indian, Fast Food, Pizza, North Indian</td>\n",
       "      <td>7am – 12:30AM (Mon-Sun)</td>\n",
       "      <td>Mumbai</td>\n",
       "      <td>Grant Road</td>\n",
       "      <td>4.2</td>\n",
       "      <td>61 votes</td>\n",
       "    </tr>\n",
       "    <tr>\n",
       "      <th>2</th>\n",
       "      <td>CASUAL DINING</td>\n",
       "      <td>North Indian, Seafood, Biryani, Chinese</td>\n",
       "      <td>11am – 11:30pm (Mon-Sun)</td>\n",
       "      <td>Mumbai</td>\n",
       "      <td>Marine Lines</td>\n",
       "      <td>3.8</td>\n",
       "      <td>350 votes</td>\n",
       "    </tr>\n",
       "    <tr>\n",
       "      <th>3</th>\n",
       "      <td>None</td>\n",
       "      <td>Biryani</td>\n",
       "      <td>9am – 10pm (Mon, Wed, Thu, Fri, Sat, Sun), 10:...</td>\n",
       "      <td>Faridabad</td>\n",
       "      <td>NIT</td>\n",
       "      <td>3.8</td>\n",
       "      <td>1445 votes</td>\n",
       "    </tr>\n",
       "    <tr>\n",
       "      <th>4</th>\n",
       "      <td>QUICK BITES</td>\n",
       "      <td>South Indian, Kerala</td>\n",
       "      <td>11am – 10pm (Mon-Sun)</td>\n",
       "      <td>Kochi</td>\n",
       "      <td>Kaloor</td>\n",
       "      <td>3.6</td>\n",
       "      <td>23 votes</td>\n",
       "    </tr>\n",
       "    <tr>\n",
       "      <th>...</th>\n",
       "      <td>...</td>\n",
       "      <td>...</td>\n",
       "      <td>...</td>\n",
       "      <td>...</td>\n",
       "      <td>...</td>\n",
       "      <td>...</td>\n",
       "      <td>...</td>\n",
       "    </tr>\n",
       "    <tr>\n",
       "      <th>4226</th>\n",
       "      <td>CASUAL DINING</td>\n",
       "      <td>North Indian, Mughlai, Chinese</td>\n",
       "      <td>11:30am – 11:30pm (Mon-Sun)</td>\n",
       "      <td>New Delhi</td>\n",
       "      <td>Punjabi Bagh</td>\n",
       "      <td>3.9</td>\n",
       "      <td>287 votes</td>\n",
       "    </tr>\n",
       "    <tr>\n",
       "      <th>4227</th>\n",
       "      <td>None</td>\n",
       "      <td>Biryani, North Indian, Sandwich, Salad, Wraps</td>\n",
       "      <td>11am – 1am (Mon-Sun)</td>\n",
       "      <td>Bangalore</td>\n",
       "      <td>HSR Layout</td>\n",
       "      <td>4.3</td>\n",
       "      <td>469 votes</td>\n",
       "    </tr>\n",
       "    <tr>\n",
       "      <th>4228</th>\n",
       "      <td>QUICK BITES</td>\n",
       "      <td>Continental, North Indian</td>\n",
       "      <td>9:30am – 10:30pm (Mon-Sun)</td>\n",
       "      <td>Faridabad</td>\n",
       "      <td>Sector 86</td>\n",
       "      <td>3.7</td>\n",
       "      <td>53 votes</td>\n",
       "    </tr>\n",
       "    <tr>\n",
       "      <th>4229</th>\n",
       "      <td>QUICK BITES</td>\n",
       "      <td>Rolls, Beverages</td>\n",
       "      <td>11am – 11:30pm (Mon, Tue, Wed, Thu, Sat, Sun),...</td>\n",
       "      <td>Kochi</td>\n",
       "      <td>Kochi</td>\n",
       "      <td>-</td>\n",
       "      <td>NaN</td>\n",
       "    </tr>\n",
       "    <tr>\n",
       "      <th>4230</th>\n",
       "      <td>QUICK BITES</td>\n",
       "      <td>Mughlai</td>\n",
       "      <td>5pm – 1am (Mon-Sun)</td>\n",
       "      <td>Bandra West</td>\n",
       "      <td>Perry Cross Road</td>\n",
       "      <td>3.7</td>\n",
       "      <td>63 votes</td>\n",
       "    </tr>\n",
       "  </tbody>\n",
       "</table>\n",
       "<p>4231 rows × 7 columns</p>\n",
       "</div>"
      ],
      "text/plain": [
       "              TITLE                                       CUISINES  \\\n",
       "0     CASUAL DINING          North Indian, Chinese, Mughlai, Kebab   \n",
       "1       QUICK BITES   South Indian, Fast Food, Pizza, North Indian   \n",
       "2     CASUAL DINING        North Indian, Seafood, Biryani, Chinese   \n",
       "3              None                                        Biryani   \n",
       "4       QUICK BITES                           South Indian, Kerala   \n",
       "...             ...                                            ...   \n",
       "4226  CASUAL DINING                 North Indian, Mughlai, Chinese   \n",
       "4227           None  Biryani, North Indian, Sandwich, Salad, Wraps   \n",
       "4228    QUICK BITES                      Continental, North Indian   \n",
       "4229    QUICK BITES                               Rolls, Beverages   \n",
       "4230    QUICK BITES                                        Mughlai   \n",
       "\n",
       "                                                   TIME         CITY  \\\n",
       "0                         12noon – 12midnight (Mon-Sun)        Noida   \n",
       "1                               7am – 12:30AM (Mon-Sun)       Mumbai   \n",
       "2                              11am – 11:30pm (Mon-Sun)       Mumbai   \n",
       "3     9am – 10pm (Mon, Wed, Thu, Fri, Sat, Sun), 10:...    Faridabad   \n",
       "4                                 11am – 10pm (Mon-Sun)        Kochi   \n",
       "...                                                 ...          ...   \n",
       "4226                        11:30am – 11:30pm (Mon-Sun)    New Delhi   \n",
       "4227                               11am – 1am (Mon-Sun)    Bangalore   \n",
       "4228                         9:30am – 10:30pm (Mon-Sun)    Faridabad   \n",
       "4229  11am – 11:30pm (Mon, Tue, Wed, Thu, Sat, Sun),...        Kochi   \n",
       "4230                                5pm – 1am (Mon-Sun)  Bandra West   \n",
       "\n",
       "              LOCALITY RATING       VOTES  \n",
       "0            Sector 18    4.3   564 votes  \n",
       "1           Grant Road    4.2    61 votes  \n",
       "2         Marine Lines    3.8   350 votes  \n",
       "3                  NIT    3.8  1445 votes  \n",
       "4               Kaloor    3.6    23 votes  \n",
       "...                ...    ...         ...  \n",
       "4226      Punjabi Bagh    3.9   287 votes  \n",
       "4227        HSR Layout    4.3   469 votes  \n",
       "4228         Sector 86    3.7    53 votes  \n",
       "4229             Kochi      -         NaN  \n",
       "4230  Perry Cross Road    3.7    63 votes  \n",
       "\n",
       "[4231 rows x 7 columns]"
      ]
     },
     "execution_count": 107,
     "metadata": {},
     "output_type": "execute_result"
    }
   ],
   "source": [
    "#Drop the irrelevant column\n",
    "df2.drop(\"RESTAURANT_ID\",axis=1,inplace=True)\n",
    "df2"
   ]
  },
  {
   "cell_type": "markdown",
   "id": "42fc1944",
   "metadata": {},
   "source": [
    "Handling the missing and wrong values"
   ]
  },
  {
   "cell_type": "code",
   "execution_count": 108,
   "id": "a31e2b97",
   "metadata": {},
   "outputs": [],
   "source": [
    "#Replace wrong values with null values\n",
    "df2['TITLE']=df2['TITLE'].replace('None',np.nan)"
   ]
  },
  {
   "cell_type": "code",
   "execution_count": 109,
   "id": "3aa7e79d",
   "metadata": {},
   "outputs": [],
   "source": [
    "#Fill the null values\n",
    "df2['TITLE']=df2['TITLE'].fillna(df2['TITLE'].mode()[0])"
   ]
  },
  {
   "cell_type": "code",
   "execution_count": 110,
   "id": "e28326e9",
   "metadata": {},
   "outputs": [],
   "source": [
    "#Replace wrong values with null values\n",
    "df2['RATING']=df2['RATING'].replace(['NEW','-'],np.nan)"
   ]
  },
  {
   "cell_type": "code",
   "execution_count": 111,
   "id": "f058546f",
   "metadata": {},
   "outputs": [
    {
     "data": {
      "text/plain": [
       "402"
      ]
     },
     "execution_count": 111,
     "metadata": {},
     "output_type": "execute_result"
    }
   ],
   "source": [
    "df2['RATING'].isnull().sum()"
   ]
  },
  {
   "cell_type": "code",
   "execution_count": 112,
   "id": "625e801e",
   "metadata": {},
   "outputs": [
    {
     "data": {
      "text/plain": [
       "dtype('float64')"
      ]
     },
     "execution_count": 112,
     "metadata": {},
     "output_type": "execute_result"
    }
   ],
   "source": [
    "#Convert from object to float data type\n",
    "df2['RATING']=df2['RATING'].astype(float)\n",
    "df2['RATING'].dtype"
   ]
  },
  {
   "cell_type": "code",
   "execution_count": 113,
   "id": "46bf8f58",
   "metadata": {},
   "outputs": [
    {
     "data": {
      "text/plain": [
       "0"
      ]
     },
     "execution_count": 113,
     "metadata": {},
     "output_type": "execute_result"
    }
   ],
   "source": [
    "#Fill the null values\n",
    "df2['RATING']=df2['RATING'].fillna(df2['RATING'].mean())\n",
    "df2['RATING'].isnull().sum()"
   ]
  },
  {
   "cell_type": "code",
   "execution_count": 114,
   "id": "23ee78aa",
   "metadata": {},
   "outputs": [
    {
     "data": {
      "text/plain": [
       "0        564\n",
       "1         61\n",
       "2        350\n",
       "3       1445\n",
       "4         23\n",
       "        ... \n",
       "4226     287\n",
       "4227     469\n",
       "4228      53\n",
       "4229     NaN\n",
       "4230      63\n",
       "Name: VOTES, Length: 4231, dtype: object"
      ]
     },
     "execution_count": 114,
     "metadata": {},
     "output_type": "execute_result"
    }
   ],
   "source": [
    "#Remove unwanted string from the column\n",
    "df2['VOTES']=df2['VOTES'].str.replace(' votes','')\n",
    "df2['VOTES']"
   ]
  },
  {
   "cell_type": "code",
   "execution_count": 116,
   "id": "192a0b9d",
   "metadata": {},
   "outputs": [
    {
     "data": {
      "text/plain": [
       "402"
      ]
     },
     "execution_count": 116,
     "metadata": {},
     "output_type": "execute_result"
    }
   ],
   "source": [
    "df2['VOTES'].isnull().sum()"
   ]
  },
  {
   "cell_type": "code",
   "execution_count": 117,
   "id": "bacd15fc",
   "metadata": {},
   "outputs": [
    {
     "data": {
      "text/plain": [
       "dtype('float64')"
      ]
     },
     "execution_count": 117,
     "metadata": {},
     "output_type": "execute_result"
    }
   ],
   "source": [
    "#Convert from object to float data type\n",
    "df2['VOTES']=df2['VOTES'].astype(float)\n",
    "df2['VOTES'].dtype"
   ]
  },
  {
   "cell_type": "code",
   "execution_count": 118,
   "id": "33372922",
   "metadata": {},
   "outputs": [
    {
     "data": {
      "text/plain": [
       "0"
      ]
     },
     "execution_count": 118,
     "metadata": {},
     "output_type": "execute_result"
    }
   ],
   "source": [
    "#Fill the null values\n",
    "df2['VOTES']=df2['VOTES'].fillna(df2['VOTES'].mean())\n",
    "df2['VOTES'].isnull().sum()"
   ]
  },
  {
   "cell_type": "code",
   "execution_count": 119,
   "id": "59fc2535",
   "metadata": {},
   "outputs": [],
   "source": [
    "#Fill the null values\n",
    "df2['CITY']=df2['CITY'].fillna(df2['CITY'].mode()[0])\n",
    "df2['LOCALITY']=df2['LOCALITY'].fillna(df2['LOCALITY'].mode()[0])"
   ]
  },
  {
   "cell_type": "code",
   "execution_count": 121,
   "id": "78ac7bfc",
   "metadata": {},
   "outputs": [
    {
     "data": {
      "text/plain": [
       "TITLE       0\n",
       "CUISINES    0\n",
       "TIME        0\n",
       "CITY        0\n",
       "LOCALITY    0\n",
       "RATING      0\n",
       "VOTES       0\n",
       "dtype: int64"
      ]
     },
     "execution_count": 121,
     "metadata": {},
     "output_type": "execute_result"
    }
   ],
   "source": [
    "#Check null values again\n",
    "df2.isnull().sum()"
   ]
  },
  {
   "cell_type": "markdown",
   "id": "3d7a46ad",
   "metadata": {},
   "source": [
    "Now, we can see that there are no null values in any of the columns."
   ]
  },
  {
   "cell_type": "code",
   "execution_count": 122,
   "id": "e6896bdc",
   "metadata": {},
   "outputs": [
    {
     "data": {
      "image/png": "[encoded data removed]",
      "text/plain": [
       "<Figure size 640x480 with 2 Axes>"
      ]
     },
     "metadata": {},
     "output_type": "display_data"
    }
   ],
   "source": [
    "#Visualize null values again\n",
    "sns.heatmap(df2.isnull())\n",
    "plt.show()"
   ]
  },
  {
   "cell_type": "markdown",
   "id": "2aef0c17",
   "metadata": {},
   "source": [
    "Now, we can clearly visualize that there are no null values in the dataset."
   ]
  },
  {
   "cell_type": "code",
   "execution_count": 123,
   "id": "003326c7",
   "metadata": {},
   "outputs": [
    {
     "name": "stdout",
     "output_type": "stream",
     "text": [
      "<class 'pandas.core.frame.DataFrame'>\n",
      "RangeIndex: 4231 entries, 0 to 4230\n",
      "Data columns (total 7 columns):\n",
      " #   Column    Non-Null Count  Dtype  \n",
      "---  ------    --------------  -----  \n",
      " 0   TITLE     4231 non-null   object \n",
      " 1   CUISINES  4231 non-null   object \n",
      " 2   TIME      4231 non-null   object \n",
      " 3   CITY      4231 non-null   object \n",
      " 4   LOCALITY  4231 non-null   object \n",
      " 5   RATING    4231 non-null   float64\n",
      " 6   VOTES     4231 non-null   float64\n",
      "dtypes: float64(2), object(5)\n",
      "memory usage: 231.5+ KB\n"
     ]
    }
   ],
   "source": [
    "df2.info()"
   ]
  },
  {
   "cell_type": "markdown",
   "id": "15de2fa4",
   "metadata": {},
   "source": [
    "We can see now that there are 2 float data type and 5 object data type columns."
   ]
  },
  {
   "cell_type": "code",
   "execution_count": 125,
   "id": "73d7a237",
   "metadata": {},
   "outputs": [
    {
     "name": "stdout",
     "output_type": "stream",
     "text": [
      "Categorical columns:  ['TITLE', 'CUISINES', 'TIME', 'CITY', 'LOCALITY']\n",
      "No. of categorical columns is  5\n",
      "\n",
      "\n",
      "Numerical columns:  ['RATING', 'VOTES']\n",
      "No. of numerical columns is  2\n"
     ]
    }
   ],
   "source": [
    "#Separate numerical and categorical columns\n",
    "categorical_col=[]\n",
    "numerical_col=[]\n",
    "for i in df2.dtypes.index:\n",
    "    if df2.dtypes[i]==\"object\":\n",
    "        categorical_col.append(i)\n",
    "    else:\n",
    "        numerical_col.append(i)\n",
    "print(\"Categorical columns: \",categorical_col)\n",
    "print(\"No. of categorical columns is \",len(categorical_col))\n",
    "print(\"\\n\")\n",
    "print(\"Numerical columns: \",numerical_col)\n",
    "print(\"No. of numerical columns is \",len(numerical_col))"
   ]
  },
  {
   "cell_type": "code",
   "execution_count": 126,
   "id": "4395c008",
   "metadata": {},
   "outputs": [
    {
     "data": {
      "text/html": [
       "<div>\n",
       "<style scoped>\n",
       "    .dataframe tbody tr th:only-of-type {\n",
       "        vertical-align: middle;\n",
       "    }\n",
       "\n",
       "    .dataframe tbody tr th {\n",
       "        vertical-align: top;\n",
       "    }\n",
       "\n",
       "    .dataframe thead th {\n",
       "        text-align: right;\n",
       "    }\n",
       "</style>\n",
       "<table border=\"1\" class=\"dataframe\">\n",
       "  <thead>\n",
       "    <tr style=\"text-align: right;\">\n",
       "      <th></th>\n",
       "      <th>RATING</th>\n",
       "      <th>VOTES</th>\n",
       "    </tr>\n",
       "  </thead>\n",
       "  <tbody>\n",
       "    <tr>\n",
       "      <th>count</th>\n",
       "      <td>4231.000000</td>\n",
       "      <td>4231.000000</td>\n",
       "    </tr>\n",
       "    <tr>\n",
       "      <th>mean</th>\n",
       "      <td>3.781536</td>\n",
       "      <td>429.769391</td>\n",
       "    </tr>\n",
       "    <tr>\n",
       "      <th>std</th>\n",
       "      <td>0.412295</td>\n",
       "      <td>790.961355</td>\n",
       "    </tr>\n",
       "    <tr>\n",
       "      <th>min</th>\n",
       "      <td>2.100000</td>\n",
       "      <td>3.000000</td>\n",
       "    </tr>\n",
       "    <tr>\n",
       "      <th>25%</th>\n",
       "      <td>3.600000</td>\n",
       "      <td>66.000000</td>\n",
       "    </tr>\n",
       "    <tr>\n",
       "      <th>50%</th>\n",
       "      <td>3.800000</td>\n",
       "      <td>214.000000</td>\n",
       "    </tr>\n",
       "    <tr>\n",
       "      <th>75%</th>\n",
       "      <td>4.000000</td>\n",
       "      <td>429.769391</td>\n",
       "    </tr>\n",
       "    <tr>\n",
       "      <th>max</th>\n",
       "      <td>4.900000</td>\n",
       "      <td>15205.000000</td>\n",
       "    </tr>\n",
       "  </tbody>\n",
       "</table>\n",
       "</div>"
      ],
      "text/plain": [
       "            RATING         VOTES\n",
       "count  4231.000000   4231.000000\n",
       "mean      3.781536    429.769391\n",
       "std       0.412295    790.961355\n",
       "min       2.100000      3.000000\n",
       "25%       3.600000     66.000000\n",
       "50%       3.800000    214.000000\n",
       "75%       4.000000    429.769391\n",
       "max       4.900000  15205.000000"
      ]
     },
     "execution_count": 126,
     "metadata": {},
     "output_type": "execute_result"
    }
   ],
   "source": [
    "#Statistical summary of numerical columns\n",
    "df2.describe()"
   ]
  },
  {
   "cell_type": "markdown",
   "id": "1f9ad61f",
   "metadata": {},
   "source": [
    "We can observe the following from the description of the dataset:\n",
    "\n",
    "There are no missing values in the columns.\n",
    "\n",
    "The mean is higher than the median for the column \"VOTES\". So, it is right skewed.\n",
    "\n",
    "The max is much bigger than 75% for the column \"VOTES\". So, it has outliers."
   ]
  },
  {
   "cell_type": "markdown",
   "id": "097146dc",
   "metadata": {},
   "source": [
    "# Data Visualization"
   ]
  },
  {
   "cell_type": "markdown",
   "id": "4e5635af",
   "metadata": {},
   "source": [
    "Univariate Analysis"
   ]
  },
  {
   "cell_type": "markdown",
   "id": "6fd4a9ea",
   "metadata": {},
   "source": [
    "Let's visualize the distribution of each variable"
   ]
  },
  {
   "cell_type": "code",
   "execution_count": 127,
   "id": "61257a00",
   "metadata": {},
   "outputs": [
    {
     "data": {
      "image/png": "[encoded data removed]",
      "text/plain": [
       "<Figure size 400x400 with 1 Axes>"
      ]
     },
     "metadata": {},
     "output_type": "display_data"
    }
   ],
   "source": [
    "#Visualize the distribution of the feature \"RATING\"\n",
    "plt.figure(figsize=(4,4))\n",
    "sns.distplot(df2['RATING'],color='m')\n",
    "plt.show()"
   ]
  },
  {
   "cell_type": "markdown",
   "id": "0850ac26",
   "metadata": {},
   "source": [
    "We can see that the feature \"RATING\" is normally distributed and there is no skewness."
   ]
  },
  {
   "cell_type": "code",
   "execution_count": 128,
   "id": "645e12d8",
   "metadata": {},
   "outputs": [
    {
     "data": {
      "image/png": "[encoded data removed]",
      "text/plain": [
       "<Figure size 400x400 with 1 Axes>"
      ]
     },
     "metadata": {},
     "output_type": "display_data"
    }
   ],
   "source": [
    "#Visualize the distribution of the feature \"VOTES\"\n",
    "plt.figure(figsize=(4,4))\n",
    "sns.distplot(df2['VOTES'],color='m')\n",
    "plt.show()"
   ]
  },
  {
   "cell_type": "markdown",
   "id": "3dcf4413",
   "metadata": {},
   "source": [
    "We can see that the feature \"VOTES\" is normally distributed and is skewed to the right."
   ]
  },
  {
   "cell_type": "markdown",
   "id": "908af4eb",
   "metadata": {},
   "source": [
    "Bivariate Analysis"
   ]
  },
  {
   "cell_type": "code",
   "execution_count": 129,
   "id": "0681bc2b",
   "metadata": {},
   "outputs": [
    {
     "data": {
      "image/png": "[encoded data removed]",
      "text/plain": [
       "<Figure size 400x400 with 1 Axes>"
      ]
     },
     "metadata": {},
     "output_type": "display_data"
    }
   ],
   "source": [
    "#Analyse the correlation between \"RATING\" and \"VOTES\"\n",
    "plt.figure(figsize=(4,4))\n",
    "sns.scatterplot(x='RATING',y='VOTES',data=df2, color='brown')\n",
    "plt.show()"
   ]
  },
  {
   "cell_type": "markdown",
   "id": "5e311bd9",
   "metadata": {},
   "source": [
    "We can observe that there is a positive correlation between \"RATING\" and \"VOTES\"."
   ]
  },
  {
   "cell_type": "markdown",
   "id": "0aad5d58",
   "metadata": {},
   "source": [
    "Checking for Outliers"
   ]
  },
  {
   "cell_type": "code",
   "execution_count": 130,
   "id": "b976c68d",
   "metadata": {},
   "outputs": [
    {
     "data": {
      "image/png": "[encoded data removed]",
      "text/plain": [
       "<Figure size 1000x400 with 2 Axes>"
      ]
     },
     "metadata": {},
     "output_type": "display_data"
    }
   ],
   "source": [
    "#Check the outliers in numerical columns\n",
    "plt.figure(figsize=(10,4),facecolor=\"white\")\n",
    "plotnumber=1\n",
    "for col in numerical_col:\n",
    "    ax=plt.subplot(1,2,plotnumber)\n",
    "    sns.boxplot(df2[col],palette=\"bright\")\n",
    "    plt.xlabel(col,fontsize=15)\n",
    "    plt.yticks(rotation=0,fontsize=10)\n",
    "    plotnumber+=1\n",
    "plt.tight_layout()"
   ]
  },
  {
   "cell_type": "markdown",
   "id": "51f76973",
   "metadata": {},
   "source": [
    "We can find outliers in both the columns \"RATING\" and \"VOTES\" and we will remove outliers from these columns using Z-Score technique."
   ]
  },
  {
   "cell_type": "code",
   "execution_count": 131,
   "id": "2bc5e70c",
   "metadata": {},
   "outputs": [],
   "source": [
    "#Remove outliers\n",
    "out_features=df2.drop(categorical_col,axis=1)\n",
    "z=np.abs(zscore(out_features))\n",
    "df3=df2[(z<3).all(axis=1)]"
   ]
  },
  {
   "cell_type": "code",
   "execution_count": 132,
   "id": "f1604e80",
   "metadata": {},
   "outputs": [
    {
     "data": {
      "text/plain": [
       "(4125, 7)"
      ]
     },
     "execution_count": 132,
     "metadata": {},
     "output_type": "execute_result"
    }
   ],
   "source": [
    "df3.shape"
   ]
  },
  {
   "cell_type": "code",
   "execution_count": 133,
   "id": "7ae0a016",
   "metadata": {},
   "outputs": [
    {
     "name": "stdout",
     "output_type": "stream",
     "text": [
      "Data loss percentage -  2.505317891751359\n"
     ]
    }
   ],
   "source": [
    "print(\"Data loss percentage - \",((df2.shape[0]-df3.shape[0])/df2.shape[0])*100)"
   ]
  },
  {
   "cell_type": "markdown",
   "id": "02170308",
   "metadata": {},
   "source": [
    "The data loss percentage is 2.5% which is less than 10% and hence acceptable."
   ]
  },
  {
   "cell_type": "markdown",
   "id": "43b43104",
   "metadata": {},
   "source": [
    "Encoding Categorical Columns"
   ]
  },
  {
   "cell_type": "code",
   "execution_count": 134,
   "id": "2992d7ec",
   "metadata": {},
   "outputs": [
    {
     "data": {
      "text/html": [
       "<div>\n",
       "<style scoped>\n",
       "    .dataframe tbody tr th:only-of-type {\n",
       "        vertical-align: middle;\n",
       "    }\n",
       "\n",
       "    .dataframe tbody tr th {\n",
       "        vertical-align: top;\n",
       "    }\n",
       "\n",
       "    .dataframe thead th {\n",
       "        text-align: right;\n",
       "    }\n",
       "</style>\n",
       "<table border=\"1\" class=\"dataframe\">\n",
       "  <thead>\n",
       "    <tr style=\"text-align: right;\">\n",
       "      <th></th>\n",
       "      <th>TITLE</th>\n",
       "      <th>CUISINES</th>\n",
       "      <th>TIME</th>\n",
       "      <th>CITY</th>\n",
       "      <th>LOCALITY</th>\n",
       "      <th>RATING</th>\n",
       "      <th>VOTES</th>\n",
       "    </tr>\n",
       "  </thead>\n",
       "  <tbody>\n",
       "    <tr>\n",
       "      <th>0</th>\n",
       "      <td>23.0</td>\n",
       "      <td>1259.0</td>\n",
       "      <td>492.0</td>\n",
       "      <td>109.0</td>\n",
       "      <td>657.0</td>\n",
       "      <td>4.300000</td>\n",
       "      <td>564.000000</td>\n",
       "    </tr>\n",
       "    <tr>\n",
       "      <th>1</th>\n",
       "      <td>72.0</td>\n",
       "      <td>1585.0</td>\n",
       "      <td>913.0</td>\n",
       "      <td>96.0</td>\n",
       "      <td>219.0</td>\n",
       "      <td>4.200000</td>\n",
       "      <td>61.000000</td>\n",
       "    </tr>\n",
       "    <tr>\n",
       "      <th>2</th>\n",
       "      <td>23.0</td>\n",
       "      <td>1416.0</td>\n",
       "      <td>215.0</td>\n",
       "      <td>96.0</td>\n",
       "      <td>408.0</td>\n",
       "      <td>3.800000</td>\n",
       "      <td>350.000000</td>\n",
       "    </tr>\n",
       "    <tr>\n",
       "      <th>3</th>\n",
       "      <td>72.0</td>\n",
       "      <td>198.0</td>\n",
       "      <td>1050.0</td>\n",
       "      <td>41.0</td>\n",
       "      <td>453.0</td>\n",
       "      <td>3.800000</td>\n",
       "      <td>1445.000000</td>\n",
       "    </tr>\n",
       "    <tr>\n",
       "      <th>4</th>\n",
       "      <td>72.0</td>\n",
       "      <td>1590.0</td>\n",
       "      <td>204.0</td>\n",
       "      <td>78.0</td>\n",
       "      <td>297.0</td>\n",
       "      <td>3.600000</td>\n",
       "      <td>23.000000</td>\n",
       "    </tr>\n",
       "    <tr>\n",
       "      <th>...</th>\n",
       "      <td>...</td>\n",
       "      <td>...</td>\n",
       "      <td>...</td>\n",
       "      <td>...</td>\n",
       "      <td>...</td>\n",
       "      <td>...</td>\n",
       "      <td>...</td>\n",
       "    </tr>\n",
       "    <tr>\n",
       "      <th>4226</th>\n",
       "      <td>23.0</td>\n",
       "      <td>1386.0</td>\n",
       "      <td>102.0</td>\n",
       "      <td>107.0</td>\n",
       "      <td>593.0</td>\n",
       "      <td>3.900000</td>\n",
       "      <td>287.000000</td>\n",
       "    </tr>\n",
       "    <tr>\n",
       "      <th>4227</th>\n",
       "      <td>72.0</td>\n",
       "      <td>255.0</td>\n",
       "      <td>258.0</td>\n",
       "      <td>9.0</td>\n",
       "      <td>235.0</td>\n",
       "      <td>4.300000</td>\n",
       "      <td>469.000000</td>\n",
       "    </tr>\n",
       "    <tr>\n",
       "      <th>4228</th>\n",
       "      <td>72.0</td>\n",
       "      <td>658.0</td>\n",
       "      <td>1031.0</td>\n",
       "      <td>41.0</td>\n",
       "      <td>691.0</td>\n",
       "      <td>3.700000</td>\n",
       "      <td>53.000000</td>\n",
       "    </tr>\n",
       "    <tr>\n",
       "      <th>4229</th>\n",
       "      <td>72.0</td>\n",
       "      <td>1496.0</td>\n",
       "      <td>211.0</td>\n",
       "      <td>78.0</td>\n",
       "      <td>329.0</td>\n",
       "      <td>3.781536</td>\n",
       "      <td>429.769391</td>\n",
       "    </tr>\n",
       "    <tr>\n",
       "      <th>4230</th>\n",
       "      <td>72.0</td>\n",
       "      <td>1115.0</td>\n",
       "      <td>763.0</td>\n",
       "      <td>8.0</td>\n",
       "      <td>576.0</td>\n",
       "      <td>3.700000</td>\n",
       "      <td>63.000000</td>\n",
       "    </tr>\n",
       "  </tbody>\n",
       "</table>\n",
       "<p>4125 rows × 7 columns</p>\n",
       "</div>"
      ],
      "text/plain": [
       "      TITLE  CUISINES    TIME   CITY  LOCALITY    RATING        VOTES\n",
       "0      23.0    1259.0   492.0  109.0     657.0  4.300000   564.000000\n",
       "1      72.0    1585.0   913.0   96.0     219.0  4.200000    61.000000\n",
       "2      23.0    1416.0   215.0   96.0     408.0  3.800000   350.000000\n",
       "3      72.0     198.0  1050.0   41.0     453.0  3.800000  1445.000000\n",
       "4      72.0    1590.0   204.0   78.0     297.0  3.600000    23.000000\n",
       "...     ...       ...     ...    ...       ...       ...          ...\n",
       "4226   23.0    1386.0   102.0  107.0     593.0  3.900000   287.000000\n",
       "4227   72.0     255.0   258.0    9.0     235.0  4.300000   469.000000\n",
       "4228   72.0     658.0  1031.0   41.0     691.0  3.700000    53.000000\n",
       "4229   72.0    1496.0   211.0   78.0     329.0  3.781536   429.769391\n",
       "4230   72.0    1115.0   763.0    8.0     576.0  3.700000    63.000000\n",
       "\n",
       "[4125 rows x 7 columns]"
      ]
     },
     "execution_count": 134,
     "metadata": {},
     "output_type": "execute_result"
    }
   ],
   "source": [
    "OE=OrdinalEncoder()\n",
    "for col in categorical_col:\n",
    "    df3[col]=OE.fit_transform(df3[col].values.reshape(-1,1))\n",
    "df3"
   ]
  },
  {
   "cell_type": "markdown",
   "id": "8d9ded52",
   "metadata": {},
   "source": [
    "Checking for Skewness"
   ]
  },
  {
   "cell_type": "code",
   "execution_count": 135,
   "id": "f673d24f",
   "metadata": {},
   "outputs": [
    {
     "data": {
      "text/plain": [
       "TITLE      -0.061408\n",
       "CUISINES   -0.214585\n",
       "TIME        0.315652\n",
       "CITY        0.069634\n",
       "LOCALITY    0.311508\n",
       "RATING     -0.468286\n",
       "VOTES       2.453118\n",
       "dtype: float64"
      ]
     },
     "execution_count": 135,
     "metadata": {},
     "output_type": "execute_result"
    }
   ],
   "source": [
    "df3.skew()"
   ]
  },
  {
   "cell_type": "markdown",
   "id": "65f75a6f",
   "metadata": {},
   "source": [
    "We can see that the column \"VOTES\" has skewness. We will remove skewness from \"VOTES\" using Yeo-Johnson transformation method."
   ]
  },
  {
   "cell_type": "code",
   "execution_count": 136,
   "id": "b39db6aa",
   "metadata": {},
   "outputs": [],
   "source": [
    "pt=PowerTransformer(method='yeo-johnson')\n",
    "df3[\"VOTES\"]=pt.fit_transform(df3[[\"VOTES\"]])"
   ]
  },
  {
   "cell_type": "code",
   "execution_count": 137,
   "id": "ddab12f7",
   "metadata": {},
   "outputs": [
    {
     "data": {
      "text/plain": [
       "TITLE      -0.061408\n",
       "CUISINES   -0.214585\n",
       "TIME        0.315652\n",
       "CITY        0.069634\n",
       "LOCALITY    0.311508\n",
       "RATING     -0.468286\n",
       "VOTES      -0.034959\n",
       "dtype: float64"
      ]
     },
     "execution_count": 137,
     "metadata": {},
     "output_type": "execute_result"
    }
   ],
   "source": [
    "#Check skewness again\n",
    "df3.skew()"
   ]
  },
  {
   "cell_type": "markdown",
   "id": "6d743ed9",
   "metadata": {},
   "source": [
    "So, we have removed the skewness from the column \"VOTES\"."
   ]
  },
  {
   "cell_type": "code",
   "execution_count": 138,
   "id": "b16acd4c",
   "metadata": {},
   "outputs": [
    {
     "name": "stdout",
     "output_type": "stream",
     "text": [
      "<class 'pandas.core.frame.DataFrame'>\n",
      "Int64Index: 4125 entries, 0 to 4230\n",
      "Data columns (total 7 columns):\n",
      " #   Column    Non-Null Count  Dtype  \n",
      "---  ------    --------------  -----  \n",
      " 0   TITLE     4125 non-null   float64\n",
      " 1   CUISINES  4125 non-null   float64\n",
      " 2   TIME      4125 non-null   float64\n",
      " 3   CITY      4125 non-null   float64\n",
      " 4   LOCALITY  4125 non-null   float64\n",
      " 5   RATING    4125 non-null   float64\n",
      " 6   VOTES     4125 non-null   float64\n",
      "dtypes: float64(7)\n",
      "memory usage: 257.8 KB\n"
     ]
    }
   ],
   "source": [
    "df3.info()"
   ]
  },
  {
   "cell_type": "markdown",
   "id": "be3c751d",
   "metadata": {},
   "source": [
    "We can observe that after encoding, the data type of categorical features have been converted from object to float."
   ]
  },
  {
   "cell_type": "code",
   "execution_count": 139,
   "id": "2fb3ef33",
   "metadata": {},
   "outputs": [
    {
     "data": {
      "text/html": [
       "<div>\n",
       "<style scoped>\n",
       "    .dataframe tbody tr th:only-of-type {\n",
       "        vertical-align: middle;\n",
       "    }\n",
       "\n",
       "    .dataframe tbody tr th {\n",
       "        vertical-align: top;\n",
       "    }\n",
       "\n",
       "    .dataframe thead th {\n",
       "        text-align: right;\n",
       "    }\n",
       "</style>\n",
       "<table border=\"1\" class=\"dataframe\">\n",
       "  <thead>\n",
       "    <tr style=\"text-align: right;\">\n",
       "      <th></th>\n",
       "      <th>TITLE</th>\n",
       "      <th>CUISINES</th>\n",
       "      <th>TIME</th>\n",
       "      <th>CITY</th>\n",
       "      <th>LOCALITY</th>\n",
       "      <th>RATING</th>\n",
       "      <th>VOTES</th>\n",
       "    </tr>\n",
       "  </thead>\n",
       "  <tbody>\n",
       "    <tr>\n",
       "      <th>count</th>\n",
       "      <td>4125.000000</td>\n",
       "      <td>4125.000000</td>\n",
       "      <td>4125.000000</td>\n",
       "      <td>4125.000000</td>\n",
       "      <td>4125.000000</td>\n",
       "      <td>4125.000000</td>\n",
       "      <td>4.125000e+03</td>\n",
       "    </tr>\n",
       "    <tr>\n",
       "      <th>mean</th>\n",
       "      <td>45.191758</td>\n",
       "      <td>901.202424</td>\n",
       "      <td>513.193697</td>\n",
       "      <td>58.208727</td>\n",
       "      <td>380.955879</td>\n",
       "      <td>3.782176</td>\n",
       "      <td>2.273737e-16</td>\n",
       "    </tr>\n",
       "    <tr>\n",
       "      <th>std</th>\n",
       "      <td>25.614150</td>\n",
       "      <td>485.797323</td>\n",
       "      <td>334.395557</td>\n",
       "      <td>38.386004</td>\n",
       "      <td>233.755532</td>\n",
       "      <td>0.390080</td>\n",
       "      <td>1.000121e+00</td>\n",
       "    </tr>\n",
       "    <tr>\n",
       "      <th>min</th>\n",
       "      <td>0.000000</td>\n",
       "      <td>0.000000</td>\n",
       "      <td>0.000000</td>\n",
       "      <td>0.000000</td>\n",
       "      <td>0.000000</td>\n",
       "      <td>2.600000</td>\n",
       "      <td>-2.361634e+00</td>\n",
       "    </tr>\n",
       "    <tr>\n",
       "      <th>25%</th>\n",
       "      <td>23.000000</td>\n",
       "      <td>469.000000</td>\n",
       "      <td>238.000000</td>\n",
       "      <td>18.000000</td>\n",
       "      <td>190.000000</td>\n",
       "      <td>3.600000</td>\n",
       "      <td>-7.695111e-01</td>\n",
       "    </tr>\n",
       "    <tr>\n",
       "      <th>50%</th>\n",
       "      <td>44.000000</td>\n",
       "      <td>982.000000</td>\n",
       "      <td>471.000000</td>\n",
       "      <td>55.000000</td>\n",
       "      <td>349.000000</td>\n",
       "      <td>3.800000</td>\n",
       "      <td>6.579639e-02</td>\n",
       "    </tr>\n",
       "    <tr>\n",
       "      <th>75%</th>\n",
       "      <td>72.000000</td>\n",
       "      <td>1284.000000</td>\n",
       "      <td>826.000000</td>\n",
       "      <td>96.000000</td>\n",
       "      <td>578.000000</td>\n",
       "      <td>4.000000</td>\n",
       "      <td>6.549906e-01</td>\n",
       "    </tr>\n",
       "    <tr>\n",
       "      <th>max</th>\n",
       "      <td>82.000000</td>\n",
       "      <td>1677.000000</td>\n",
       "      <td>1159.000000</td>\n",
       "      <td>148.000000</td>\n",
       "      <td>828.000000</td>\n",
       "      <td>4.900000</td>\n",
       "      <td>2.453123e+00</td>\n",
       "    </tr>\n",
       "  </tbody>\n",
       "</table>\n",
       "</div>"
      ],
      "text/plain": [
       "             TITLE     CUISINES         TIME         CITY     LOCALITY  \\\n",
       "count  4125.000000  4125.000000  4125.000000  4125.000000  4125.000000   \n",
       "mean     45.191758   901.202424   513.193697    58.208727   380.955879   \n",
       "std      25.614150   485.797323   334.395557    38.386004   233.755532   \n",
       "min       0.000000     0.000000     0.000000     0.000000     0.000000   \n",
       "25%      23.000000   469.000000   238.000000    18.000000   190.000000   \n",
       "50%      44.000000   982.000000   471.000000    55.000000   349.000000   \n",
       "75%      72.000000  1284.000000   826.000000    96.000000   578.000000   \n",
       "max      82.000000  1677.000000  1159.000000   148.000000   828.000000   \n",
       "\n",
       "            RATING         VOTES  \n",
       "count  4125.000000  4.125000e+03  \n",
       "mean      3.782176  2.273737e-16  \n",
       "std       0.390080  1.000121e+00  \n",
       "min       2.600000 -2.361634e+00  \n",
       "25%       3.600000 -7.695111e-01  \n",
       "50%       3.800000  6.579639e-02  \n",
       "75%       4.000000  6.549906e-01  \n",
       "max       4.900000  2.453123e+00  "
      ]
     },
     "execution_count": 139,
     "metadata": {},
     "output_type": "execute_result"
    }
   ],
   "source": [
    "#Statistical summary of numerical columns\n",
    "df3.describe()"
   ]
  },
  {
   "cell_type": "markdown",
   "id": "ad63c63a",
   "metadata": {},
   "source": [
    "We can observe that there are no missing values in any of the columns."
   ]
  },
  {
   "cell_type": "markdown",
   "id": "415ce1b5",
   "metadata": {},
   "source": [
    "The skewness in the column \"VOTES\" has been reduced as the mean is almost equal to the median and the outliers have been reduced as the max is not much bigger than 75%."
   ]
  },
  {
   "cell_type": "code",
   "execution_count": 140,
   "id": "53571536",
   "metadata": {},
   "outputs": [
    {
     "data": {
      "text/html": [
       "<div>\n",
       "<style scoped>\n",
       "    .dataframe tbody tr th:only-of-type {\n",
       "        vertical-align: middle;\n",
       "    }\n",
       "\n",
       "    .dataframe tbody tr th {\n",
       "        vertical-align: top;\n",
       "    }\n",
       "\n",
       "    .dataframe thead th {\n",
       "        text-align: right;\n",
       "    }\n",
       "</style>\n",
       "<table border=\"1\" class=\"dataframe\">\n",
       "  <thead>\n",
       "    <tr style=\"text-align: right;\">\n",
       "      <th></th>\n",
       "      <th>TITLE</th>\n",
       "      <th>CUISINES</th>\n",
       "      <th>TIME</th>\n",
       "      <th>CITY</th>\n",
       "      <th>LOCALITY</th>\n",
       "      <th>RATING</th>\n",
       "      <th>VOTES</th>\n",
       "    </tr>\n",
       "  </thead>\n",
       "  <tbody>\n",
       "    <tr>\n",
       "      <th>TITLE</th>\n",
       "      <td>1.000000</td>\n",
       "      <td>0.258768</td>\n",
       "      <td>0.056043</td>\n",
       "      <td>-0.020522</td>\n",
       "      <td>0.040260</td>\n",
       "      <td>-0.124356</td>\n",
       "      <td>-0.153031</td>\n",
       "    </tr>\n",
       "    <tr>\n",
       "      <th>CUISINES</th>\n",
       "      <td>0.258768</td>\n",
       "      <td>1.000000</td>\n",
       "      <td>0.113860</td>\n",
       "      <td>0.011382</td>\n",
       "      <td>0.026598</td>\n",
       "      <td>-0.065926</td>\n",
       "      <td>-0.016370</td>\n",
       "    </tr>\n",
       "    <tr>\n",
       "      <th>TIME</th>\n",
       "      <td>0.056043</td>\n",
       "      <td>0.113860</td>\n",
       "      <td>1.000000</td>\n",
       "      <td>0.036435</td>\n",
       "      <td>-0.017552</td>\n",
       "      <td>0.022812</td>\n",
       "      <td>-0.025185</td>\n",
       "    </tr>\n",
       "    <tr>\n",
       "      <th>CITY</th>\n",
       "      <td>-0.020522</td>\n",
       "      <td>0.011382</td>\n",
       "      <td>0.036435</td>\n",
       "      <td>1.000000</td>\n",
       "      <td>0.026501</td>\n",
       "      <td>0.048854</td>\n",
       "      <td>0.149210</td>\n",
       "    </tr>\n",
       "    <tr>\n",
       "      <th>LOCALITY</th>\n",
       "      <td>0.040260</td>\n",
       "      <td>0.026598</td>\n",
       "      <td>-0.017552</td>\n",
       "      <td>0.026501</td>\n",
       "      <td>1.000000</td>\n",
       "      <td>-0.037981</td>\n",
       "      <td>-0.024077</td>\n",
       "    </tr>\n",
       "    <tr>\n",
       "      <th>RATING</th>\n",
       "      <td>-0.124356</td>\n",
       "      <td>-0.065926</td>\n",
       "      <td>0.022812</td>\n",
       "      <td>0.048854</td>\n",
       "      <td>-0.037981</td>\n",
       "      <td>1.000000</td>\n",
       "      <td>0.523663</td>\n",
       "    </tr>\n",
       "    <tr>\n",
       "      <th>VOTES</th>\n",
       "      <td>-0.153031</td>\n",
       "      <td>-0.016370</td>\n",
       "      <td>-0.025185</td>\n",
       "      <td>0.149210</td>\n",
       "      <td>-0.024077</td>\n",
       "      <td>0.523663</td>\n",
       "      <td>1.000000</td>\n",
       "    </tr>\n",
       "  </tbody>\n",
       "</table>\n",
       "</div>"
      ],
      "text/plain": [
       "             TITLE  CUISINES      TIME      CITY  LOCALITY    RATING     VOTES\n",
       "TITLE     1.000000  0.258768  0.056043 -0.020522  0.040260 -0.124356 -0.153031\n",
       "CUISINES  0.258768  1.000000  0.113860  0.011382  0.026598 -0.065926 -0.016370\n",
       "TIME      0.056043  0.113860  1.000000  0.036435 -0.017552  0.022812 -0.025185\n",
       "CITY     -0.020522  0.011382  0.036435  1.000000  0.026501  0.048854  0.149210\n",
       "LOCALITY  0.040260  0.026598 -0.017552  0.026501  1.000000 -0.037981 -0.024077\n",
       "RATING   -0.124356 -0.065926  0.022812  0.048854 -0.037981  1.000000  0.523663\n",
       "VOTES    -0.153031 -0.016370 -0.025185  0.149210 -0.024077  0.523663  1.000000"
      ]
     },
     "execution_count": 140,
     "metadata": {},
     "output_type": "execute_result"
    }
   ],
   "source": [
    "#Check correlation between features and label\n",
    "cor=df3.corr()\n",
    "cor"
   ]
  },
  {
   "cell_type": "code",
   "execution_count": 141,
   "id": "6a2568dc",
   "metadata": {},
   "outputs": [
    {
     "data": {
      "image/png": "[encoded data removed]",
      "text/plain": [
       "<Figure size 800x800 with 2 Axes>"
      ]
     },
     "metadata": {},
     "output_type": "display_data"
    }
   ],
   "source": [
    "#Visualize the correlation between features and label\n",
    "plt.figure(figsize=(8,8))\n",
    "sns.heatmap(df3.corr(),linewidths=0.1,fmt='.1g',linecolor='black',annot=True,cmap='plasma')\n",
    "plt.yticks(rotation=0)\n",
    "plt.show()"
   ]
  },
  {
   "cell_type": "markdown",
   "id": "6870f603",
   "metadata": {},
   "source": [
    "We can observe that the features \"RATING\" and \"VOTES\" have high positive correlation with each other."
   ]
  },
  {
   "cell_type": "markdown",
   "id": "5f8861e7",
   "metadata": {},
   "source": [
    "There is no significant correlation between any other features."
   ]
  },
  {
   "cell_type": "markdown",
   "id": "a3155684",
   "metadata": {},
   "source": [
    "Feature Scaling"
   ]
  },
  {
   "cell_type": "code",
   "execution_count": 142,
   "id": "5b25b397",
   "metadata": {},
   "outputs": [
    {
     "data": {
      "text/html": [
       "<div>\n",
       "<style scoped>\n",
       "    .dataframe tbody tr th:only-of-type {\n",
       "        vertical-align: middle;\n",
       "    }\n",
       "\n",
       "    .dataframe tbody tr th {\n",
       "        vertical-align: top;\n",
       "    }\n",
       "\n",
       "    .dataframe thead th {\n",
       "        text-align: right;\n",
       "    }\n",
       "</style>\n",
       "<table border=\"1\" class=\"dataframe\">\n",
       "  <thead>\n",
       "    <tr style=\"text-align: right;\">\n",
       "      <th></th>\n",
       "      <th>TITLE</th>\n",
       "      <th>CUISINES</th>\n",
       "      <th>TIME</th>\n",
       "      <th>CITY</th>\n",
       "      <th>LOCALITY</th>\n",
       "      <th>RATING</th>\n",
       "      <th>VOTES</th>\n",
       "    </tr>\n",
       "  </thead>\n",
       "  <tbody>\n",
       "    <tr>\n",
       "      <th>0</th>\n",
       "      <td>-0.866492</td>\n",
       "      <td>0.736605</td>\n",
       "      <td>-0.063387</td>\n",
       "      <td>1.323332</td>\n",
       "      <td>1.181053</td>\n",
       "      <td>1.327643</td>\n",
       "      <td>0.890114</td>\n",
       "    </tr>\n",
       "    <tr>\n",
       "      <th>1</th>\n",
       "      <td>1.046745</td>\n",
       "      <td>1.407749</td>\n",
       "      <td>1.195754</td>\n",
       "      <td>0.984626</td>\n",
       "      <td>-0.692927</td>\n",
       "      <td>1.071254</td>\n",
       "      <td>-0.811458</td>\n",
       "    </tr>\n",
       "    <tr>\n",
       "      <th>2</th>\n",
       "      <td>-0.866492</td>\n",
       "      <td>1.059825</td>\n",
       "      <td>-0.891848</td>\n",
       "      <td>0.984626</td>\n",
       "      <td>0.115708</td>\n",
       "      <td>0.045698</td>\n",
       "      <td>0.482702</td>\n",
       "    </tr>\n",
       "    <tr>\n",
       "      <th>3</th>\n",
       "      <td>1.046745</td>\n",
       "      <td>-1.447698</td>\n",
       "      <td>1.605498</td>\n",
       "      <td>-0.448362</td>\n",
       "      <td>0.308240</td>\n",
       "      <td>0.045698</td>\n",
       "      <td>1.769384</td>\n",
       "    </tr>\n",
       "    <tr>\n",
       "      <th>4</th>\n",
       "      <td>1.046745</td>\n",
       "      <td>1.418042</td>\n",
       "      <td>-0.924747</td>\n",
       "      <td>0.515648</td>\n",
       "      <td>-0.359205</td>\n",
       "      <td>-0.467080</td>\n",
       "      <td>-1.409455</td>\n",
       "    </tr>\n",
       "    <tr>\n",
       "      <th>...</th>\n",
       "      <td>...</td>\n",
       "      <td>...</td>\n",
       "      <td>...</td>\n",
       "      <td>...</td>\n",
       "      <td>...</td>\n",
       "      <td>...</td>\n",
       "      <td>...</td>\n",
       "    </tr>\n",
       "    <tr>\n",
       "      <th>4120</th>\n",
       "      <td>-0.866492</td>\n",
       "      <td>0.998063</td>\n",
       "      <td>-1.229812</td>\n",
       "      <td>1.271223</td>\n",
       "      <td>0.907229</td>\n",
       "      <td>0.302087</td>\n",
       "      <td>0.320418</td>\n",
       "    </tr>\n",
       "    <tr>\n",
       "      <th>4121</th>\n",
       "      <td>1.046745</td>\n",
       "      <td>-1.330351</td>\n",
       "      <td>-0.763242</td>\n",
       "      <td>-1.282100</td>\n",
       "      <td>-0.624471</td>\n",
       "      <td>1.327643</td>\n",
       "      <td>0.729671</td>\n",
       "    </tr>\n",
       "    <tr>\n",
       "      <th>4122</th>\n",
       "      <td>1.046745</td>\n",
       "      <td>-0.500686</td>\n",
       "      <td>1.548672</td>\n",
       "      <td>-0.448362</td>\n",
       "      <td>1.326521</td>\n",
       "      <td>-0.210691</td>\n",
       "      <td>-0.902990</td>\n",
       "    </tr>\n",
       "    <tr>\n",
       "      <th>4123</th>\n",
       "      <td>1.046745</td>\n",
       "      <td>1.224522</td>\n",
       "      <td>-0.903811</td>\n",
       "      <td>0.515648</td>\n",
       "      <td>-0.222293</td>\n",
       "      <td>-0.001643</td>\n",
       "      <td>0.654991</td>\n",
       "    </tr>\n",
       "    <tr>\n",
       "      <th>4124</th>\n",
       "      <td>1.046745</td>\n",
       "      <td>0.440150</td>\n",
       "      <td>0.747129</td>\n",
       "      <td>-1.308154</td>\n",
       "      <td>0.834495</td>\n",
       "      <td>-0.210691</td>\n",
       "      <td>-0.790198</td>\n",
       "    </tr>\n",
       "  </tbody>\n",
       "</table>\n",
       "<p>4125 rows × 7 columns</p>\n",
       "</div>"
      ],
      "text/plain": [
       "         TITLE  CUISINES      TIME      CITY  LOCALITY    RATING     VOTES\n",
       "0    -0.866492  0.736605 -0.063387  1.323332  1.181053  1.327643  0.890114\n",
       "1     1.046745  1.407749  1.195754  0.984626 -0.692927  1.071254 -0.811458\n",
       "2    -0.866492  1.059825 -0.891848  0.984626  0.115708  0.045698  0.482702\n",
       "3     1.046745 -1.447698  1.605498 -0.448362  0.308240  0.045698  1.769384\n",
       "4     1.046745  1.418042 -0.924747  0.515648 -0.359205 -0.467080 -1.409455\n",
       "...        ...       ...       ...       ...       ...       ...       ...\n",
       "4120 -0.866492  0.998063 -1.229812  1.271223  0.907229  0.302087  0.320418\n",
       "4121  1.046745 -1.330351 -0.763242 -1.282100 -0.624471  1.327643  0.729671\n",
       "4122  1.046745 -0.500686  1.548672 -0.448362  1.326521 -0.210691 -0.902990\n",
       "4123  1.046745  1.224522 -0.903811  0.515648 -0.222293 -0.001643  0.654991\n",
       "4124  1.046745  0.440150  0.747129 -1.308154  0.834495 -0.210691 -0.790198\n",
       "\n",
       "[4125 rows x 7 columns]"
      ]
     },
     "execution_count": 142,
     "metadata": {},
     "output_type": "execute_result"
    }
   ],
   "source": [
    "from sklearn.preprocessing import StandardScaler\n",
    "scaler=StandardScaler()\n",
    "df3=pd.DataFrame(scaler.fit_transform(df3),columns=df3.columns)\n",
    "df3"
   ]
  },
  {
   "cell_type": "markdown",
   "id": "97158b13",
   "metadata": {},
   "source": [
    "Checking Variance Inflation Factor (VIF)"
   ]
  },
  {
   "cell_type": "code",
   "execution_count": 143,
   "id": "457ee4fd",
   "metadata": {},
   "outputs": [
    {
     "data": {
      "text/html": [
       "<div>\n",
       "<style scoped>\n",
       "    .dataframe tbody tr th:only-of-type {\n",
       "        vertical-align: middle;\n",
       "    }\n",
       "\n",
       "    .dataframe tbody tr th {\n",
       "        vertical-align: top;\n",
       "    }\n",
       "\n",
       "    .dataframe thead th {\n",
       "        text-align: right;\n",
       "    }\n",
       "</style>\n",
       "<table border=\"1\" class=\"dataframe\">\n",
       "  <thead>\n",
       "    <tr style=\"text-align: right;\">\n",
       "      <th></th>\n",
       "      <th>VIF Values</th>\n",
       "      <th>Features</th>\n",
       "    </tr>\n",
       "  </thead>\n",
       "  <tbody>\n",
       "    <tr>\n",
       "      <th>0</th>\n",
       "      <td>1.101109</td>\n",
       "      <td>TITLE</td>\n",
       "    </tr>\n",
       "    <tr>\n",
       "      <th>1</th>\n",
       "      <td>1.088422</td>\n",
       "      <td>CUISINES</td>\n",
       "    </tr>\n",
       "    <tr>\n",
       "      <th>2</th>\n",
       "      <td>1.019191</td>\n",
       "      <td>TIME</td>\n",
       "    </tr>\n",
       "    <tr>\n",
       "      <th>3</th>\n",
       "      <td>1.026828</td>\n",
       "      <td>CITY</td>\n",
       "    </tr>\n",
       "    <tr>\n",
       "      <th>4</th>\n",
       "      <td>1.004324</td>\n",
       "      <td>LOCALITY</td>\n",
       "    </tr>\n",
       "    <tr>\n",
       "      <th>5</th>\n",
       "      <td>1.392266</td>\n",
       "      <td>RATING</td>\n",
       "    </tr>\n",
       "    <tr>\n",
       "      <th>6</th>\n",
       "      <td>1.429282</td>\n",
       "      <td>VOTES</td>\n",
       "    </tr>\n",
       "  </tbody>\n",
       "</table>\n",
       "</div>"
      ],
      "text/plain": [
       "   VIF Values  Features\n",
       "0    1.101109     TITLE\n",
       "1    1.088422  CUISINES\n",
       "2    1.019191      TIME\n",
       "3    1.026828      CITY\n",
       "4    1.004324  LOCALITY\n",
       "5    1.392266    RATING\n",
       "6    1.429282     VOTES"
      ]
     },
     "execution_count": 143,
     "metadata": {},
     "output_type": "execute_result"
    }
   ],
   "source": [
    "#Find Variance Inflation Factor of each feature\n",
    "from statsmodels.stats.outliers_influence import variance_inflation_factor\n",
    "vif=pd.DataFrame()\n",
    "vif[\"VIF Values\"]=[variance_inflation_factor(df3.values,i) for i in range(len(df3.columns))]\n",
    "vif[\"Features\"]=df3.columns\n",
    "vif"
   ]
  },
  {
   "cell_type": "markdown",
   "id": "594c6b92",
   "metadata": {},
   "source": [
    "We can see that none of the features have VIF value greater than 10. So, we can conclude that there is no multicollinearity problem with the features and we can proceed further."
   ]
  },
  {
   "cell_type": "code",
   "execution_count": 147,
   "id": "46ec00c7",
   "metadata": {},
   "outputs": [
    {
     "data": {
      "text/plain": [
       "array([1175.272  ,  384.80392,  616.8169 , ...,  423.748  ,  407.75623,\n",
       "        557.7197 ], dtype=float32)"
      ]
     },
     "execution_count": 147,
     "metadata": {},
     "output_type": "execute_result"
    }
   ],
   "source": [
    "#Load the saved model and predict the test dataset\n",
    "loaded_model=pickle.load(open('Restaurant_Food_Cost.pkl','rb'))\n",
    "pred_values=loaded_model.predict(df3)\n",
    "pred_values"
   ]
  },
  {
   "cell_type": "code",
   "execution_count": null,
   "id": "b7f3dfd9",
   "metadata": {},
   "outputs": [],
   "source": []
  }
 ],
 "metadata": {
  "kernelspec": {
   "display_name": "Python 3 (ipykernel)",
   "language": "python",
   "name": "python3"
  },
  "language_info": {
   "codemirror_mode": {
    "name": "ipython",
    "version": 3
   },
   "file_extension": ".py",
   "mimetype": "text/x-python",
   "name": "python",
   "nbconvert_exporter": "python",
   "pygments_lexer": "ipython3",
   "version": "3.11.4"
  }
 },
 "nbformat": 4,
 "nbformat_minor": 5
}
